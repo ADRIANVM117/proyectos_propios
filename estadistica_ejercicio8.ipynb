{
  "nbformat": 4,
  "nbformat_minor": 0,
  "metadata": {
    "colab": {
      "name": "estadistica_ejercicio8.ipynb",
      "provenance": [],
      "authorship_tag": "ABX9TyMf3UGtBjKPf588Vgf66nE5",
      "include_colab_link": true
    },
    "kernelspec": {
      "name": "python3",
      "display_name": "Python 3"
    },
    "language_info": {
      "name": "python"
    }
  },
  "cells": [
    {
      "cell_type": "markdown",
      "metadata": {
        "id": "view-in-github",
        "colab_type": "text"
      },
      "source": [
        "<a href=\"https://colab.research.google.com/github/ADRIANVM117/proyectos_propios/blob/ADRIANVM117-patch-2/estadistica_ejercicio8.ipynb\" target=\"_parent\"><img src=\"https://colab.research.google.com/assets/colab-badge.svg\" alt=\"Open In Colab\"/></a>"
      ]
    },
    {
      "cell_type": "markdown",
      "source": [
        "El gerente de \"La Casa de Toño\" recientemente pidio a sus últimos 30 clientes de este mes perforaran una tarjeta de tiempo al llegar al restautant, y volvieron a perforarla al pagar su cuenta. El gerente utilizó los datos de las tarjetas para medir cuanto tiempo les tomá a él y sus meseros servir la comida y con esta información se programó sus intervalos de tiempo de espera. Se tabularon los tiempos siguientes en minutos.\n",
        "a) Construya un intervalo de confianza del 90% para estimar el tiempo promedio de un comensal, sabiendo que el número de clientes en el último mes fue de 750"
      ],
      "metadata": {
        "id": "jJTpEVthpRYB"
      }
    },
    {
      "cell_type": "code",
      "execution_count": null,
      "metadata": {
        "id": "m5WKJhQ1pFis"
      },
      "outputs": [],
      "source": [
        "import numpy as np\n",
        "from scipy import stats\n",
        "\n",
        "datos = [35,25,45,43,28,56,54,59,77,36,38,45,41,32,29,60,102,66,38,54,40,27,36,38,35,39,55,56,79,43]\n",
        "datos_l = np.array(datos)"
      ]
    },
    {
      "cell_type": "code",
      "source": [
        "mu_l = 47.03\n",
        "sigma = np.std(datos_l)\n",
        "N = 750 \n",
        "n = 30 \n",
        "\n",
        "NC = .90 \n",
        "alpha = (1- NC) / 2\n",
        "z_score = stats.norm.ppf(1-alpha)\n",
        "\n",
        "error_est_pob = (sigma / np.sqrt(n)) * (np.sqrt( (N-n)/(N-1 )  ))\n",
        "margen_error  = z_score * error_est_pob\n",
        "\n",
        "li= mu = - margen_error\n",
        "ls = mu + margen_error\n",
        "\n",
        "print(error_est_pob)\n",
        "print(mu_l)\n",
        "print(sigma)\n"
      ],
      "metadata": {
        "colab": {
          "base_uri": "https://localhost:8080/"
        },
        "id": "Ag3g5rYAqVa7",
        "outputId": "1fd6f427-1a96-42c8-ddd4-3616514e1ad5"
      },
      "execution_count": null,
      "outputs": [
        {
          "output_type": "stream",
          "name": "stdout",
          "text": [
            "3.0488618405028474\n",
            "47.03\n",
            "17.03228959620194\n"
          ]
        }
      ]
    },
    {
      "cell_type": "markdown",
      "source": [
        "Michael Gordon, un jugador profesional de basquetball, lanzó 175 tiros de castigo y encestó 144 de ellos.  \n",
        "a) Contruya un intervalo de confianza con el 99%, 98%, 95% y 90% para la proporción de todos los tiros de castigo que Michael falla (éxito).\n",
        "b) Si la media de los tiradores de la liga se encuentra dentro del 70% al 80% de tiros de castigo anotados, usted remplazaría Michael, con el NC = 90%?"
      ],
      "metadata": {
        "id": "zgMy5DoxyXHD"
      }
    },
    {
      "cell_type": "code",
      "source": [
        "N = 175 \n",
        "n = 175-144\n",
        "p = n/N  # prob de fallar \n",
        "q = 1-p\n",
        "\n",
        "overline_mu = np.sqrt((p*q)/ N)\n",
        "\n",
        "print(p)\n",
        "print(q)\n"
      ],
      "metadata": {
        "colab": {
          "base_uri": "https://localhost:8080/"
        },
        "id": "sFrbe4rlqVeV",
        "outputId": "65597fc5-1d1e-4478-d0d2-a8f7a50aee9d"
      },
      "execution_count": null,
      "outputs": [
        {
          "output_type": "stream",
          "name": "stdout",
          "text": [
            "0.17714285714285713\n",
            "0.8228571428571428\n"
          ]
        }
      ]
    },
    {
      "cell_type": "code",
      "source": [
        "from scipy import stats \n",
        "confianza = [.90, .95, .96, .98, .99]\n",
        "\n",
        "for i in confianza: \n",
        "  alpha1 = (1- i)/ 2 \n",
        "  z_score1 = stats.norm.ppf(1-alpha1)\n",
        "  margen_error = z_score1 * overline_mu\n",
        "  li = p - margen_error\n",
        "  ls = p + margen_error\n",
        "  print('Limite inferior : \\t{:.2f} % . Limite Superior : \\t{:.2f} %. Para un nivel de confianza de : \\t{} '.format(li * 100 ,ls * 100,i))"
      ],
      "metadata": {
        "colab": {
          "base_uri": "https://localhost:8080/"
        },
        "id": "Np9yTapJqVhL",
        "outputId": "7bf011a2-603b-4837-e383-f617c0eda024"
      },
      "execution_count": null,
      "outputs": [
        {
          "output_type": "stream",
          "name": "stdout",
          "text": [
            "Limite inferior : \t12.97 % . Limite Superior : \t22.46 %. Para un nivel de confianza de : \t0.9 \n",
            "Limite inferior : \t12.06 % . Limite Superior : \t23.37 %. Para un nivel de confianza de : \t0.95 \n",
            "Limite inferior : \t11.79 % . Limite Superior : \t23.64 %. Para un nivel de confianza de : \t0.96 \n",
            "Limite inferior : \t11.00 % . Limite Superior : \t24.43 %. Para un nivel de confianza de : \t0.98 \n",
            "Limite inferior : \t10.28 % . Limite Superior : \t25.15 %. Para un nivel de confianza de : \t0.99 \n"
          ]
        }
      ]
    },
    {
      "cell_type": "code",
      "source": [
        ""
      ],
      "metadata": {
        "id": "qMVoBVLyqJF1"
      },
      "execution_count": null,
      "outputs": []
    },
    {
      "cell_type": "code",
      "source": [
        ""
      ],
      "metadata": {
        "id": "AQrqengPqJJU"
      },
      "execution_count": null,
      "outputs": []
    },
    {
      "cell_type": "code",
      "source": [
        ""
      ],
      "metadata": {
        "id": "rHGsHBcGqJML"
      },
      "execution_count": null,
      "outputs": []
    }
  ]
}