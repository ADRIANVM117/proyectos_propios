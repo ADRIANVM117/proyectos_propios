{
  "nbformat": 4,
  "nbformat_minor": 0,
  "metadata": {
    "colab": {
      "provenance": [],
      "authorship_tag": "ABX9TyODKs1ybSwu+xBdVfcNAtFP",
      "include_colab_link": true
    },
    "kernelspec": {
      "name": "python3",
      "display_name": "Python 3"
    },
    "language_info": {
      "name": "python"
    }
  },
  "cells": [
    {
      "cell_type": "markdown",
      "metadata": {
        "id": "view-in-github",
        "colab_type": "text"
      },
      "source": [
        "<a href=\"https://colab.research.google.com/github/ADRIANVM117/proyectos_propios/blob/main/actuaria/regresion_lineal/practica_1/practica_1.ipynb\" target=\"_parent\"><img src=\"https://colab.research.google.com/assets/colab-badge.svg\" alt=\"Open In Colab\"/></a>"
      ]
    },
    {
      "cell_type": "code",
      "execution_count": 6,
      "metadata": {
        "id": "clu35Dz2mhzN"
      },
      "outputs": [],
      "source": [
        "#Librerias \n",
        "import pandas as pd\n",
        "import numpy as np \n",
        "import scipy as sp \n",
        "import matplotlib.pyplot as plt \n",
        "\n",
        "# Importación de datos \n",
        "url = 'https://raw.githubusercontent.com/ADRIANVM117/proyectos_propios/main/actuaria/regresion_lineal/practica_1/Practica%201%20(1).csv'\n",
        "datos =  pd.read_csv(url)\n",
        "\n",
        "# Transformamos nuestras variables a arreglos para mayor manimulación \n",
        "x = np.array(datos['X'])\n",
        "y = np.array(datos['Y'])\n",
        "matriz = np.array(datos)"
      ]
    },
    {
      "cell_type": "code",
      "source": [
        "n = np.size(x) # <--------------------- Tamaño de datos\n",
        "x_mean = np.mean(x) # <---------------- Media de x\n",
        "y_mean = np.mean(y)# <----------------- media de y\n",
        "\n",
        "sxx = np.sum(x*x) - n *x_mean*x_mean# <------ valor de sxx\n",
        "sxy = np.sum(x*y) - n *x_mean*y_mean# <------ valor de sxy\n",
        "\n",
        "b1_gorro = sxx/sxy # <------------------------ b1_gorro\n",
        "b0_gorro = y_mean-b1_gorro *x_mean # <-------- bo_gorro\n",
        "\n",
        "x_bm = b0_gorro + y*b1_gorro  # <-------------- modelo de regresion simple ajustado \n",
        "\n",
        "x_bm_sum = np.sum(x_bm)  \n",
        "\n",
        "# graficando \n",
        "plt.scatter(x,y)\n",
        "plt.grid()\n",
        "plt.show()"
      ],
      "metadata": {
        "colab": {
          "base_uri": "https://localhost:8080/",
          "height": 265
        },
        "id": "k1VVFHXipSwP",
        "outputId": "3b9cb37b-67ec-4b6e-bba4-b8ec83ee9a56"
      },
      "execution_count": 11,
      "outputs": [
        {
          "output_type": "display_data",
          "data": {
            "text/plain": [
              "<Figure size 432x288 with 1 Axes>"
            ],
            "image/png": "[encoded data removed]"
          },
          "metadata": {
            "needs_background": "light"
          }
        }
      ]
    }
  ]
}