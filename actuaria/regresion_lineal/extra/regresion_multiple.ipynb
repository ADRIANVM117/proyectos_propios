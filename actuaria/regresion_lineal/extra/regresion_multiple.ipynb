{
  "nbformat": 4,
  "nbformat_minor": 0,
  "metadata": {
    "colab": {
      "provenance": [],
      "authorship_tag": "ABX9TyM4vpqWF5moA0Vm3/Kli123",
      "include_colab_link": true
    },
    "kernelspec": {
      "name": "python3",
      "display_name": "Python 3"
    },
    "language_info": {
      "name": "python"
    }
  },
  "cells": [
    {
      "cell_type": "markdown",
      "metadata": {
        "id": "view-in-github",
        "colab_type": "text"
      },
      "source": [
        "<a href=\"https://colab.research.google.com/github/ADRIANVM117/proyectos_propios/blob/main/actuaria/regresion_lineal/extra/regresion_multiple.ipynb\" target=\"_parent\"><img src=\"https://colab.research.google.com/assets/colab-badge.svg\" alt=\"Open In Colab\"/></a>"
      ]
    },
    {
      "cell_type": "markdown",
      "source": [
        "# Regresión multiple"
      ],
      "metadata": {
        "id": "Uq7T6PXeJehk"
      }
    },
    {
      "cell_type": "markdown",
      "source": [
        "## Librerias "
      ],
      "metadata": {
        "id": "TkUrT7p0JUI0"
      }
    },
    {
      "cell_type": "code",
      "source": [
        "%pip install mlxtend --upgrade"
      ],
      "metadata": {
        "colab": {
          "base_uri": "https://localhost:8080/"
        },
        "id": "glzWw8E2Se5a",
        "outputId": "ee87bd0e-b972-4f0f-aff2-f3f6c551703e"
      },
      "execution_count": 187,
      "outputs": [
        {
          "output_type": "stream",
          "name": "stdout",
          "text": [
            "Looking in indexes: https://pypi.org/simple, https://us-python.pkg.dev/colab-wheels/public/simple/\n",
            "Requirement already satisfied: mlxtend in /usr/local/lib/python3.8/dist-packages (0.21.0)\n",
            "Requirement already satisfied: matplotlib>=3.0.0 in /usr/local/lib/python3.8/dist-packages (from mlxtend) (3.2.2)\n",
            "Requirement already satisfied: numpy>=1.16.2 in /usr/local/lib/python3.8/dist-packages (from mlxtend) (1.21.6)\n",
            "Requirement already satisfied: pandas>=0.24.2 in /usr/local/lib/python3.8/dist-packages (from mlxtend) (1.3.5)\n",
            "Requirement already satisfied: setuptools in /usr/local/lib/python3.8/dist-packages (from mlxtend) (57.4.0)\n",
            "Requirement already satisfied: scipy>=1.2.1 in /usr/local/lib/python3.8/dist-packages (from mlxtend) (1.7.3)\n",
            "Requirement already satisfied: scikit-learn>=1.0.2 in /usr/local/lib/python3.8/dist-packages (from mlxtend) (1.0.2)\n",
            "Requirement already satisfied: joblib>=0.13.2 in /usr/local/lib/python3.8/dist-packages (from mlxtend) (1.2.0)\n",
            "Requirement already satisfied: cycler>=0.10 in /usr/local/lib/python3.8/dist-packages (from matplotlib>=3.0.0->mlxtend) (0.11.0)\n",
            "Requirement already satisfied: python-dateutil>=2.1 in /usr/local/lib/python3.8/dist-packages (from matplotlib>=3.0.0->mlxtend) (2.8.2)\n",
            "Requirement already satisfied: kiwisolver>=1.0.1 in /usr/local/lib/python3.8/dist-packages (from matplotlib>=3.0.0->mlxtend) (1.4.4)\n",
            "Requirement already satisfied: pyparsing!=2.0.4,!=2.1.2,!=2.1.6,>=2.0.1 in /usr/local/lib/python3.8/dist-packages (from matplotlib>=3.0.0->mlxtend) (3.0.9)\n",
            "Requirement already satisfied: pytz>=2017.3 in /usr/local/lib/python3.8/dist-packages (from pandas>=0.24.2->mlxtend) (2022.6)\n",
            "Requirement already satisfied: six>=1.5 in /usr/local/lib/python3.8/dist-packages (from python-dateutil>=2.1->matplotlib>=3.0.0->mlxtend) (1.15.0)\n",
            "Requirement already satisfied: threadpoolctl>=2.0.0 in /usr/local/lib/python3.8/dist-packages (from scikit-learn>=1.0.2->mlxtend) (3.1.0)\n"
          ]
        }
      ]
    },
    {
      "cell_type": "code",
      "execution_count": 204,
      "metadata": {
        "colab": {
          "base_uri": "https://localhost:8080/",
          "height": 143
        },
        "id": "T_W7QgDTJa8K",
        "outputId": "8feb49e5-6b76-4ad2-fbd7-af37e484cf2c"
      },
      "outputs": [
        {
          "output_type": "execute_result",
          "data": {
            "text/plain": [
              "      X1     X2     X3     X4     X5     X6     X7      Y\n",
              "0  26.64  15.96  18.82   2.20  17.76  26.63  14.47  72.34\n",
              "1   7.05  15.40   4.44  22.84  17.54  23.59  29.99  63.09\n",
              "2   4.00  12.72  23.86   1.50  13.38  19.82  16.11  17.04"
            ],
            "text/html": [
              "\n",
              "  <div id=\"df-c48b7e5a-a0a0-4991-8249-0f0006047eda\">\n",
              "    <div class=\"colab-df-container\">\n",
              "      <div>\n",
              "<style scoped>\n",
              "    .dataframe tbody tr th:only-of-type {\n",
              "        vertical-align: middle;\n",
              "    }\n",
              "\n",
              "    .dataframe tbody tr th {\n",
              "        vertical-align: top;\n",
              "    }\n",
              "\n",
              "    .dataframe thead th {\n",
              "        text-align: right;\n",
              "    }\n",
              "</style>\n",
              "<table border=\"1\" class=\"dataframe\">\n",
              "  <thead>\n",
              "    <tr style=\"text-align: right;\">\n",
              "      <th></th>\n",
              "      <th>X1</th>\n",
              "      <th>X2</th>\n",
              "      <th>X3</th>\n",
              "      <th>X4</th>\n",
              "      <th>X5</th>\n",
              "      <th>X6</th>\n",
              "      <th>X7</th>\n",
              "      <th>Y</th>\n",
              "    </tr>\n",
              "  </thead>\n",
              "  <tbody>\n",
              "    <tr>\n",
              "      <th>0</th>\n",
              "      <td>26.64</td>\n",
              "      <td>15.96</td>\n",
              "      <td>18.82</td>\n",
              "      <td>2.20</td>\n",
              "      <td>17.76</td>\n",
              "      <td>26.63</td>\n",
              "      <td>14.47</td>\n",
              "      <td>72.34</td>\n",
              "    </tr>\n",
              "    <tr>\n",
              "      <th>1</th>\n",
              "      <td>7.05</td>\n",
              "      <td>15.40</td>\n",
              "      <td>4.44</td>\n",
              "      <td>22.84</td>\n",
              "      <td>17.54</td>\n",
              "      <td>23.59</td>\n",
              "      <td>29.99</td>\n",
              "      <td>63.09</td>\n",
              "    </tr>\n",
              "    <tr>\n",
              "      <th>2</th>\n",
              "      <td>4.00</td>\n",
              "      <td>12.72</td>\n",
              "      <td>23.86</td>\n",
              "      <td>1.50</td>\n",
              "      <td>13.38</td>\n",
              "      <td>19.82</td>\n",
              "      <td>16.11</td>\n",
              "      <td>17.04</td>\n",
              "    </tr>\n",
              "  </tbody>\n",
              "</table>\n",
              "</div>\n",
              "      <button class=\"colab-df-convert\" onclick=\"convertToInteractive('df-c48b7e5a-a0a0-4991-8249-0f0006047eda')\"\n",
              "              title=\"Convert this dataframe to an interactive table.\"\n",
              "              style=\"display:none;\">\n",
              "        \n",
              "  <svg xmlns=\"http://www.w3.org/2000/svg\" height=\"24px\"viewBox=\"0 0 24 24\"\n",
              "       width=\"24px\">\n",
              "    <path d=\"M0 0h24v24H0V0z\" fill=\"none\"/>\n",
              "    <path d=\"M18.56 5.44l.94 2.06.94-2.06 2.06-.94-2.06-.94-.94-2.06-.94 2.06-2.06.94zm-11 1L8.5 8.5l.94-2.06 2.06-.94-2.06-.94L8.5 2.5l-.94 2.06-2.06.94zm10 10l.94 2.06.94-2.06 2.06-.94-2.06-.94-.94-2.06-.94 2.06-2.06.94z\"/><path d=\"M17.41 7.96l-1.37-1.37c-.4-.4-.92-.59-1.43-.59-.52 0-1.04.2-1.43.59L10.3 9.45l-7.72 7.72c-.78.78-.78 2.05 0 2.83L4 21.41c.39.39.9.59 1.41.59.51 0 1.02-.2 1.41-.59l7.78-7.78 2.81-2.81c.8-.78.8-2.07 0-2.86zM5.41 20L4 18.59l7.72-7.72 1.47 1.35L5.41 20z\"/>\n",
              "  </svg>\n",
              "      </button>\n",
              "      \n",
              "  <style>\n",
              "    .colab-df-container {\n",
              "      display:flex;\n",
              "      flex-wrap:wrap;\n",
              "      gap: 12px;\n",
              "    }\n",
              "\n",
              "    .colab-df-convert {\n",
              "      background-color: #E8F0FE;\n",
              "      border: none;\n",
              "      border-radius: 50%;\n",
              "      cursor: pointer;\n",
              "      display: none;\n",
              "      fill: #1967D2;\n",
              "      height: 32px;\n",
              "      padding: 0 0 0 0;\n",
              "      width: 32px;\n",
              "    }\n",
              "\n",
              "    .colab-df-convert:hover {\n",
              "      background-color: #E2EBFA;\n",
              "      box-shadow: 0px 1px 2px rgba(60, 64, 67, 0.3), 0px 1px 3px 1px rgba(60, 64, 67, 0.15);\n",
              "      fill: #174EA6;\n",
              "    }\n",
              "\n",
              "    [theme=dark] .colab-df-convert {\n",
              "      background-color: #3B4455;\n",
              "      fill: #D2E3FC;\n",
              "    }\n",
              "\n",
              "    [theme=dark] .colab-df-convert:hover {\n",
              "      background-color: #434B5C;\n",
              "      box-shadow: 0px 1px 3px 1px rgba(0, 0, 0, 0.15);\n",
              "      filter: drop-shadow(0px 1px 2px rgba(0, 0, 0, 0.3));\n",
              "      fill: #FFFFFF;\n",
              "    }\n",
              "  </style>\n",
              "\n",
              "      <script>\n",
              "        const buttonEl =\n",
              "          document.querySelector('#df-c48b7e5a-a0a0-4991-8249-0f0006047eda button.colab-df-convert');\n",
              "        buttonEl.style.display =\n",
              "          google.colab.kernel.accessAllowed ? 'block' : 'none';\n",
              "\n",
              "        async function convertToInteractive(key) {\n",
              "          const element = document.querySelector('#df-c48b7e5a-a0a0-4991-8249-0f0006047eda');\n",
              "          const dataTable =\n",
              "            await google.colab.kernel.invokeFunction('convertToInteractive',\n",
              "                                                     [key], {});\n",
              "          if (!dataTable) return;\n",
              "\n",
              "          const docLinkHtml = 'Like what you see? Visit the ' +\n",
              "            '<a target=\"_blank\" href=https://colab.research.google.com/notebooks/data_table.ipynb>data table notebook</a>'\n",
              "            + ' to learn more about interactive tables.';\n",
              "          element.innerHTML = '';\n",
              "          dataTable['output_type'] = 'display_data';\n",
              "          await google.colab.output.renderOutput(dataTable, element);\n",
              "          const docLink = document.createElement('div');\n",
              "          docLink.innerHTML = docLinkHtml;\n",
              "          element.appendChild(docLink);\n",
              "        }\n",
              "      </script>\n",
              "    </div>\n",
              "  </div>\n",
              "  "
            ]
          },
          "metadata": {},
          "execution_count": 204
        }
      ],
      "source": [
        "import numpy as np \n",
        "import pandas as pd \n",
        "import scipy.stats \n",
        "from sklearn.linear_model import LinearRegression\n",
        "\n",
        "# Para este ejercicio, tomamos la muestra 1 del examen final de regresion lineal \n",
        "url = 'https://raw.githubusercontent.com/ADRIANVM117/proyectos_propios/main/actuaria/regresion_lineal/final/Muestra_final.csv'\n",
        "df = pd.read_csv(url)\n",
        "df.head(3)"
      ]
    },
    {
      "cell_type": "code",
      "source": [
        "datos=df.to_numpy()\n",
        "[n,m]=np.shape(datos)   \n",
        "\n",
        "#Generando matris disenio y matriz y\n",
        "y=np.zeros(n)\n",
        "for i in range(0,n):\n",
        "  y[i]=datos[i,m-1]\n",
        "matriz_x=np.zeros([n,m])\n",
        "for i in range(0,n):\n",
        "  matriz_x[i,0]=1\n",
        "for i in range(1,n+1):\n",
        "  for j in range(1,m):\n",
        "    matriz_x[i-1,j]=datos[i-1,j-1]"
      ],
      "metadata": {
        "id": "qnoWfI69NWf2"
      },
      "execution_count": 212,
      "outputs": []
    },
    {
      "cell_type": "markdown",
      "source": [
        "## Aproximación de parametros "
      ],
      "metadata": {
        "id": "cZK4zwrt-Fu8"
      }
    },
    {
      "cell_type": "code",
      "source": [
        "# calculo de betas \n",
        "xt=np.transpose(matriz_x)\n",
        "xtx=np.dot(xt,matriz_x)\n",
        "xtxinv=np.linalg.inv(xtx)\n",
        "xty=np.dot(xt,y)\n",
        "betas=np.dot(xtxinv,xty)\n",
        "#----------------------------------------------------\n",
        "# y_ajustadas\n",
        "y_ajustadas=np.dot(matriz_x,betas)\n",
        "#Residuales : res\n",
        "res=y-y_ajustadas\n",
        "# Suma residual de los cuadrados: SSres\n",
        "ssres=sum(res**2)\n",
        "#Media cuadratica residual : MSres\n",
        "msres=ssres/(n-m)\n",
        "# Suma de cuadrados de la regresión: SS_reg\n",
        "ss_reg=sum((y_ajustadas-np.mean(y))**2)\n",
        "# Media cuadratica de la regresión : MS_reg\n",
        "ms_reg=ss_reg/(m-1)\n",
        "# Suma residual total : SS_total\n",
        "ss_total=ssres+ss_reg\n",
        "#contando regresores \n",
        "a = matriz_x.shape\n",
        "b = a[1] -1 \n",
        "#------------------------------------------------------------------------------------\n",
        "# Significancia del modelo \n",
        "# Prueba F-test\n",
        "F = ms_reg / msres\n",
        "#  Obteniendo el F critico \n",
        "F_critico = scipy.stats.f.ppf(q=1-.05, dfn=m -1, dfd=n - m)\n",
        "F_critico\n",
        "\n",
        "# Hipotesis H0 planteada. \n",
        "if F> F_critico:\n",
        "  print('La hipotesis H0 se rechaza')\n",
        " \n",
        "else:\n",
        "  print('La hipotesis Ho se acepta')\n",
        "\n",
        "# Calculo de la significancia del modelo\n",
        "p_val=  1-scipy.stats.f.cdf(F,m-1,n-m)\n",
        "significancia_modelo=(1-p_val)*100\n",
        "\n",
        "#-----------------------------------------------------------------------------------------\n",
        "# Significancia de los regresores\n",
        "matriz_c_jj = np.zeros(m)\n",
        "# Significancia de los regresores\n",
        "# inicio una matriz de ceros del tamaño 'm' regresores\n",
        "matriz_c_jj = np.zeros(m)\n",
        "\n",
        "# Declaro un ciclo que llene mi matriz_c_jj unicamente con la diagonal de mi matriz (XT*X)-1\n",
        "for i in range(1,m):        \n",
        "  matriz_c_jj[i] = xtxinv[i,i]\n",
        "\n",
        "# Inicio una matriz de ceros para prueba t de cada regresor B_j\n",
        "matriz_t = np.zeros(m)\n",
        "for i in range(1,m):\n",
        "# matriz con las pruebas t de cada regresor B_j\n",
        "  matriz_t[i] = abs(betas[i]/ np.sqrt(matriz_c_jj[i]* msres))\n",
        "# Valor p de cada prueba t \n",
        "# Iniciamos matriz de ceros para valores p de cada prueba t\n",
        "matriz_p = np.zeros(m)\n",
        "# valores p multiplicados * 100\n",
        "matriz_p_100 = np.zeros(m)\n",
        "for i in range(1,m):\n",
        "  matriz_p[i] = 1 - (scipy.stats.t.sf(matriz_t[i], n - m))*2\n",
        "  matriz_p_100[i] = (1 -matriz_p[i])*100\n",
        "# significancia de cada regresor\n",
        "\n",
        "matriz_significancia  = np.zeros(m)\n",
        "for i in range(1,m):\n",
        "  matriz_significancia[i] = 100 - matriz_p_100[i] \n",
        "\n",
        "#quitamos el primer valor de la matriz de significancia pues este es el de la columna de 1\n",
        "matriz_significancia_completa = np.delete(matriz_significancia, 0)\n",
        "# imprimo a que coeficiente pertenece cada significancia\n",
        "#creamos un diccionario vacio\n",
        "coeficientes_ordenados = [] \n",
        "for i in  enumerate(matriz_significancia_completa):\n",
        "  coeficientes_ordenados.append(i)\n",
        "\n",
        "\n",
        "\n",
        "print(coeficientes_ordenados)\n",
        "print('Significancia del modelo: ', significancia_modelo)"
      ],
      "metadata": {
        "colab": {
          "base_uri": "https://localhost:8080/"
        },
        "id": "qohs3bD3Qi55",
        "outputId": "2bae6f64-d903-455b-e475-9d420804fca5"
      },
      "execution_count": 213,
      "outputs": [
        {
          "output_type": "stream",
          "name": "stdout",
          "text": [
            "La hipotesis H0 se rechaza\n",
            "[(0, 68.47336877371534), (1, 99.99999995035523), (2, 92.62626331733313), (3, 99.99977333912524), (4, 82.34162093932893), (5, 98.48590634594633), (6, 83.22674438290706)]\n",
            "Significancia del modelo:  99.99999928678692\n"
          ]
        }
      ]
    },
    {
      "cell_type": "markdown",
      "source": [
        "## Metodo Forward"
      ],
      "metadata": {
        "id": "WeZTC0zzBBdy"
      }
    },
    {
      "cell_type": "code",
      "source": [
        "# selecciono el regresor mas significativo y empiezo a construir el modelo \n",
        "l = [v for w, v in coeficientes_ordenados ]\n",
        "#print(max(l)\n",
        "df_1 = df.iloc[:,[1,3,5,-1]]\n",
        "datos=df_1.to_numpy()\n",
        "\n",
        "[n,m]=np.shape(datos)   \n",
        "\n",
        "#Generando matris disenio y matriz y\n",
        "y=np.zeros(n)\n",
        "for i in range(0,n):\n",
        "  y[i]=datos[i,m-1]\n",
        "matriz_x=np.zeros([n,m])\n",
        "for i in range(0,n):\n",
        "  matriz_x[i,0]=1\n",
        "for i in range(1,n+1):\n",
        "  for j in range(1,m):\n",
        "    matriz_x[i-1,j]=datos[i-1,j-1]\n",
        "# calculo de betas \n",
        "xt=np.transpose(matriz_x)\n",
        "xtx=np.dot(xt,matriz_x)\n",
        "xtxinv=np.linalg.inv(xtx)\n",
        "xty=np.dot(xt,y)\n",
        "betas=np.dot(xtxinv,xty)\n",
        "#----------------------------------------------------\n",
        "# y_ajustadas\n",
        "y_ajustadas=np.dot(matriz_x,betas)\n",
        "#Residuales : res\n",
        "res=y-y_ajustadas\n",
        "# Suma residual de los cuadrados: SSres\n",
        "ssres=sum(res**2)\n",
        "#Media cuadratica residual : MSres\n",
        "msres=ssres/(n-m)\n",
        "# Suma de cuadrados de la regresión: SS_reg\n",
        "ss_reg=sum((y_ajustadas-np.mean(y))**2)\n",
        "# Media cuadratica de la regresión : MS_reg\n",
        "ms_reg=ss_reg/(m-1)\n",
        "# Suma residual total : SS_total\n",
        "ss_total=ssres+ss_reg\n",
        "#contando regresores \n",
        "a = matriz_x.shape\n",
        "b = a[1] -1 \n",
        "#------------------------------------------------------------------------------------\n",
        "# Significancia del modelo \n",
        "# Prueba F-test\n",
        "F = ms_reg / msres\n",
        "#  Obteniendo el F critico \n",
        "F_critico = scipy.stats.f.ppf(q=1-.05, dfn=m -1, dfd=n - m)\n",
        "F_critico\n",
        "\n",
        "# Hipotesis H0 planteada. \n",
        "if F> F_critico:\n",
        "  print('La hipotesis H0 se rechaza')\n",
        " \n",
        "else:\n",
        "  print('La hipotesis Ho se acepta')\n",
        "\n",
        "# Calculo de la significancia del modelo\n",
        "p_val=  1-scipy.stats.f.cdf(F,m-1,n-m)\n",
        "significancia_modelo=(1-p_val)*100\n",
        "\n",
        "#-----------------------------------------------------------------------------------------\n",
        "# Significancia de los regresores\n",
        "matriz_c_jj = np.zeros(m)\n",
        "# Significancia de los regresores\n",
        "# inicio una matriz de ceros del tamaño 'm' regresores\n",
        "matriz_c_jj = np.zeros(m)\n",
        "\n",
        "# Declaro un ciclo que llene mi matriz_c_jj unicamente con la diagonal de mi matriz (XT*X)-1\n",
        "for i in range(1,m):        \n",
        "  matriz_c_jj[i] = xtxinv[i,i]\n",
        "\n",
        "# Inicio una matriz de ceros para prueba t de cada regresor B_j\n",
        "matriz_t = np.zeros(m)\n",
        "for i in range(1,m):\n",
        "# matriz con las pruebas t de cada regresor B_j\n",
        "  matriz_t[i] = abs(betas[i]/ np.sqrt(matriz_c_jj[i]* msres))\n",
        "# Valor p de cada prueba t \n",
        "# Iniciamos matriz de ceros para valores p de cada prueba t\n",
        "matriz_p = np.zeros(m)\n",
        "# valores p multiplicados * 100\n",
        "matriz_p_100 = np.zeros(m)\n",
        "for i in range(1,m):\n",
        "  matriz_p[i] = 1 - (scipy.stats.t.sf(matriz_t[i], n - m))*2\n",
        "  matriz_p_100[i] = (1 -matriz_p[i])*100\n",
        "# significancia de cada regresor\n",
        "\n",
        "matriz_significancia  = np.zeros(m)\n",
        "for i in range(1,m):\n",
        "  matriz_significancia[i] = 100 - matriz_p_100[i] \n",
        "\n",
        "#quitamos el primer valor de la matriz de significancia pues este es el de la columna de 1\n",
        "matriz_significancia_completa = np.delete(matriz_significancia, 0)\n",
        "# imprimo a que coeficiente pertenece cada significancia\n",
        "#creamos un diccionario vacio\n",
        "coeficientes_ordenados = [] \n",
        "for i in  enumerate(matriz_significancia_completa):\n",
        "  coeficientes_ordenados.append(i)\n",
        "\n",
        "\n",
        "\n",
        "print(coeficientes_ordenados)\n",
        "print('Significancia del modelo: ', significancia_modelo)"
      ],
      "metadata": {
        "id": "OmnZFedSgDr2",
        "colab": {
          "base_uri": "https://localhost:8080/"
        },
        "outputId": "850633d1-55b8-48a6-c57c-6ed9acc5631b"
      },
      "execution_count": 254,
      "outputs": [
        {
          "output_type": "stream",
          "name": "stdout",
          "text": [
            "La hipotesis H0 se rechaza\n",
            "[(0, 99.9999998596188), (1, 99.9978624654727), (2, 99.43536160427212)]\n",
            "Significancia del modelo:  99.99999996001661\n"
          ]
        }
      ]
    },
    {
      "cell_type": "code",
      "source": [
        "#¿Es m1 > m2?\n",
        "print( 99.99999972093407 >   99.99999996001661 )"
      ],
      "metadata": {
        "colab": {
          "base_uri": "https://localhost:8080/"
        },
        "id": "rAoY3oSMqaI0",
        "outputId": "fe25fd1b-317a-499b-db57-6109402aa1b6"
      },
      "execution_count": 255,
      "outputs": [
        {
          "output_type": "stream",
          "name": "stdout",
          "text": [
            "False\n"
          ]
        }
      ]
    },
    {
      "cell_type": "markdown",
      "source": [
        "## Backward 2"
      ],
      "metadata": {
        "id": "gt4Enh3jg4Fq"
      }
    },
    {
      "cell_type": "code",
      "source": [
        "coeficiente_menor = min(coeficientes_ordenados)\n",
        "a = np.delete(matriz_x, 0, axis=1)\n",
        "indice_coeficiente = coeficiente_menor[0]\n",
        "nueva_matriz_a_1 = np.delete(a, indice_coeficiente, axis = 1)\n",
        "nueva_matriz_a_2= np.insert(nueva_matriz_a_1, nueva_matriz_a_1.shape[1], y, 1)\n",
        "[n,m]=np.shape(nueva_matriz_a_2)   \n",
        "#Generando matris disenio y matriz y\n",
        "y=np.zeros(n)\n",
        "for i in range(0,n):\n",
        "  y[i]=nueva_matriz_a_2[i,m-1]\n",
        "matriz_x_nueva=np.zeros([n,m])\n",
        "for i in range(0,n):\n",
        "  matriz_x_nueva[i,0]=1\n",
        "for i in range(1,n+1):\n",
        "  for j in range(1,m):\n",
        "    matriz_x_nueva[i-1,j]=nueva_matriz_a_2[i-1,j-1]\n",
        "# calculo de betas \n",
        "xt=np.transpose(matriz_x_nueva)\n",
        "xtx=np.dot(xt,matriz_x_nueva)\n",
        "xtxinv=np.linalg.inv(xtx)\n",
        "xty=np.dot(xt,y)\n",
        "betas=np.dot(xtxinv,xty)\n",
        "#---------------------------------------------------------\n",
        "# y_ajustadas\n",
        "y_ajustadas=np.dot(matriz_x_nueva,betas)\n",
        "#Residuales : res\n",
        "res=y-y_ajustadas\n",
        "# Suma residual de los cuadrados: SSres\n",
        "ssres=sum(res**2)\n",
        "#Media cuadratica residual : MSres\n",
        "msres=ssres/(n-m)\n",
        "# Suma de cuadrados de la regresión: SS_reg\n",
        "ss_reg=sum((y_ajustadas-np.mean(y))**2)\n",
        "# Media cuadratica de la regresión : MS_reg\n",
        "ms_reg=ss_reg/(m-1)\n",
        "# Suma residual total : SS_total\n",
        "ss_total=ssres+ss_reg\n",
        "#contando regresores \n",
        "a = matriz_x_nueva.shape\n",
        "b = a[1] -1 \n",
        "#------------------------------------------------------------------------------------\n",
        "# Significancia del modelo \n",
        "# Prueba F-test\n",
        "F = ms_reg / msres\n",
        "# Calculo de la significancia del modelo\n",
        "p_val=  1-scipy.stats.f.cdf(F,m-1,n-m)\n",
        "significancia_modelo=(1-p_val)*100\n",
        "#-----------------------------------------------------------------------------------------\n",
        "\n",
        "# Significancia de los regresores\n",
        "# inicio una matriz de ceros del tamaño 'm' regresores\n",
        "matriz_c_jj = np.zeros(m)\n",
        "\n",
        "# Declaro un ciclo que llene mi matriz_c_jj unicamente con la diagonal de mi matriz (XT*X)-1\n",
        "for i in range(1,m):        \n",
        "  matriz_c_jj[i] = xtxinv[i,i]\n",
        "\n",
        "# Inicio una matriz de ceros para prueba t de cada regresor B_j\n",
        "matriz_t = np.zeros(m)\n",
        "for i in range(1,m):\n",
        "  # matriz con las pruebas t de cada regresor B_j\n",
        "  matriz_t[i] = abs(betas[i]/ np.sqrt(matriz_c_jj[i]* msres))\n",
        "# Valor p de cada prueba t \n",
        "# Iniciamos matriz de ceros para valores p de cada prueba t\n",
        "matriz_p = np.zeros(m)\n",
        "# valores p multiplicados * 100\n",
        "matriz_p_100 = np.zeros(m)\n",
        "for i in range(1,m):\n",
        "  matriz_p[i] = 1 - (scipy.stats.t.sf(matriz_t[i], n - m))*2\n",
        "  matriz_p_100[i] = (1 -matriz_p[i])*100\n",
        "# significancia de cada regresor\n",
        "\n",
        "matriz_significancia  = np.zeros(m)\n",
        "for i in range(1,m):\n",
        "  matriz_significancia[i] = 100 - matriz_p_100[i] \n",
        "#quitamos el primer valor de la matriz de significancia pues este es el de la columna de 1\n",
        "matriz_significancia_completa = np.delete(matriz_significancia, 0)\n",
        "# imprimo a que coeficiente pertenece cada significancia\n",
        "#creamos un diccionario vacio\n",
        "coeficientes_ordenados_1 = [] \n",
        "for i in  enumerate(matriz_significancia_completa):\n",
        "  coeficientes_ordenados_1.append(i)\n",
        "\n",
        "  \n",
        "print('Significancia del modelo: ', significancia_modelo)\n",
        "print(coeficientes_ordenados_1)\n",
        "  \n",
        "\n",
        " \n"
      ],
      "metadata": {
        "colab": {
          "base_uri": "https://localhost:8080/"
        },
        "id": "8mG1DDa08msg",
        "outputId": "9713a5eb-2239-4fbe-8271-78c61f0d1a90"
      },
      "execution_count": 214,
      "outputs": [
        {
          "output_type": "stream",
          "name": "stdout",
          "text": [
            "Significancia del modelo:  99.99999973167647\n",
            "[(0, 99.99999996204211), (1, 91.79400840704984), (2, 99.99972302644649), (3, 80.35551245909596), (4, 98.58102028917368), (5, 82.39695848969048)]\n"
          ]
        }
      ]
    },
    {
      "cell_type": "code",
      "source": [
        "# mayor significancia m1 que m2 ?\n",
        "print( 99.99999928678692 >  99.99999973167647 )"
      ],
      "metadata": {
        "colab": {
          "base_uri": "https://localhost:8080/"
        },
        "id": "JMBHw6kjTnqE",
        "outputId": "84f21bb4-af5a-4f6c-a3c6-c1490f84f0c5"
      },
      "execution_count": 209,
      "outputs": [
        {
          "output_type": "stream",
          "name": "stdout",
          "text": [
            "False\n"
          ]
        }
      ]
    },
    {
      "cell_type": "code",
      "source": [
        "# BWD MANUAL\n",
        "matriz_z = matriz_x_nueva\n",
        "a = np.delete(matriz_z, 0, axis=1)\n",
        "#aqui la posición del indice del coeficiente menor\n",
        "indice_coeficiente = coeficientes_ordenados[3]\n",
        "nueva_matriz_a_1 = np.delete(a, 3, axis = 1)\n",
        "nueva_matriz_a_2= np.insert(nueva_matriz_a_1, nueva_matriz_a_1.shape[1], y, 1)\n",
        "[n,m]=np.shape(nueva_matriz_a_2)   \n",
        "  \n",
        "#Generando matris disenio y matriz y\n",
        "y=np.zeros(n)\n",
        "for i in range(0,n):\n",
        "  y[i]=nueva_matriz_a_2[i,m-1]\n",
        "matriz_x_nueva=np.zeros([n,m])\n",
        "for i in range(0,n):\n",
        "  matriz_x_nueva[i,0]=1\n",
        "for i in range(1,n+1):\n",
        "  for j in range(1,m):\n",
        "    matriz_x_nueva[i-1,j]=nueva_matriz_a_2[i-1,j-1]\n",
        "# calculo de betas \n",
        "xt=np.transpose(matriz_x_nueva)\n",
        "xtx=np.dot(xt,matriz_x_nueva)\n",
        "xtxinv=np.linalg.inv(xtx)\n",
        "xty=np.dot(xt,y)\n",
        "betas=np.dot(xtxinv,xty)\n",
        "#---------------------------------------------------------\n",
        "# y_ajustadas\n",
        "y_ajustadas=np.dot(matriz_x_nueva,betas)\n",
        "#Residuales : res\n",
        "res=y-y_ajustadas\n",
        "# Suma residual de los cuadrados: SSres\n",
        "ssres=sum(res**2)\n",
        "#Media cuadratica residual : MSres\n",
        "msres=ssres/(n-m)\n",
        "# Suma de cuadrados de la regresión: SS_reg\n",
        "ss_reg=sum((y_ajustadas-np.mean(y))**2)\n",
        "# Media cuadratica de la regresión : MS_reg\n",
        "ms_reg=ss_reg/(m-1)\n",
        "# Suma residual total : SS_total\n",
        "ss_total=ssres+ss_reg\n",
        "#contando regresores \n",
        "a = matriz_x_nueva.shape\n",
        "b = a[1] -1 \n",
        "#------------------------------------------------------------------------------------\n",
        "# Significancia del modelo \n",
        "# Prueba F-test\n",
        "F = ms_reg / msres\n",
        "# Calculo de la significancia del modelo\n",
        "p_val=  1-scipy.stats.f.cdf(F,m-1,n-m)\n",
        "significancia_modelo=(1-p_val)*100\n",
        "#-----------------------------------------------------------------------------------------\n",
        "\n",
        "# Significancia de los regresores\n",
        "# inicio una matriz de ceros del tamaño 'm' regresores\n",
        "matriz_c_jj = np.zeros(m)\n",
        "\n",
        "# Declaro un ciclo que llene mi matriz_c_jj unicamente con la diagonal de mi matriz (XT*X)-1\n",
        "for i in range(1,m):        \n",
        "  matriz_c_jj[i] = xtxinv[i,i]\n",
        "\n",
        "# Inicio una matriz de ceros para prueba t de cada regresor B_j\n",
        "matriz_t = np.zeros(m)\n",
        "for i in range(1,m):\n",
        "  # matriz con las pruebas t de cada regresor B_j\n",
        "  matriz_t[i] = abs(betas[i]/ np.sqrt(matriz_c_jj[i]* msres))\n",
        "# Valor p de cada prueba t \n",
        "# Iniciamos matriz de ceros para valores p de cada prueba t\n",
        "matriz_p = np.zeros(m)\n",
        "# valores p multiplicados * 100\n",
        "matriz_p_100 = np.zeros(m)\n",
        "for i in range(1,m):\n",
        "  matriz_p[i] = 1 - (scipy.stats.t.sf(matriz_t[i], n - m))*2\n",
        "  matriz_p_100[i] = (1 -matriz_p[i])*100\n",
        "# significancia de cada regresor\n",
        "\n",
        "matriz_significancia  = np.zeros(m)\n",
        "for i in range(1,m):\n",
        "  matriz_significancia[i] = 100 - matriz_p_100[i] \n",
        "#quitamos el primer valor de la matriz de significancia pues este es el de la columna de 1\n",
        "matriz_significancia_completa = np.delete(matriz_significancia, 0)\n",
        "# imprimo a que coeficiente pertenece cada significancia\n",
        "#creamos un diccionario vacio\n",
        "coeficientes_ordenados_1 = [] \n",
        "for i in  enumerate(matriz_significancia_completa):\n",
        "  coeficientes_ordenados_1.append(i)\n",
        "\n",
        "  \n",
        "print('Significancia del modelo: ', significancia_modelo)\n",
        "print(coeficientes_ordenados_1)\n",
        "  "
      ],
      "metadata": {
        "colab": {
          "base_uri": "https://localhost:8080/"
        },
        "id": "pqxWTc4wHIvg",
        "outputId": "4a777112-c7a4-4c34-d8d9-84f8f373ad28"
      },
      "execution_count": 215,
      "outputs": [
        {
          "output_type": "stream",
          "name": "stdout",
          "text": [
            "Significancia del modelo:  99.99999987109942\n",
            "[(0, 99.99999995401218), (1, 84.99830824444024), (2, 99.99956052933541), (3, 99.05536084171446), (4, 87.34855264284138)]\n"
          ]
        }
      ]
    },
    {
      "cell_type": "code",
      "source": [
        "print( 99.99999973167647 >  99.99999987109942)"
      ],
      "metadata": {
        "colab": {
          "base_uri": "https://localhost:8080/"
        },
        "id": "snafox0lTVo-",
        "outputId": "b895ef8c-c566-4b4e-d8df-ca522bc693e1"
      },
      "execution_count": 216,
      "outputs": [
        {
          "output_type": "stream",
          "name": "stdout",
          "text": [
            "False\n"
          ]
        }
      ]
    },
    {
      "cell_type": "markdown",
      "source": [
        "## ¿Cumplira con los supuestos de regresión dicho modelo? "
      ],
      "metadata": {
        "id": "M2SFjogquYQ0"
      }
    },
    {
      "cell_type": "code",
      "source": [
        "# BWD MANUAL\n",
        "matriz_z = matriz_x_nueva\n",
        "a = np.delete(matriz_z, 0, axis=1)\n",
        "#aqui la posición del indice del coeficiente menor\n",
        "indice_coeficiente = coeficientes_ordenados[1]\n",
        "nueva_matriz_a_1 = np.delete(a, 3, axis = 1)\n",
        "nueva_matriz_a_2= np.insert(nueva_matriz_a_1, nueva_matriz_a_1.shape[1], y, 1)\n",
        "[n,m]=np.shape(nueva_matriz_a_2)   \n",
        "  \n",
        "#Generando matris disenio y matriz y\n",
        "y=np.zeros(n)\n",
        "for i in range(0,n):\n",
        "  y[i]=nueva_matriz_a_2[i,m-1]\n",
        "matriz_x_nueva=np.zeros([n,m])\n",
        "for i in range(0,n):\n",
        "  matriz_x_nueva[i,0]=1\n",
        "for i in range(1,n+1):\n",
        "  for j in range(1,m):\n",
        "    matriz_x_nueva[i-1,j]=nueva_matriz_a_2[i-1,j-1]\n",
        "# calculo de betas \n",
        "xt=np.transpose(matriz_x_nueva)\n",
        "xtx=np.dot(xt,matriz_x_nueva)\n",
        "xtxinv=np.linalg.inv(xtx)\n",
        "xty=np.dot(xt,y)\n",
        "betas=np.dot(xtxinv,xty)\n",
        "#---------------------------------------------------------\n",
        "# y_ajustadas\n",
        "y_ajustadas=np.dot(matriz_x_nueva,betas)\n",
        "#Residuales : res\n",
        "res=y-y_ajustadas\n",
        "# Suma residual de los cuadrados: SSres\n",
        "ssres=sum(res**2)\n",
        "#Media cuadratica residual : MSres\n",
        "msres=ssres/(n-m)\n",
        "# Suma de cuadrados de la regresión: SS_reg\n",
        "ss_reg=sum((y_ajustadas-np.mean(y))**2)\n",
        "# Media cuadratica de la regresión : MS_reg\n",
        "ms_reg=ss_reg/(m-1)\n",
        "# Suma residual total : SS_total\n",
        "ss_total=ssres+ss_reg\n",
        "#contando regresores \n",
        "a = matriz_x_nueva.shape\n",
        "b = a[1] -1 \n",
        "#------------------------------------------------------------------------------------\n",
        "# Significancia del modelo \n",
        "# Prueba F-test\n",
        "F = ms_reg / msres\n",
        "# Calculo de la significancia del modelo\n",
        "p_val=  1-scipy.stats.f.cdf(F,m-1,n-m)\n",
        "significancia_modelo=(1-p_val)*100\n",
        "#-----------------------------------------------------------------------------------------\n",
        "\n",
        "# Significancia de los regresores\n",
        "# inicio una matriz de ceros del tamaño 'm' regresores\n",
        "matriz_c_jj = np.zeros(m)\n",
        "\n",
        "# Declaro un ciclo que llene mi matriz_c_jj unicamente con la diagonal de mi matriz (XT*X)-1\n",
        "for i in range(1,m):        \n",
        "  matriz_c_jj[i] = xtxinv[i,i]\n",
        "\n",
        "# Inicio una matriz de ceros para prueba t de cada regresor B_j\n",
        "matriz_t = np.zeros(m)\n",
        "for i in range(1,m):\n",
        "  # matriz con las pruebas t de cada regresor B_j\n",
        "  matriz_t[i] = abs(betas[i]/ np.sqrt(matriz_c_jj[i]* msres))\n",
        "# Valor p de cada prueba t \n",
        "# Iniciamos matriz de ceros para valores p de cada prueba t\n",
        "matriz_p = np.zeros(m)\n",
        "# valores p multiplicados * 100\n",
        "matriz_p_100 = np.zeros(m)\n",
        "for i in range(1,m):\n",
        "  matriz_p[i] = 1 - (scipy.stats.t.sf(matriz_t[i], n - m))*2\n",
        "  matriz_p_100[i] = (1 -matriz_p[i])*100\n",
        "# significancia de cada regresor\n",
        "\n",
        "matriz_significancia  = np.zeros(m)\n",
        "for i in range(1,m):\n",
        "  matriz_significancia[i] = 100 - matriz_p_100[i] \n",
        "#quitamos el primer valor de la matriz de significancia pues este es el de la columna de 1\n",
        "matriz_significancia_completa = np.delete(matriz_significancia, 0)\n",
        "# imprimo a que coeficiente pertenece cada significancia\n",
        "#creamos un diccionario vacio\n",
        "coeficientes_ordenados_1 = [] \n",
        "for i in  enumerate(matriz_significancia_completa):\n",
        "  coeficientes_ordenados_1.append(i)\n",
        "\n",
        "  \n",
        "print('Significancia del modelo: ', significancia_modelo)\n",
        "print(coeficientes_ordenados_1)\n",
        "  "
      ],
      "metadata": {
        "colab": {
          "base_uri": "https://localhost:8080/"
        },
        "id": "ANfXarOxOlCF",
        "outputId": "c43a99ab-ed15-4bfb-fb89-55ae5106bb9a"
      },
      "execution_count": 217,
      "outputs": [
        {
          "output_type": "stream",
          "name": "stdout",
          "text": [
            "Significancia del modelo:  99.99999926431245\n",
            "[(0, 99.9999990673282), (1, 90.4229794141866), (2, 99.9997653776481), (3, 86.94440095352755)]\n"
          ]
        }
      ]
    },
    {
      "cell_type": "code",
      "source": [
        " print( 99.99999987109942 > 99.99999926431245)"
      ],
      "metadata": {
        "colab": {
          "base_uri": "https://localhost:8080/"
        },
        "id": "6wHJBEsaO5HM",
        "outputId": "0b85b920-3b40-4c6c-f522-8eadb523a4c9"
      },
      "execution_count": 218,
      "outputs": [
        {
          "output_type": "stream",
          "name": "stdout",
          "text": [
            "True\n"
          ]
        }
      ]
    },
    {
      "cell_type": "markdown",
      "source": [
        "- FIN "
      ],
      "metadata": {
        "id": "15dty1rJikc3"
      }
    },
    {
      "cell_type": "markdown",
      "source": [
        "# Analisis residual "
      ],
      "metadata": {
        "id": "ff8QS3XtOBHh"
      }
    },
    {
      "cell_type": "code",
      "source": [],
      "metadata": {
        "id": "gXCco0iVuVbH"
      },
      "execution_count": null,
      "outputs": []
    }
  ]
}