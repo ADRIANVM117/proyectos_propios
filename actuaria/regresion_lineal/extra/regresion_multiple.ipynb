{
  "nbformat": 4,
  "nbformat_minor": 0,
  "metadata": {
    "colab": {
      "provenance": [],
      "authorship_tag": "ABX9TyOSTfzoOI8XpLv/GPdKv3GN",
      "include_colab_link": true
    },
    "kernelspec": {
      "name": "python3",
      "display_name": "Python 3"
    },
    "language_info": {
      "name": "python"
    }
  },
  "cells": [
    {
      "cell_type": "markdown",
      "metadata": {
        "id": "view-in-github",
        "colab_type": "text"
      },
      "source": [
        "<a href=\"https://colab.research.google.com/github/ADRIANVM117/proyectos_propios/blob/main/actuaria/regresion_lineal/extra/regresion_multiple.ipynb\" target=\"_parent\"><img src=\"https://colab.research.google.com/assets/colab-badge.svg\" alt=\"Open In Colab\"/></a>"
      ]
    },
    {
      "cell_type": "markdown",
      "source": [
        "# Regresión multiple"
      ],
      "metadata": {
        "id": "Uq7T6PXeJehk"
      }
    },
    {
      "cell_type": "code",
      "execution_count": 12,
      "metadata": {
        "colab": {
          "base_uri": "https://localhost:8080/",
          "height": 112
        },
        "id": "T_W7QgDTJa8K",
        "outputId": "d7a46082-5d59-40db-b2c3-2f466990dff2"
      },
      "outputs": [
        {
          "output_type": "execute_result",
          "data": {
            "text/plain": [
              "      X1     X2     X3     X4     X5     X6     X7      Y\n",
              "0  26.64  15.96  18.82   2.20  17.76  26.63  14.47  72.34\n",
              "1   7.05  15.40   4.44  22.84  17.54  23.59  29.99  63.09"
            ],
            "text/html": [
              "\n",
              "  <div id=\"df-8b7a37ed-aa0c-4826-8820-b33b0a469a6a\">\n",
              "    <div class=\"colab-df-container\">\n",
              "      <div>\n",
              "<style scoped>\n",
              "    .dataframe tbody tr th:only-of-type {\n",
              "        vertical-align: middle;\n",
              "    }\n",
              "\n",
              "    .dataframe tbody tr th {\n",
              "        vertical-align: top;\n",
              "    }\n",
              "\n",
              "    .dataframe thead th {\n",
              "        text-align: right;\n",
              "    }\n",
              "</style>\n",
              "<table border=\"1\" class=\"dataframe\">\n",
              "  <thead>\n",
              "    <tr style=\"text-align: right;\">\n",
              "      <th></th>\n",
              "      <th>X1</th>\n",
              "      <th>X2</th>\n",
              "      <th>X3</th>\n",
              "      <th>X4</th>\n",
              "      <th>X5</th>\n",
              "      <th>X6</th>\n",
              "      <th>X7</th>\n",
              "      <th>Y</th>\n",
              "    </tr>\n",
              "  </thead>\n",
              "  <tbody>\n",
              "    <tr>\n",
              "      <th>0</th>\n",
              "      <td>26.64</td>\n",
              "      <td>15.96</td>\n",
              "      <td>18.82</td>\n",
              "      <td>2.20</td>\n",
              "      <td>17.76</td>\n",
              "      <td>26.63</td>\n",
              "      <td>14.47</td>\n",
              "      <td>72.34</td>\n",
              "    </tr>\n",
              "    <tr>\n",
              "      <th>1</th>\n",
              "      <td>7.05</td>\n",
              "      <td>15.40</td>\n",
              "      <td>4.44</td>\n",
              "      <td>22.84</td>\n",
              "      <td>17.54</td>\n",
              "      <td>23.59</td>\n",
              "      <td>29.99</td>\n",
              "      <td>63.09</td>\n",
              "    </tr>\n",
              "  </tbody>\n",
              "</table>\n",
              "</div>\n",
              "      <button class=\"colab-df-convert\" onclick=\"convertToInteractive('df-8b7a37ed-aa0c-4826-8820-b33b0a469a6a')\"\n",
              "              title=\"Convert this dataframe to an interactive table.\"\n",
              "              style=\"display:none;\">\n",
              "        \n",
              "  <svg xmlns=\"http://www.w3.org/2000/svg\" height=\"24px\"viewBox=\"0 0 24 24\"\n",
              "       width=\"24px\">\n",
              "    <path d=\"M0 0h24v24H0V0z\" fill=\"none\"/>\n",
              "    <path d=\"M18.56 5.44l.94 2.06.94-2.06 2.06-.94-2.06-.94-.94-2.06-.94 2.06-2.06.94zm-11 1L8.5 8.5l.94-2.06 2.06-.94-2.06-.94L8.5 2.5l-.94 2.06-2.06.94zm10 10l.94 2.06.94-2.06 2.06-.94-2.06-.94-.94-2.06-.94 2.06-2.06.94z\"/><path d=\"M17.41 7.96l-1.37-1.37c-.4-.4-.92-.59-1.43-.59-.52 0-1.04.2-1.43.59L10.3 9.45l-7.72 7.72c-.78.78-.78 2.05 0 2.83L4 21.41c.39.39.9.59 1.41.59.51 0 1.02-.2 1.41-.59l7.78-7.78 2.81-2.81c.8-.78.8-2.07 0-2.86zM5.41 20L4 18.59l7.72-7.72 1.47 1.35L5.41 20z\"/>\n",
              "  </svg>\n",
              "      </button>\n",
              "      \n",
              "  <style>\n",
              "    .colab-df-container {\n",
              "      display:flex;\n",
              "      flex-wrap:wrap;\n",
              "      gap: 12px;\n",
              "    }\n",
              "\n",
              "    .colab-df-convert {\n",
              "      background-color: #E8F0FE;\n",
              "      border: none;\n",
              "      border-radius: 50%;\n",
              "      cursor: pointer;\n",
              "      display: none;\n",
              "      fill: #1967D2;\n",
              "      height: 32px;\n",
              "      padding: 0 0 0 0;\n",
              "      width: 32px;\n",
              "    }\n",
              "\n",
              "    .colab-df-convert:hover {\n",
              "      background-color: #E2EBFA;\n",
              "      box-shadow: 0px 1px 2px rgba(60, 64, 67, 0.3), 0px 1px 3px 1px rgba(60, 64, 67, 0.15);\n",
              "      fill: #174EA6;\n",
              "    }\n",
              "\n",
              "    [theme=dark] .colab-df-convert {\n",
              "      background-color: #3B4455;\n",
              "      fill: #D2E3FC;\n",
              "    }\n",
              "\n",
              "    [theme=dark] .colab-df-convert:hover {\n",
              "      background-color: #434B5C;\n",
              "      box-shadow: 0px 1px 3px 1px rgba(0, 0, 0, 0.15);\n",
              "      filter: drop-shadow(0px 1px 2px rgba(0, 0, 0, 0.3));\n",
              "      fill: #FFFFFF;\n",
              "    }\n",
              "  </style>\n",
              "\n",
              "      <script>\n",
              "        const buttonEl =\n",
              "          document.querySelector('#df-8b7a37ed-aa0c-4826-8820-b33b0a469a6a button.colab-df-convert');\n",
              "        buttonEl.style.display =\n",
              "          google.colab.kernel.accessAllowed ? 'block' : 'none';\n",
              "\n",
              "        async function convertToInteractive(key) {\n",
              "          const element = document.querySelector('#df-8b7a37ed-aa0c-4826-8820-b33b0a469a6a');\n",
              "          const dataTable =\n",
              "            await google.colab.kernel.invokeFunction('convertToInteractive',\n",
              "                                                     [key], {});\n",
              "          if (!dataTable) return;\n",
              "\n",
              "          const docLinkHtml = 'Like what you see? Visit the ' +\n",
              "            '<a target=\"_blank\" href=https://colab.research.google.com/notebooks/data_table.ipynb>data table notebook</a>'\n",
              "            + ' to learn more about interactive tables.';\n",
              "          element.innerHTML = '';\n",
              "          dataTable['output_type'] = 'display_data';\n",
              "          await google.colab.output.renderOutput(dataTable, element);\n",
              "          const docLink = document.createElement('div');\n",
              "          docLink.innerHTML = docLinkHtml;\n",
              "          element.appendChild(docLink);\n",
              "        }\n",
              "      </script>\n",
              "    </div>\n",
              "  </div>\n",
              "  "
            ]
          },
          "metadata": {},
          "execution_count": 12
        }
      ],
      "source": [
        "import numpy as np \n",
        "import pandas as pd \n",
        "\n",
        "# Para este ejercicio, tomamos la muestra 1 del examen final de regresion lineal \n",
        "url = 'https://raw.githubusercontent.com/ADRIANVM117/proyectos_propios/main/actuaria/regresion_lineal/final/Muestra_final.csv'\n",
        "df = pd.read_csv(url)\n",
        "df.head(2)"
      ]
    },
    {
      "cell_type": "code",
      "source": [
        "datos=df.to_numpy()\n",
        "[n,m]=np.shape(datos)   \n",
        "\n",
        "#Generando matris disenio y matriz y\n",
        "y=np.zeros(n)\n",
        "for i in range(0,n):\n",
        "    y[i]=datos[i,m-1]\n",
        "matriz_x=np.zeros([n,m])\n",
        "for i in range(0,n):\n",
        "  matriz_x[i,0]=1\n",
        "for i in range(1,n+1):\n",
        "  for j in range(1,m):\n",
        "    matriz_x[i-1,j]=datos[i-1,j-1]"
      ],
      "metadata": {
        "id": "qnoWfI69NWf2"
      },
      "execution_count": 16,
      "outputs": []
    },
    {
      "cell_type": "markdown",
      "source": [
        "## Aproximación de parametros "
      ],
      "metadata": {
        "id": "cZK4zwrt-Fu8"
      }
    },
    {
      "cell_type": "code",
      "source": [
        "# y_ajustadas\n",
        "y_ajustadas=np.dot(x,betas)\n",
        "#Residuales : res\n",
        "res=y-y_ajustadas\n",
        "# Suma residual de los cuadrados: SSres\n",
        "ssres=sum(res**2)\n",
        "#Media cuadratica residual : MSres\n",
        "msres=ssres/(n-m)\n",
        "# Suma de cuadrados de la regresión: SS_reg\n",
        "ss_reg=sum((y_ajustadas-np.mean(y))**2)\n",
        "# Media cuadratica de la regresión : MS_reg\n",
        "ms_reg=ssr/(m-1)\n",
        "# Suma residual total : SS_total\n",
        "ss_total=ssres+ssr\n",
        "#contando regresores \n",
        "a = x.shape\n",
        "b = a[1] -1 \n",
        "#------------------------------------------------------------------------------------\n",
        "# Significancia del modelo \n",
        "# Prueba F\n",
        "F = msr_reg / msres\n"
      ],
      "metadata": {
        "id": "qohs3bD3Qi55"
      },
      "execution_count": null,
      "outputs": []
    }
  ]
}