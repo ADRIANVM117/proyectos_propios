{
  "nbformat": 4,
  "nbformat_minor": 0,
  "metadata": {
    "colab": {
      "provenance": [],
      "toc_visible": true,
      "authorship_tag": "ABX9TyPHvGAt5jvp8sYkvYyxvp7n",
      "include_colab_link": true
    },
    "kernelspec": {
      "name": "python3",
      "display_name": "Python 3"
    },
    "language_info": {
      "name": "python"
    }
  },
  "cells": [
    {
      "cell_type": "markdown",
      "metadata": {
        "id": "view-in-github",
        "colab_type": "text"
      },
      "source": [
        "<a href=\"https://colab.research.google.com/github/ADRIANVM117/proyectos_propios/blob/main/actuaria/metodos_numericos/metodos_numericos_2p.ipynb\" target=\"_parent\"><img src=\"https://colab.research.google.com/assets/colab-badge.svg\" alt=\"Open In Colab\"/></a>"
      ]
    },
    {
      "cell_type": "markdown",
      "source": [
        "# 2do Parcial"
      ],
      "metadata": {
        "id": "d1Xlso2xxIb8"
      }
    },
    {
      "cell_type": "markdown",
      "source": [
        "## Solución de sistemas lineales \n",
        "\n",
        "- Metodos: \n",
        "   - fijos : G.J pivoteo, MI pivoteo, LV, chalesky\n",
        "   - Iterativos : Gauss- Seidel, Jacobi \n",
        "   "
      ],
      "metadata": {
        "id": "GOzbgEMUxL7l"
      }
    },
    {
      "cell_type": "code",
      "source": [
        "import numpy as np \n",
        "\n",
        "# A = np.array([[2,3,-1],\n",
        "            # [-4, 5, 0]], float)\n",
        "\n",
        "# A[0,:] = A[0,:] / A[0,0]\n",
        "\n",
        "\n",
        "\n",
        "# A[1,:] = A[1,:] - A[1,0]*A[0,:]\n",
        "\n",
        "\n",
        "# temp = np.copy(A[0,:])\n",
        "# A[0,:] = A[1,:]\n",
        "# A[1,:] = temp \n",
        "\n",
        "\n",
        "# B = np.array([[2,3, 1]], float)# renglon\n",
        "b = np.array([[2],[3]], float) # columnas \n",
        "\n",
        "# av = np.concatenate((A,b), axis =1 )  #concatenar filas\n",
        "\n",
        "# print(av.shape)\n",
        "\n",
        "A = np.array([[2,3,5,-4], [-3,2,-7,0], [9,-4,6,-1], [-8,1,-1,5]], float)\n",
        "B = np.array([[7],[-9],[6],[8]], float)\n",
        "\n",
        "\n",
        "[filas,columnas] = A.shape\n",
        "renglones = len(B)\n",
        "if filas == columnas and filas == renglones:\n",
        "  au = np.concatenate((A,B), axis = 1)\n",
        " \n",
        "  for j in range(0,columnas):\n",
        "    renglon = j  # primer pivote \n",
        "    for i in range(j,renglones):\n",
        "      if abs(au[renglon,j]) < abs(au[i,j]):\n",
        "        renglon+=1\n",
        "    temp = np.copy(au[j,:])\n",
        "    au[j,:] = au[renglon,:]\n",
        "    au[renglon,:] = temp\n",
        "    au[j,: ]= au[j,:] / au[j,j]    # dividir el pivote en 1\n",
        "              \n",
        "  \n",
        "    for i in range(0,filas):\n",
        "      if i != j:\n",
        "        au[i,:] = au[i,:] - au[i,j]* au[j,:]\n",
        "# Extraemos la solución del sistema de ec.\n",
        "x= au[:,4]  \n",
        "# print(x)\n"
      ],
      "metadata": {
        "colab": {
          "base_uri": "https://localhost:8080/"
        },
        "id": "26ryBSRCxgnX",
        "outputId": "f6ebb9b4-ef12-4637-809f-f862d7944c75"
      },
      "execution_count": null,
      "outputs": [
        {
          "output_type": "execute_result",
          "data": {
            "text/plain": [
              "array([[ 7.],\n",
              "       [-9.],\n",
              "       [ 6.],\n",
              "       [ 8.]])"
            ]
          },
          "metadata": {},
          "execution_count": 14
        }
      ]
    },
    {
      "cell_type": "markdown",
      "source": [
        "$ AX = b  $\n",
        "\n",
        "$  B(Ax) = Bb  $\n",
        "\n",
        "$  (BA)x  = Bb  $\n",
        "\n",
        "$  Ix = Bb$\n",
        "\n",
        "$ x = Bb$\n",
        "\n",
        "$ A^{-1} $  <-- Matriz de inversa de A\n",
        "\n",
        "$  x = A^{-1}b  $\n",
        "\n",
        "\n"
      ],
      "metadata": {
        "id": "lxw0dNRNX26E"
      }
    },
    {
      "cell_type": "code",
      "execution_count": null,
      "metadata": {
        "id": "CTD0zyQ5xC6J",
        "colab": {
          "base_uri": "https://localhost:8080/"
        },
        "outputId": "abae2759-2f56-4e24-e8c4-a6d7b65fbcd2"
      },
      "outputs": [
        {
          "output_type": "execute_result",
          "data": {
            "text/plain": [
              "0.5974683544303797"
            ]
          },
          "metadata": {},
          "execution_count": 30
        }
      ],
      "source": [
        "A = np.array([[2,3,5,-4], [-3,2,-7,0], [9,-4,6,-1], [-8,1,-1,5]], float)\n",
        "B = np.array([[7],[-9],[6],[8]], float)\n",
        "\n",
        "I = np.identity(4) # matriz identidas\n",
        "\n",
        "[filas,columnas] = A.shape\n",
        "renglones = len(B)\n",
        "if filas == columnas and filas == renglones:\n",
        "  au = np.concatenate((A,I), axis = 1)\n",
        " \n",
        "  for j in range(0,columnas):\n",
        "    renglon = j  # primer pivote \n",
        "    for i in range(j,renglones):\n",
        "      if abs(au[renglon,j]) < abs(au[i,j]):\n",
        "        renglon+=1\n",
        "    temp = np.copy(au[j,:])\n",
        "    au[j,:] = au[renglon,:]\n",
        "    au[renglon,:] = temp\n",
        "    au[j,: ]= au[j,:] / au[j,j]    # dividir el pivote en 1\n",
        "              \n",
        "  \n",
        "    for i in range(0,filas):\n",
        "      if i != j:\n",
        "        au[i,:] = au[i,:] - au[i,j]* au[j,:]\n",
        "au[3,4-7]"
      ]
    },
    {
      "cell_type": "markdown",
      "source": [
        "# Metodo de crout \n",
        "\n",
        "## Descomposición LU\n",
        " - Ax = b \n",
        " - (LU)x = b\n",
        " - L(Ux) = b:\n",
        "    - Asi: \n",
        "       - L<b>y</b> = b \n",
        "       - Ux  = <b>y</b>\n",
        "\n",
        "## Metodo \n",
        "\n",
        "L  = \\begin{bmatrix}\n",
        "l_{11} & 0 & 0 & . & . & .& 0\\\\\n",
        "l_{21} & l_{22} & 0 & . & . & .& 0\\\\\n",
        ". & . & . &  & . & & .\\\\\n",
        ". & . & . &  &  & .& .\\\\\n",
        "l_{n1} & l_{n2} & l_{n3} & . & . & .& l_{nn}\\\\\n",
        "\\end{bmatrix}\n",
        "\n",
        "\n",
        "U  = \\begin{bmatrix}\n",
        "1 & u_{12} & u_{13} & . & . & .& u_{1n}\\\\\n",
        "0 & 1 & u_{23} & u_{24} & . & .& u_{2n}\\\\\n",
        ". & . & . & 1 & u_{35} & .& u_{3n}\\\\\n",
        ". & . & . &  &  & .& .\\\\\n",
        "0 & 0 & 0 & . & . & .& 1\\\\\n",
        "\\end{bmatrix}\n",
        "\n",
        "\n",
        "A  = \\begin{bmatrix}\n",
        "a_{00} & a_{01}  & a_{02}  & . & . & .& a_{0,n-1} \\\\\n",
        "a_{10} & a_{11} & a_{12} & a_{13} & . & .& a_{1,n-1} \\\\\n",
        "a_{20} & a_{21} & a_{22} & a_{23} & a_{24} &. & a_{2,n-1} \\\\\n",
        ". & . & . & . &  & & .\\\\\n",
        ". & . & . &  & . & & .\\\\\n",
        "a_{n-1,0} & a_{n-1,1} & a_{n-1,2} & . & . & .& a_{n-1,n-1}\\\\\n",
        "\\end{bmatrix}\n",
        "\n",
        "\n",
        " A = LU\n",
        "\n",
        "- 1a columna de L:\n",
        "\n",
        " <b>$ l_{i,0} = a_{i,o}$ </b>     i = 0,...,n-1 \n",
        "\n",
        "- 1r renglon de U:\n",
        "\n",
        "  <b> $ u_{0j} = a_{0j}/  l_{00}  $  </b>\n",
        "\n",
        "- 2da columna de L: \n",
        "\n",
        " <b>$l_{i1} = a_{i1} - \\sum_{k=0}^{0}{l_{i,k}U_{k,1}}  $</b> \n",
        "\n",
        "\n",
        "\n",
        "- 2do renglon de U: \n",
        "\n",
        "  <b>$ u_{i,j} = (a_{i,j} - \\sum_{k=0}^{0}{l_{i,k}u_{k,j}})/l_{1j} $ </b>\n",
        "\n",
        "\n",
        "- 3ra columna de L:\n",
        "\n",
        "  <b>$ l_{i,2} = a_{i,2} - \\sum_{k=0}^{1}{l_{i,k}u_{k,2}}   $</b>\n",
        "\n",
        "\n",
        "Para m = 1, ... , n-1 \n",
        "\n",
        "- <b>$ l_{im} = a_{im} - \\sum_{k=0}^{m-1}{l_{ik}u_{km}}  $ </b>\n",
        "\n",
        "- <b>$ U_{mj} = (a_{mj} - \\sum_{k=0}^{m-1}{l_{mk}u_{kj})/l_{mm}}  $ </b>\n",
        "\n"
      ],
      "metadata": {
        "id": "XdvPH9dDHL2T"
      }
    },
    {
      "cell_type": "code",
      "source": [
        "import numpy as np \n",
        "# función crout \n",
        "\n",
        "def crout(a,b):\n",
        "  m,n = a.shape\n",
        "  l = np.zeros((n,n))  # matriz inicial L\n",
        "  u = np.zeros((n,n))  # matriz inicial U\n",
        "  s1 = 0               # contador s1 SUMA 1\n",
        "  s2 = 0               # contador s2 SUMA 2\n",
        "  \n",
        "  # ciclo for donde i itere hasta el rango de n \n",
        "  # 1r columna de L (cero en python )\n",
        "  for i in range(n):\n",
        "    l[i][0] = a[i][0]\n",
        "    u[i][i] = 1\n",
        "    #1r renglon de U \n",
        "  for j in range(l,n):\n",
        "    u[0][j] = a[0][j]/l[0][0]\n",
        "  \n",
        "  for k in range(l,n):\n",
        "    for i in range(k,n):\n",
        "      for q in range(k):\n",
        "        s1 += l[i][q] * u[q][k]\n",
        "        l[i][k] = a[i][k] - s1\n",
        "        s1 = 0 \n",
        "    for j in range(k+1,n):\n",
        "      for q in range(k):\n",
        "        s2 += l[k][q] * u[q][j]\n",
        "        u[k][j] = (a[k][j] - s2) / l[k][k]\n",
        "        s2 = 0\n",
        "\n",
        "  y = np.zeros(n)\n",
        "  s3 = 0\n",
        "  y[0] = b[0] / l[0][0]\n",
        "  for k in range(l,n):\n",
        "    for r in range(k):\n",
        "      s3 += l[k][r] * y[r]\n",
        "    y[k] = (b[k] - s3) / l[k][k]\n",
        "    s3 = 0\n",
        "  \n",
        "  x = np.zero(n)\n",
        "  s4 = 0\n",
        "  x[n-1] = y[n-1]\n",
        "  for k in range(n-2,-1,-1):\n",
        "    for r in range(k+1,n):\n",
        "      s4+= u[k][r] * x[r]\n",
        "    x[k] = y[k] - s4 \n",
        "    s4 = 0 \n",
        "\n",
        "  for i in range(n):\n",
        "    print('x' + str(i + 1 ) +  '=' , x[i])\n",
        "  print('x =' , x )\n",
        "\n",
        "\n",
        "A = np.array([[2,3,5,-4], [-3,2,-7,0], [9,-4,6,-1], [-8,1,-1,5]], float)\n",
        "B = np.array([[7],[-9],[6],[8]], float)\n",
        "\n",
        "crout(A,B)"
      ],
      "metadata": {
        "id": "yuKSpy7NQMul",
        "colab": {
          "base_uri": "https://localhost:8080/",
          "height": 322
        },
        "outputId": "644e37c3-e3b2-4516-ed80-74528d358c51"
      },
      "execution_count": null,
      "outputs": [
        {
          "output_type": "error",
          "ename": "TypeError",
          "evalue": "ignored",
          "traceback": [
            "\u001b[0;31m---------------------------------------------------------------------------\u001b[0m",
            "\u001b[0;31mTypeError\u001b[0m                                 Traceback (most recent call last)",
            "\u001b[0;32m<ipython-input-2-44fcdc8b46f3>\u001b[0m in \u001b[0;36m<module>\u001b[0;34m\u001b[0m\n\u001b[1;32m     56\u001b[0m \u001b[0mB\u001b[0m \u001b[0;34m=\u001b[0m \u001b[0mnp\u001b[0m\u001b[0;34m.\u001b[0m\u001b[0marray\u001b[0m\u001b[0;34m(\u001b[0m\u001b[0;34m[\u001b[0m\u001b[0;34m[\u001b[0m\u001b[0;36m7\u001b[0m\u001b[0;34m]\u001b[0m\u001b[0;34m,\u001b[0m\u001b[0;34m[\u001b[0m\u001b[0;34m-\u001b[0m\u001b[0;36m9\u001b[0m\u001b[0;34m]\u001b[0m\u001b[0;34m,\u001b[0m\u001b[0;34m[\u001b[0m\u001b[0;36m6\u001b[0m\u001b[0;34m]\u001b[0m\u001b[0;34m,\u001b[0m\u001b[0;34m[\u001b[0m\u001b[0;36m8\u001b[0m\u001b[0;34m]\u001b[0m\u001b[0;34m]\u001b[0m\u001b[0;34m,\u001b[0m \u001b[0mfloat\u001b[0m\u001b[0;34m)\u001b[0m\u001b[0;34m\u001b[0m\u001b[0;34m\u001b[0m\u001b[0m\n\u001b[1;32m     57\u001b[0m \u001b[0;34m\u001b[0m\u001b[0m\n\u001b[0;32m---> 58\u001b[0;31m \u001b[0mcrout\u001b[0m\u001b[0;34m(\u001b[0m\u001b[0mA\u001b[0m\u001b[0;34m,\u001b[0m\u001b[0mB\u001b[0m\u001b[0;34m)\u001b[0m\u001b[0;34m\u001b[0m\u001b[0;34m\u001b[0m\u001b[0m\n\u001b[0m",
            "\u001b[0;32m<ipython-input-2-44fcdc8b46f3>\u001b[0m in \u001b[0;36mcrout\u001b[0;34m(a, b)\u001b[0m\n\u001b[1;32m     15\u001b[0m     \u001b[0mu\u001b[0m\u001b[0;34m[\u001b[0m\u001b[0mi\u001b[0m\u001b[0;34m]\u001b[0m\u001b[0;34m[\u001b[0m\u001b[0mi\u001b[0m\u001b[0;34m]\u001b[0m \u001b[0;34m=\u001b[0m \u001b[0;36m1\u001b[0m\u001b[0;34m\u001b[0m\u001b[0;34m\u001b[0m\u001b[0m\n\u001b[1;32m     16\u001b[0m   \u001b[0;31m#1r renglon de U\u001b[0m\u001b[0;34m\u001b[0m\u001b[0;34m\u001b[0m\u001b[0;34m\u001b[0m\u001b[0m\n\u001b[0;32m---> 17\u001b[0;31m   \u001b[0;32mfor\u001b[0m \u001b[0mj\u001b[0m \u001b[0;32min\u001b[0m \u001b[0mrange\u001b[0m\u001b[0;34m(\u001b[0m\u001b[0ml\u001b[0m\u001b[0;34m,\u001b[0m\u001b[0mn\u001b[0m\u001b[0;34m)\u001b[0m\u001b[0;34m:\u001b[0m\u001b[0;34m\u001b[0m\u001b[0;34m\u001b[0m\u001b[0m\n\u001b[0m\u001b[1;32m     18\u001b[0m     \u001b[0mu\u001b[0m\u001b[0;34m[\u001b[0m\u001b[0;36m0\u001b[0m\u001b[0;34m]\u001b[0m\u001b[0;34m[\u001b[0m\u001b[0mj\u001b[0m\u001b[0;34m]\u001b[0m \u001b[0;34m=\u001b[0m \u001b[0ma\u001b[0m\u001b[0;34m[\u001b[0m\u001b[0;36m0\u001b[0m\u001b[0;34m]\u001b[0m\u001b[0;34m[\u001b[0m\u001b[0mj\u001b[0m\u001b[0;34m]\u001b[0m\u001b[0;34m/\u001b[0m\u001b[0ml\u001b[0m\u001b[0;34m[\u001b[0m\u001b[0;36m0\u001b[0m\u001b[0;34m]\u001b[0m\u001b[0;34m[\u001b[0m\u001b[0;36m0\u001b[0m\u001b[0;34m]\u001b[0m\u001b[0;34m\u001b[0m\u001b[0;34m\u001b[0m\u001b[0m\n\u001b[1;32m     19\u001b[0m \u001b[0;34m\u001b[0m\u001b[0m\n",
            "\u001b[0;31mTypeError\u001b[0m: only integer scalar arrays can be converted to a scalar index"
          ]
        }
      ]
    },
    {
      "cell_type": "markdown",
      "source": [
        "# Metodo de choleski \n",
        "\n",
        "- se aplica dondela matriz de las ecuacioneses simetrica\n",
        "\n",
        "$ AX = b $ \n",
        "\n",
        "$ A$ =simetrica\n",
        "\n"
      ],
      "metadata": {
        "id": "BR0VVV8D5Stk"
      }
    },
    {
      "cell_type": "markdown",
      "source": [
        "# Metodos iterativos \n",
        "\n",
        "   -  Jabobi\n",
        "   - Gauss- Seidel\n",
        "\n",
        "## Jacobi \n",
        "\n",
        "$ a_{00}  + a_{02}x_{1} + a_{02}x_{x2} + ... + a_{0n-2}x_{n-2} + a_{0n-1}x_{n-1} = b_{0} $\n",
        "\n",
        "$ a_{10}  + a_{11}x_{1} + a_{12}x_{x2} + ... + a_{1n-2}x_{n-2} + a_{1n-1}x_{n-1} = b_{1} $\n",
        "\n",
        "$.$\n",
        "\n",
        "$.$\n",
        "\n",
        "$.$\n",
        "\n",
        "$ a_{n-10}x_{0}  + a_{n-1}x_{1} + a_{n-12}x_{x2} + ... + a_{n-1n-2}x_{n-2} + a_{n-1n-1}x_{n-1} = b_{n-1} $\n",
        "\n",
        "\n",
        "- Ahora\n",
        "\n",
        "$ x_{0} = (b_{0}  - a_{01}x_{1} - a_{02}x_{2} - ... -a_{0n-2}x_{n-2} - a_{0n-1}x_{n-1})/a_{00} $\n",
        "\n",
        "$ x_{1} = (b_{1}  - a_{10}x_{0} - a_{12}x_{2} - ... -a_{1n-2}x_{n-2} - a_{1n-1}x_{n-1})/a_{11} $\n",
        "\n",
        "$.$\n",
        "\n",
        "$.$\n",
        "\n",
        "$.$\n",
        "\n",
        "\n",
        "$ x_{n-11} = (b_{n-1}  - a_{n-10}x_{0} - a_{n-11}x_{1} - ... -a_{n-2n-2}x_{n-2})/a_{n-1n-1} $\n",
        "\n",
        "\n",
        "\n",
        "\n",
        "## Esquema \n",
        "\n",
        "## $ x_{i}^{k+1} = (b_{i} - \\sum_{l=0}^{n-1}a_{il}x_{l}^{(k)}) / a_{ii} $"
      ],
      "metadata": {
        "id": "rM1UCDwz5tNu"
      }
    },
    {
      "cell_type": "markdown",
      "source": [
        "# Metodo jacobi recursivo con norma supremo "
      ],
      "metadata": {
        "id": "ztODD4LkCCIy"
      }
    },
    {
      "cell_type": "code",
      "source": [
        "import numpy as np\n",
        "A = np.array ( [ [25, 3, -8, 9], [-3, 18, 11, -1], [4, -7, 15, 0], [-1, 1, 0, 3] ], float)\n",
        "B = np.array([[0],[-2],[7], [9]], float)\n",
        "[r,c] = A.shape\n",
        "x0 = np.array([[0],[0],[0],[0]])\n",
        "error = np.inf #Primer error de aproximacion\n",
        "tol = 0.0001\n",
        "x = np.zeros([4,1])\n",
        "while error>tol:\n",
        "    for i in range(0,r):\n",
        "        s=0\n",
        "        for l in range(0,r):\n",
        "            if l!=i:\n",
        "                s+=A[i,l]*x0[l]\n",
        "        x[i] = (B[i]-s)/A[i,i]\n",
        "    # PROCEDIMIENTO\n",
        "    errado = x[i] - x0[i]\n",
        "    distancia = np.sqrt(np.sum(errado**2))\n",
        "    # funciones numpy\n",
        "    distancia_1 = np.linalg.norm(errado)\n",
        "\n",
        "    #errado_1 = x - x0\n",
        "    #distancia_a = np.sqrt(np.sum(errado**2))\n",
        "    #funciones numpy\n",
        "    #distancia_a_1 = np.linalg.norm(errado) \n",
        "\n",
        "    x0=np.copy(x)\n",
        "print(x)\n",
        "print(error)\n",
        "print(distancia)\n"
      ],
      "metadata": {
        "colab": {
          "base_uri": "https://localhost:8080/"
        },
        "id": "3zaC__SCCTVu",
        "outputId": "9e737688-d88d-4f5b-cb8e-c1c335db9313"
      },
      "execution_count": 5,
      "outputs": [
        {
          "output_type": "stream",
          "name": "stdout",
          "text": [
            "[[-0.8211047 ]\n",
            " [-0.39538983]\n",
            " [ 0.50103447]\n",
            " [ 2.85816324]]\n",
            "6.155546068820072e-05\n",
            "6.155546068820072e-05\n"
          ]
        }
      ]
    },
    {
      "cell_type": "markdown",
      "source": [
        "# Metodo jacobi matricial con norma euclidiana "
      ],
      "metadata": {
        "id": "6eIydmn0CMxq"
      }
    },
    {
      "cell_type": "code",
      "source": [
        "import numpy as np\n",
        "A = np.array ( [ [25, 3, -8, 9], [-3, 18, 11, -1], [4, -7, 15, 0], [-1, 1, 0, 3] ], float)\n",
        "B = np.array([[0],[-2],[7], [9]], float)\n",
        "[r,c] = A.shape\n",
        "x0 = np.array([[0],[0],[0],[0]])\n",
        "error = np.inf #Primer error de aproximacion\n",
        "tol = 0.0001\n",
        "x = np.zeros([4,1])\n",
        "while error>tol:\n",
        "    for i in range(0,r):\n",
        "        s=0\n",
        "        for l in range(0,r):\n",
        "            if l!=i:\n",
        "                s+=A[i,l]*x0[l]\n",
        "        x[i] = (B[i]-s)/A[i,i]\n",
        "    error = max(abs(x-x0))\n",
        "    x0=np.copy(x)\n",
        "print(x)\n",
        "print(error)"
      ],
      "metadata": {
        "id": "A9Cp4TJuXPih",
        "colab": {
          "base_uri": "https://localhost:8080/"
        },
        "outputId": "b026b746-39e7-4ad0-da5d-66a9375f94b3"
      },
      "execution_count": null,
      "outputs": [
        {
          "output_type": "stream",
          "name": "stdout",
          "text": [
            "[[-0.82116095]\n",
            " [-0.39536278]\n",
            " [ 0.50111267]\n",
            " [ 2.85809504]]\n",
            "[7.81916849e-05]\n"
          ]
        }
      ]
    },
    {
      "cell_type": "markdown",
      "source": [
        "# Gauss-Seidel \n",
        "\n",
        "## Teorema: \n",
        "  - Sea AX = b un sistema de ecuaciones lineales. \n",
        "  - si $ A  = [a_{ij}]$ \n",
        "  \n",
        "  y     \n",
        "  \n",
        "  $ |a_{ii}| > \\sum_{i ?= j}{|a_{ij}|} $ <--- Diagonal dominante  \n",
        "    \n",
        "\n",
        " entonces los esquemas iterativos de la forma:\n",
        "\n",
        " \n",
        "\n",
        "\n",
        "\n",
        "\n",
        "\n"
      ],
      "metadata": {
        "id": "rn-3wMHLZP7t"
      }
    },
    {
      "cell_type": "code",
      "source": [
        "import numpy as np\n",
        "A = np.array ( [ [25, 3, -8, 9], [-3, 18, 11, -1], [4, -7, 15, 0], [-1, 1, 0, 3] ], float)\n",
        "B = np.array([[0],[-2],[7], [9]], float)\n",
        "[r,c] = A.shape\n",
        "x_0 =np.array([[0],[0],[0],[0]], float) # 1r solución \n",
        "error = np.inf # error de aproximación \n",
        "tol = 0.00001\n",
        "x = np.zeros([c,1], float)\n",
        "while error > tol:\n",
        "  for i in range(0,r):\n",
        "    s_1 = 0 \n",
        "    for l in range(0,i):\n",
        "      s_1 += A[i,l] * x[l]  \n",
        "    s_2 = 0 \n",
        "    for l in range(i +1, r): \n",
        "      s_2 += A[i,l] * x_0[l]\n",
        "\n",
        "    x[i] = (B[i] - s_1 - s_2) / A[i,i] \n",
        "  error = max(abs(x - x_0))\n",
        "  x_0 =np.copy(x)\n",
        "print(x.T,error)"
      ],
      "metadata": {
        "colab": {
          "base_uri": "https://localhost:8080/"
        },
        "id": "U5zG1mBHdtvc",
        "outputId": "1aff1942-648a-4940-ffd8-5a351ceba509"
      },
      "execution_count": null,
      "outputs": [
        {
          "output_type": "stream",
          "name": "stdout",
          "text": [
            "[[-0.82111382 -0.39540957  0.50110589  2.85809858]] [4.39486714e-06]\n"
          ]
        }
      ]
    },
    {
      "cell_type": "code",
      "source": [
        "import numpy as np\n",
        "A = np.array ( [ [25, 3, -8, 9], [-3, 18, 11, -1], [4, -7, 15, 0], [-1, 1, 0, 3] ], float)\n",
        "B = np.array([[0],[-2],[7], [9]], float)\n",
        "[r,c] = A.shape\n",
        "x_0 =np.array([[0],[0],[0],[0]], float) # 1r solución \n",
        "error = np.inf # error de aproximación \n",
        "tol = 0.00001\n",
        "x = np.zeros([c,1], float)\n",
        "while error > tol:\n",
        "  for i in range(0,r):\n",
        "    s_1 = 0 \n",
        "    for l in range(0,i):\n",
        "      s_1 += A[i,l] * x[l]  \n",
        "    s_2 = 0 \n",
        "    for l in range(i +1, r): \n",
        "      s_2 += A[i,l] * x_0[l]\n",
        "\n",
        "    x[i] = (B[i] - s_1 - s_2) / A[i,i] \n",
        "  error = max(abs(x - x_0))\n",
        "  x_0 =np.copy(x)\n",
        "print(x.T,error)\n",
        "\n",
        "\n"
      ],
      "metadata": {
        "colab": {
          "base_uri": "https://localhost:8080/"
        },
        "id": "bbj1PefJlwYx",
        "outputId": "3422a01e-2afd-400d-fb0e-5ce2d6791b53"
      },
      "execution_count": null,
      "outputs": [
        {
          "output_type": "stream",
          "name": "stdout",
          "text": [
            "[[-0.82111382 -0.39540957  0.50110589  2.85809858]] [4.39486714e-06]\n"
          ]
        }
      ]
    },
    {
      "cell_type": "code",
      "source": [
        "import numpy as np\n",
        "import matplotlib.pyplot as plt \n",
        "import seaborn as sns \n",
        "A = np.array ( [ [25, 3, -8, 9], [-3, 18, 11, -1], [4, -7, 15, 0], [-1, 1, 0, 3] ], float)\n",
        "B = np.array([[0],[-2],[7], [9]], float)\n",
        "[r,c] = A.shape\n",
        "x_0 =np.array([[0],[0],[0],[0]], float) # 1r solución \n",
        "error = np.inf # error de aproximación \n",
        "tol = 0.00001\n",
        "x = np.zeros([c,1], float)\n",
        "while error > tol:\n",
        "  for i in range(0,r):\n",
        "    s_1 = 0 \n",
        "    for l in range(0,i):\n",
        "      s_1 += A[i,l] * x[l]  \n",
        "    s_2 = 0 \n",
        "    for l in range(i +1, r): \n",
        "      s_2 += A[i,l] * x_0[l]\n",
        "\n",
        "    x[i] = (B[i] - s_1 - s_2) / A[i,i] \n",
        "  error = max(abs(x - x_0))\n",
        "  x_0 =np.copy(x)"
      ],
      "metadata": {
        "colab": {
          "base_uri": "https://localhost:8080/",
          "height": 1000
        },
        "id": "bC6_KvzWpx0a",
        "outputId": "d055cfe1-ebbc-4974-c410-30a84adf8771"
      },
      "execution_count": null,
      "outputs": [
        {
          "output_type": "display_data",
          "data": {
            "text/plain": [
              "<Figure size 432x288 with 1 Axes>"
            ],
            "image/png": "[encoded data removed]"
          },
          "metadata": {}
        },
        {
          "output_type": "display_data",
          "data": {
            "text/plain": [
              "<Figure size 432x288 with 1 Axes>"
            ],
            "image/png": "[encoded data removed]"
          },
          "metadata": {}
        },
        {
          "output_type": "display_data",
          "data": {
            "text/plain": [
              "<Figure size 432x288 with 1 Axes>"
            ],
            "image/png": "[encoded data removed]"
          },
          "metadata": {}
        },
        {
          "output_type": "display_data",
          "data": {
            "text/plain": [
              "<Figure size 432x288 with 1 Axes>"
            ],
            "image/png": "[encoded data removed]"
          },
          "metadata": {}
        },
        {
          "output_type": "display_data",
          "data": {
            "text/plain": [
              "<Figure size 432x288 with 1 Axes>"
            ],
            "image/png": "[encoded data removed]"
          },
          "metadata": {}
        },
        {
          "output_type": "display_data",
          "data": {
            "text/plain": [
              "<Figure size 432x288 with 1 Axes>"
            ],
            "image/png": "[encoded data removed]"
          },
          "metadata": {}
        },
        {
          "output_type": "display_data",
          "data": {
            "text/plain": [
              "<Figure size 432x288 with 1 Axes>"
            ],
            "image/png": "[encoded data removed]"
          },
          "metadata": {}
        },
        {
          "output_type": "display_data",
          "data": {
            "text/plain": [
              "<Figure size 432x288 with 1 Axes>"
            ],
            "image/png": "[encoded data removed]"
          },
          "metadata": {}
        },
        {
          "output_type": "display_data",
          "data": {
            "text/plain": [
              "<Figure size 432x288 with 1 Axes>"
            ],
            "image/png": "[encoded data removed]"
          },
          "metadata": {}
        },
        {
          "output_type": "display_data",
          "data": {
            "text/plain": [
              "<Figure size 432x288 with 1 Axes>"
            ],
            "image/png": "[encoded data removed]"
          },
          "metadata": {}
        },
        {
          "output_type": "display_data",
          "data": {
            "text/plain": [
              "<Figure size 432x288 with 1 Axes>"
            ],
            "image/png": "[encoded data removed]"
          },
          "metadata": {}
        },
        {
          "output_type": "display_data",
          "data": {
            "text/plain": [
              "<Figure size 432x288 with 1 Axes>"
            ],
            "image/png": "[encoded data removed]"
          },
          "metadata": {}
        },
        {
          "output_type": "display_data",
          "data": {
            "text/plain": [
              "<Figure size 432x288 with 1 Axes>"
            ],
            "image/png": "[encoded data removed]"
          },
          "metadata": {}
        },
        {
          "output_type": "display_data",
          "data": {
            "text/plain": [
              "<Figure size 432x288 with 1 Axes>"
            ],
            "image/png": "[encoded data removed]"
          },
          "metadata": {}
        }
      ]
    }
  ]
}