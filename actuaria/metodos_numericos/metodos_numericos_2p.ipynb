{
  "nbformat": 4,
  "nbformat_minor": 0,
  "metadata": {
    "colab": {
      "provenance": [],
      "authorship_tag": "ABX9TyPlBlm8TYCqXQecVFis+Xr4",
      "include_colab_link": true
    },
    "kernelspec": {
      "name": "python3",
      "display_name": "Python 3"
    },
    "language_info": {
      "name": "python"
    }
  },
  "cells": [
    {
      "cell_type": "markdown",
      "metadata": {
        "id": "view-in-github",
        "colab_type": "text"
      },
      "source": [
        "<a href=\"https://colab.research.google.com/github/ADRIANVM117/proyectos_propios/blob/main/actuaria/metodos_numericos/metodos_numericos_2p.ipynb\" target=\"_parent\"><img src=\"https://colab.research.google.com/assets/colab-badge.svg\" alt=\"Open In Colab\"/></a>"
      ]
    },
    {
      "cell_type": "markdown",
      "source": [
        "# 2do Parcial"
      ],
      "metadata": {
        "id": "d1Xlso2xxIb8"
      }
    },
    {
      "cell_type": "markdown",
      "source": [
        "## Solución de sistemas lineales \n",
        "\n",
        "- Metodos: \n",
        "   - fijos : G.J pivoteo, MI pivoteo, LV, chalesky\n",
        "   - Iterativos : Gauss- Seidel, Jacobi \n",
        "   "
      ],
      "metadata": {
        "id": "GOzbgEMUxL7l"
      }
    },
    {
      "cell_type": "code",
      "source": [
        "import numpy as np \n",
        "\n",
        "A = np.array([[2,3,-1],\n",
        "            [-4, 5, 0]], float)\n",
        "\n",
        "A[0,:] = A[0,:] / A[0,0]\n",
        "\n",
        "\n",
        "\n",
        "A[1,:] = A[1,:] - A[1,0]*A[0,:]\n",
        "\n",
        "\n",
        "temp = np.copy(A[0,:])\n",
        "A[0,:] = A[1,:]\n",
        "A[1,:] = temp \n",
        "\n",
        "\n",
        "B = np.array([[2,3, 1]], float)# renglon\n",
        "b = np.array([[2],[3]], float) # columnas \n",
        "\n",
        "av = np.concatenate((A,b), axis =1 )  #concatenar filas\n",
        "\n",
        "# print(av.shape)\n",
        "\n",
        "a = np.array([[2,3,5,-4], [-3,2,-7,0], [9,-4,6,-1], [-8,1,-1,5]], float)\n",
        "c = np.array([[7],[-9],[6],[8]], float)\n",
        "\n",
        "\n",
        "[filas,columnas] = a.shape\n",
        "renglones = len(c)\n",
        "if filas == columnas and filas == renglones:\n",
        "  au = np.concatenate((a,c), axis = 1)\n",
        "  renglon = 0  # primer pivote \n",
        "  for i in range(0,renglones):\n",
        "    if abs(au[renglon,0]) < abs(au[i,0]):\n",
        "      renglon+=1\n",
        "  temp = np.copy(au[0,:])\n",
        "  au[0,:] = au[renglon,:]\n",
        "  au[renglon,:] = temp\n",
        "  au[0,: ]= au[0,:] / au[0,0]\n",
        "  print(au)                   # dividir el pivote en 1"
      ],
      "metadata": {
        "colab": {
          "base_uri": "https://localhost:8080/"
        },
        "id": "26ryBSRCxgnX",
        "outputId": "d46bd76c-8b48-4006-ea0e-ac13b7af20ef"
      },
      "execution_count": 44,
      "outputs": [
        {
          "output_type": "stream",
          "name": "stdout",
          "text": [
            "[[ 9. -4.  6. -1.  6.]\n",
            " [-3.  2. -7.  0. -9.]\n",
            " [ 2.  3.  5. -4.  7.]\n",
            " [-8.  1. -1.  5.  8.]]\n"
          ]
        }
      ]
    },
    {
      "cell_type": "code",
      "execution_count": null,
      "metadata": {
        "id": "CTD0zyQ5xC6J"
      },
      "outputs": [],
      "source": []
    }
  ]
}