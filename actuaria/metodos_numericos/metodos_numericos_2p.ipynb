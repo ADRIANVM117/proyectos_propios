{
  "nbformat": 4,
  "nbformat_minor": 0,
  "metadata": {
    "colab": {
      "provenance": [],
      "toc_visible": true,
      "authorship_tag": "ABX9TyPLzjEL6ebCQNp/81JMnDSL",
      "include_colab_link": true
    },
    "kernelspec": {
      "name": "python3",
      "display_name": "Python 3"
    },
    "language_info": {
      "name": "python"
    }
  },
  "cells": [
    {
      "cell_type": "markdown",
      "metadata": {
        "id": "view-in-github",
        "colab_type": "text"
      },
      "source": [
        "<a href=\"https://colab.research.google.com/github/ADRIANVM117/proyectos_propios/blob/main/actuaria/metodos_numericos/metodos_numericos_2p.ipynb\" target=\"_parent\"><img src=\"https://colab.research.google.com/assets/colab-badge.svg\" alt=\"Open In Colab\"/></a>"
      ]
    },
    {
      "cell_type": "markdown",
      "source": [
        "# 2do Parcial"
      ],
      "metadata": {
        "id": "d1Xlso2xxIb8"
      }
    },
    {
      "cell_type": "markdown",
      "source": [
        "## Solución de sistemas lineales \n",
        "\n",
        "- Metodos: \n",
        "   - fijos : G.J pivoteo, MI pivoteo, LV, chalesky\n",
        "   - Iterativos : Gauss- Seidel, Jacobi \n",
        "   "
      ],
      "metadata": {
        "id": "GOzbgEMUxL7l"
      }
    },
    {
      "cell_type": "code",
      "source": [
        "import numpy as np \n",
        "\n",
        "# A = np.array([[2,3,-1],\n",
        "            # [-4, 5, 0]], float)\n",
        "\n",
        "# A[0,:] = A[0,:] / A[0,0]\n",
        "\n",
        "\n",
        "\n",
        "# A[1,:] = A[1,:] - A[1,0]*A[0,:]\n",
        "\n",
        "\n",
        "# temp = np.copy(A[0,:])\n",
        "# A[0,:] = A[1,:]\n",
        "# A[1,:] = temp \n",
        "\n",
        "\n",
        "# B = np.array([[2,3, 1]], float)# renglon\n",
        "b = np.array([[2],[3]], float) # columnas \n",
        "\n",
        "# av = np.concatenate((A,b), axis =1 )  #concatenar filas\n",
        "\n",
        "# print(av.shape)\n",
        "\n",
        "A = np.array([[2,3,5,-4], [-3,2,-7,0], [9,-4,6,-1], [-8,1,-1,5]], float)\n",
        "B = np.array([[7],[-9],[6],[8]], float)\n",
        "\n",
        "\n",
        "[filas,columnas] = A.shape\n",
        "renglones = len(B)\n",
        "if filas == columnas and filas == renglones:\n",
        "  au = np.concatenate((A,B), axis = 1)\n",
        " \n",
        "  for j in range(0,columnas):\n",
        "    renglon = j  # primer pivote \n",
        "    for i in range(j,renglones):\n",
        "      if abs(au[renglon,j]) < abs(au[i,j]):\n",
        "        renglon+=1\n",
        "    temp = np.copy(au[j,:])\n",
        "    au[j,:] = au[renglon,:]\n",
        "    au[renglon,:] = temp\n",
        "    au[j,: ]= au[j,:] / au[j,j]    # dividir el pivote en 1\n",
        "              \n",
        "  \n",
        "    for i in range(0,filas):\n",
        "      if i != j:\n",
        "        au[i,:] = au[i,:] - au[i,j]* au[j,:]\n",
        "# Extraemos la solución del sistema de ec.\n",
        "x= au[:,4]  \n",
        "# print(x)\n"
      ],
      "metadata": {
        "colab": {
          "base_uri": "https://localhost:8080/"
        },
        "id": "26ryBSRCxgnX",
        "outputId": "f6ebb9b4-ef12-4637-809f-f862d7944c75"
      },
      "execution_count": null,
      "outputs": [
        {
          "output_type": "execute_result",
          "data": {
            "text/plain": [
              "array([[ 7.],\n",
              "       [-9.],\n",
              "       [ 6.],\n",
              "       [ 8.]])"
            ]
          },
          "metadata": {},
          "execution_count": 14
        }
      ]
    },
    {
      "cell_type": "markdown",
      "source": [
        "$ AX = b  $\n",
        "\n",
        "$  B(Ax) = Bb  $\n",
        "\n",
        "$  (BA)x  = Bb  $\n",
        "\n",
        "$  Ix = Bb$\n",
        "\n",
        "$ x = Bb$\n",
        "\n",
        "$ A^{-1} $  <-- Matriz de inversa de A\n",
        "\n",
        "$  x = A^{-1}b  $\n",
        "\n",
        "\n"
      ],
      "metadata": {
        "id": "lxw0dNRNX26E"
      }
    },
    {
      "cell_type": "code",
      "execution_count": null,
      "metadata": {
        "id": "CTD0zyQ5xC6J",
        "colab": {
          "base_uri": "https://localhost:8080/"
        },
        "outputId": "abae2759-2f56-4e24-e8c4-a6d7b65fbcd2"
      },
      "outputs": [
        {
          "output_type": "execute_result",
          "data": {
            "text/plain": [
              "0.5974683544303797"
            ]
          },
          "metadata": {},
          "execution_count": 30
        }
      ],
      "source": [
        "A = np.array([[2,3,5,-4], [-3,2,-7,0], [9,-4,6,-1], [-8,1,-1,5]], float)\n",
        "B = np.array([[7],[-9],[6],[8]], float)\n",
        "\n",
        "I = np.identity(4) # matriz identidas\n",
        "\n",
        "[filas,columnas] = A.shape\n",
        "renglones = len(B)\n",
        "if filas == columnas and filas == renglones:\n",
        "  au = np.concatenate((A,I), axis = 1)\n",
        " \n",
        "  for j in range(0,columnas):\n",
        "    renglon = j  # primer pivote \n",
        "    for i in range(j,renglones):\n",
        "      if abs(au[renglon,j]) < abs(au[i,j]):\n",
        "        renglon+=1\n",
        "    temp = np.copy(au[j,:])\n",
        "    au[j,:] = au[renglon,:]\n",
        "    au[renglon,:] = temp\n",
        "    au[j,: ]= au[j,:] / au[j,j]    # dividir el pivote en 1\n",
        "              \n",
        "  \n",
        "    for i in range(0,filas):\n",
        "      if i != j:\n",
        "        au[i,:] = au[i,:] - au[i,j]* au[j,:]\n",
        "au[3,4-7]"
      ]
    },
    {
      "cell_type": "markdown",
      "source": [
        "# Metodo de crout \n",
        "\n",
        "## Descomposición LU\n",
        " - Ax = b \n",
        " - (LU)x = b\n",
        " - L(Ux) = b:\n",
        "    - Asi: \n",
        "       - L<b>y</b> = b \n",
        "       - Ux  = <b>y</b>\n",
        "\n",
        "## Metodo \n",
        "\n",
        "L  = \\begin{bmatrix}\n",
        "l_{11} & 0 & 0 & . & . & .& 0\\\\\n",
        "l_{21} & l_{22} & 0 & . & . & .& 0\\\\\n",
        ". & . & . &  & . & & .\\\\\n",
        ". & . & . &  &  & .& .\\\\\n",
        "l_{n1} & l_{n2} & l_{n3} & . & . & .& l_{nn}\\\\\n",
        "\\end{bmatrix}\n",
        "\n",
        "\n",
        "U  = \\begin{bmatrix}\n",
        "1 & u_{12} & u_{13} & . & . & .& u_{1n}\\\\\n",
        "0 & 1 & u_{23} & u_{24} & . & .& u_{2n}\\\\\n",
        ". & . & . & 1 & u_{35} & .& u_{3n}\\\\\n",
        ". & . & . &  &  & .& .\\\\\n",
        "0 & 0 & 0 & . & . & .& 1\\\\\n",
        "\\end{bmatrix}\n",
        "\n",
        "\n",
        "A  = \\begin{bmatrix}\n",
        "a_{00} & a_{01}  & a_{02}  & . & . & .& a_{0,n-1} \\\\\n",
        "a_{10} & a_{11} & a_{12} & a_{13} & . & .& a_{1,n-1} \\\\\n",
        "a_{20} & a_{21} & a_{22} & a_{23} & a_{24} &. & a_{2,n-1} \\\\\n",
        ". & . & . & . &  & & .\\\\\n",
        ". & . & . &  & . & & .\\\\\n",
        "a_{n-1,0} & a_{n-1,1} & a_{n-1,2} & . & . & .& a_{n-1,n-1}\\\\\n",
        "\\end{bmatrix}\n",
        "\n",
        "\n",
        " A = LU\n",
        "\n",
        "- 1a columna de L:\n",
        "\n",
        " <b>$ l_{i,0} = a_{i,o}$ </b>     i = 0,...,n-1 \n",
        "\n",
        "- 1r renglon de U:\n",
        "\n",
        "  <b> $ u_{0j} = a_{0j}/  l_{00}  $  </b>\n",
        "\n",
        "- 2da columna de L: \n",
        "\n",
        " <b>$l_{i1} = a_{i1} - \\sum_{k=0}^{0}{l_{i,k}U_{k,1}}  $</b> \n",
        "\n",
        "\n",
        "\n",
        "- 2do renglon de U: \n",
        "\n",
        "  <b>$ u_{i,j} = (a_{i,j} - \\sum_{k=0}^{0}{l_{i,k}u_{k,j}})/l_{1j} $ </b>\n",
        "\n",
        "\n",
        "- 3ra columna de L:\n",
        "\n",
        "  <b>$ l_{i,2} = a_{i,2} - \\sum_{k=0}^{1}{l_{i,k}u_{k,2}}   $</b>\n",
        "\n",
        "\n",
        "Para m = 1, ... , n-1 \n",
        "\n",
        "- <b>$ l_{im} = a_{im} - \\sum_{k=0}^{m-1}{l_{ik}u_{km}}  $ </b>\n",
        "\n",
        "- <b>$ U_{mj} = (a_{mj} - \\sum_{k=0}^{m-1}{l_{mk}u_{kj})/l_{mm}}  $ </b>\n",
        "\n"
      ],
      "metadata": {
        "id": "XdvPH9dDHL2T"
      }
    },
    {
      "cell_type": "code",
      "source": [],
      "metadata": {
        "id": "yuKSpy7NQMul"
      },
      "execution_count": null,
      "outputs": []
    }
  ]
}