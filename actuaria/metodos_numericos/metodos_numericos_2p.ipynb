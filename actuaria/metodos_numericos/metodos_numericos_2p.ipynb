{
  "nbformat": 4,
  "nbformat_minor": 0,
  "metadata": {
    "colab": {
      "provenance": [],
      "authorship_tag": "ABX9TyP5+RHjTs5aCQQqWAOwgZ9Q",
      "include_colab_link": true
    },
    "kernelspec": {
      "name": "python3",
      "display_name": "Python 3"
    },
    "language_info": {
      "name": "python"
    }
  },
  "cells": [
    {
      "cell_type": "markdown",
      "metadata": {
        "id": "view-in-github",
        "colab_type": "text"
      },
      "source": [
        "<a href=\"https://colab.research.google.com/github/ADRIANVM117/proyectos_propios/blob/main/actuaria/metodos_numericos/metodos_numericos_2p.ipynb\" target=\"_parent\"><img src=\"https://colab.research.google.com/assets/colab-badge.svg\" alt=\"Open In Colab\"/></a>"
      ]
    },
    {
      "cell_type": "markdown",
      "source": [
        "# 2do Parcial"
      ],
      "metadata": {
        "id": "d1Xlso2xxIb8"
      }
    },
    {
      "cell_type": "markdown",
      "source": [
        "## Solución de sistemas lineales \n",
        "\n",
        "- Metodos: \n",
        "   - fijos : G.J pivoteo, MI pivoteo, LV, chalesky\n",
        "   - Iterativos : Gauss- Seidel, Jacobi \n",
        "   "
      ],
      "metadata": {
        "id": "GOzbgEMUxL7l"
      }
    },
    {
      "cell_type": "code",
      "source": [],
      "metadata": {
        "id": "26ryBSRCxgnX"
      },
      "execution_count": null,
      "outputs": []
    },
    {
      "cell_type": "code",
      "execution_count": null,
      "metadata": {
        "id": "CTD0zyQ5xC6J"
      },
      "outputs": [],
      "source": []
    }
  ]
}