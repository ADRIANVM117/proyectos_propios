{
  "nbformat": 4,
  "nbformat_minor": 0,
  "metadata": {
    "colab": {
      "provenance": [],
      "authorship_tag": "ABX9TyNwwiFnYQd4WPlOulWVsPhb",
      "include_colab_link": true
    },
    "kernelspec": {
      "name": "python3",
      "display_name": "Python 3"
    },
    "language_info": {
      "name": "python"
    }
  },
  "cells": [
    {
      "cell_type": "markdown",
      "metadata": {
        "id": "view-in-github",
        "colab_type": "text"
      },
      "source": [
        "<a href=\"https://colab.research.google.com/github/ADRIANVM117/proyectos_propios/blob/main/actuaria/metodos_numericos/Metodos_numericos_3p.ipynb\" target=\"_parent\"><img src=\"https://colab.research.google.com/assets/colab-badge.svg\" alt=\"Open In Colab\"/></a>"
      ]
    },
    {
      "cell_type": "markdown",
      "source": [
        "# Ajuste de curvas por minimos cuadrados \n"
      ],
      "metadata": {
        "id": "ll-G61D97YIY"
      }
    },
    {
      "cell_type": "code",
      "execution_count": null,
      "metadata": {
        "id": "W5f-IX1T7SWe"
      },
      "outputs": [],
      "source": []
    },
    {
      "cell_type": "code",
      "source": [],
      "metadata": {
        "id": "6YVA7ijSCB1z"
      },
      "execution_count": null,
      "outputs": []
    },
    {
      "cell_type": "markdown",
      "source": [
        "# Modelos No-Lineales"
      ],
      "metadata": {
        "id": "Ix_tRN2JCdvL"
      }
    },
    {
      "cell_type": "markdown",
      "source": [
        "## Linealización de modelos \n",
        "\n",
        "- Consta de adaptar un modelo y adaptarlo a un polinomio \n",
        "- ¿que tan bueno sera el modelo?\n",
        "    - El coef. de determinación me lo hara saber \n",
        "\n",
        "\n",
        "- Se  busca determinar:\n",
        "    - Modelo de mejor ajuste \n",
        "    - Coeficiente de determinación \n",
        "    - Grafica de dsiperción y ajuste "
      ],
      "metadata": {
        "id": "0OGf2ZAHEZtq"
      }
    },
    {
      "cell_type": "code",
      "source": [
        "import numpy as np \n",
        "import matplotlib.pyplot as plt \n",
        "x = np.array([.7,1.3,2,3.7,5], float)\n",
        "y = np.array([5.5,1.7,.5,.3,.1], float)\n",
        "\n",
        "#Graficando \n",
        "plt.figure(figsize= (12,5))\n",
        "plt.subplot(1,3,1)\n",
        "plt.plot(x,np.log(y), marker = '.', linestyle ='none', color = 'g')\n",
        "plt.title('Semilog - Exponencial y')\n",
        "plt.grid()\n",
        "plt.subplot(1,3,2)\n",
        "plt.plot(np.log(x),y, marker = '.', linestyle ='none', color = 'r')\n",
        "plt.title('LogLog - Exponencial x y')\n",
        "plt.grid()\n",
        "plt.subplot(1,3,3)\n",
        "plt.plot(x,1/y, marker = '.', linestyle ='none', color = 'b')\n",
        "plt.title('lineal')\n",
        "plt.grid()\n",
        "plt.show()\n",
        "\n",
        "\n",
        "n=len(xi)\n",
        "x=sym.Symbol('x')\n",
        "s=0\n",
        "for i in range(0,n):\n",
        "  p=1\n",
        "  for j in range(0,n):\n",
        "    if j!=i:\n",
        "      p*=(x-xi[j])/(xi[i]-xi[j])\n",
        "  s+=p*yi[i]    \n",
        "P=sym.expand(s)\n",
        "print(P)\n",
        "\n",
        "polinomio=sym.lambdify(x,P)\n",
        "pxi=np.linspace(min(xi),max(xi),100)\n",
        "pyi=polinomio(pxi)\n",
        "plt.plot(xi,yi, linestyle='none', marker='*')\n",
        "plt.plot(pxi,pyi,linestyle='-',color='crimson')\n",
        "plt.grid()\n",
        "plt.show()\n",
        "\n"
      ],
      "metadata": {
        "id": "Ekl0uYR1Cfqp",
        "outputId": "49aaacb9-dc3c-4a71-977f-1ee61f1db9a3",
        "colab": {
          "base_uri": "https://localhost:8080/",
          "height": 336
        }
      },
      "execution_count": 15,
      "outputs": [
        {
          "output_type": "display_data",
          "data": {
            "text/plain": [
              "<Figure size 864x360 with 3 Axes>"
            ],
            "image/png": "[encoded data removed]"
          },
          "metadata": {
            "needs_background": "light"
          }
        }
      ]
    },
    {
      "cell_type": "code",
      "source": [
        "import numpy as np\n",
        "import sympy as sp\n",
        "import matplotlib.pyplot as plt\n",
        "#Obtenemos los datos del polinomio\n",
        "x=np.array([0.7,1.3,2,3.7,5],float)\n",
        "y=np.array([5.5,1.7,0.5,0.3,0.1],float)\n",
        "#Graficamos\n",
        "#plt.subplot(1,3,1)\n",
        "#plt.plot(x,np.log(y),marker=\".\",linestyle=\"none\",color=\"b\")\n",
        "#plt.subplot(1,3,2)\n",
        "#plt.plot(np.log(x),np.log(y),marker=\".\",linestyle=\"none\",color=\"b\")\n",
        "#plt.subplot(1,3,3)\n",
        "#plt.plot(y,1/y,marker=\".\",linestyle=\"none\",color=\"b\")\n",
        "\n",
        "#plt.grid()\n",
        "#plt.show()\n",
        "\n",
        "if len(x)==len(y):\n",
        "    #Pedir el grado del polinomio y definimos A y b\n",
        "    #n=input(\"De que grado va a ser el polinomio? \")\n",
        "    #n=int(n)\n",
        "    n=1\n",
        "    A=np.zeros((n+1,n+1))\n",
        "    b=np.zeros(n+1)\n",
        "    y=np.log(y)\n",
        "    #Llenar los valores de la matriz A y b de acuero al algoritmo\n",
        "    for i in range(0,n+1):\n",
        "        b[i]=np.sum(x**i*y)\n",
        "        for j in range(0,n+1):\n",
        "            if j>=i:\n",
        "                A[i,j]=np.sum(x**(i+j))\n",
        "                A[j,i]=A[i,j]\n",
        "    #Solucionamos el sistema de ecuaciones\n",
        "    X=np.matmul(np.linalg.inv(A),b)\n",
        "    #Llamamos sympy para poder escribir el resultado como polinomio\n",
        "    x1=sp.Symbol(\"x\")\n",
        "    p=0\n",
        "    for i in range(0,n+1):\n",
        "      p += X[i]*x1*i\n",
        "    #print(p)\n",
        "    print('El polinomio es: {}'.format(p))\n",
        "    pol=sp.lambdify(x1,p)\n",
        "    r2=np.sum((pol(x)-np.mean(y))*2)/np.sum((y-np.mean(y))*2)\n",
        "    print(\"El coeficiente de determinación es {}%\".format(r2))\n",
        "    a=np.exp(X[0])\n",
        "    beta=X[1]\n",
        "    mod=a*sp.exp(beta*x1)\n",
        "    print(mod)\n",
        "    mod=sp.lambdify(x1,mod)\n",
        "    plt.plot(x,np.exp(y),marker=\".\",linestyle=\"none\",color=\"b\")\n",
        "    x=np.linspace(min(x),max(x),50)\n",
        "    plt.plot(x,mod(x),marker=\".\",linestyle=\"none\",color=\"b\")\n",
        "\n",
        "    plt.show()"
      ],
      "metadata": {
        "id": "zEzVjl9aRVbt",
        "outputId": "7982bb35-9cad-47e1-e024-8e8d2eb03e45",
        "colab": {
          "base_uri": "https://localhost:8080/",
          "height": 317
        }
      },
      "execution_count": 20,
      "outputs": [
        {
          "output_type": "stream",
          "name": "stdout",
          "text": [
            "El polinomio es: -0.83106436927663*x\n",
            "El coeficiente de determinación es -1.2895590292371158e+16%\n",
            "5.57358097350662*exp(-0.83106436927663*x)\n"
          ]
        },
        {
          "output_type": "display_data",
          "data": {
            "text/plain": [
              "<Figure size 432x288 with 1 Axes>"
            ],
            "image/png": "[encoded data removed]"
          },
          "metadata": {
            "needs_background": "light"
          }
        }
      ]
    },
    {
      "cell_type": "code",
      "source": [],
      "metadata": {
        "id": "ZiBfQGoyCBrE"
      },
      "execution_count": null,
      "outputs": []
    }
  ]
}