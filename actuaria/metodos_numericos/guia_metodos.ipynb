{
  "nbformat": 4,
  "nbformat_minor": 0,
  "metadata": {
    "colab": {
      "name": "guia_metodos.ipynb",
      "provenance": [],
      "toc_visible": true,
      "authorship_tag": "ABX9TyO74lD7fVFxzQPePzZKUglX",
      "include_colab_link": true
    },
    "kernelspec": {
      "name": "python3",
      "display_name": "Python 3"
    },
    "language_info": {
      "name": "python"
    }
  },
  "cells": [
    {
      "cell_type": "markdown",
      "metadata": {
        "id": "view-in-github",
        "colab_type": "text"
      },
      "source": [
        "<a href=\"https://colab.research.google.com/github/ADRIANVM117/proyectos_propios/blob/main/actuaria/metodos_numericos/guia_metodos.ipynb\" target=\"_parent\"><img src=\"https://colab.research.google.com/assets/colab-badge.svg\" alt=\"Open In Colab\"/></a>"
      ]
    },
    {
      "cell_type": "markdown",
      "source": [
        "# Guia Metodos numericos\n",
        "## 1r. Parcial \n",
        "### 23/08/2022\n"
      ],
      "metadata": {
        "id": "jz9hYY7Ql8nc"
      }
    },
    {
      "cell_type": "markdown",
      "source": [
        "## Ejercicio 1 \n",
        "\n",
        "<b> Encuentre las raíces de las siguientes ecuaciones. Aplique el método indicado con una\n",
        "tolerancia de 1 × $ 10^{-5} $\n",
        ". Proponga un intervalo de longitud 1. </b>\n"
      ],
      "metadata": {
        "id": "fy5KvHkZmG6F"
      }
    },
    {
      "cell_type": "markdown",
      "source": [
        "### 1) Bisección. "
      ],
      "metadata": {
        "id": "46HD3_bgmcs_"
      }
    },
    {
      "cell_type": "code",
      "source": [
        "import numpy as np \n",
        "import matplotlib.pyplot as plt \n",
        "import seaborn as sns \n",
        "\n",
        "\n",
        "def f(x):\n",
        "  return  np.e**x + 3*x -x**2 - 2 \n",
        "x = np.linspace(3,4,100)\n",
        "y = f(x)\n",
        "\n",
        "# Metodo Bisección \n",
        "\n",
        "a = 2\n",
        "b = 3 \n",
        "tol = 0.00001\n",
        "r = (a + b)/2\n",
        "e = (b-a)/2\n",
        "\n",
        "while e<tol:\n",
        "  if f(r) == 0:\n",
        "    e = 0\n",
        "  else: \n",
        "    if f(a)* f(r)<0:\n",
        "      b = r\n",
        "    else: \n",
        "      a = r \n",
        "    r = (a + b)/ 2\n",
        "    e = (b -a)/2\n",
        "\n",
        "print('La raiz es: \\t{:.2f}'.format(r))\n",
        "print('El error es: \\t{:.2f}'.format(e))\n",
        "\n",
        "sns.set()\n",
        "plt.plot(x,f(x))\n",
        "plt.show()"
      ],
      "metadata": {
        "id": "RIpumAmLmjqj",
        "outputId": "e2229fc6-8c72-4553-a37b-79cf83b3c52e",
        "colab": {
          "base_uri": "https://localhost:8080/",
          "height": 307
        }
      },
      "execution_count": 12,
      "outputs": [
        {
          "output_type": "stream",
          "name": "stdout",
          "text": [
            "La raiz es: \t2.50\n",
            "El error es: \t0.50\n"
          ]
        },
        {
          "output_type": "display_data",
          "data": {
            "text/plain": [
              "<Figure size 432x288 with 1 Axes>"
            ],
            "image/png": "[encoded data removed]"
          },
          "metadata": {}
        }
      ]
    },
    {
      "cell_type": "markdown",
      "source": [
        "### 2) Falsa Posición "
      ],
      "metadata": {
        "id": "1gQcQOwjp6gC"
      }
    },
    {
      "cell_type": "code",
      "source": [
        "\n",
        "def f(x):\n",
        "  return  1/2 +1/4*x**2 - x*np.sin(x) - 1/2*np.cos(2*x) - 1  \n",
        "x = np.linspace(-1,2,100)\n",
        "y = f(x)\n",
        "\n",
        "# Metodo Bisección \n",
        "\n",
        "a = 0\n",
        "b = 1 \n",
        "tol = 0.00001\n",
        "r = (a * f(b) - b*f(a)) / (f(b) - f(a))  \n",
        "e = b-a\n",
        "k = 1\n",
        "while e<tol:\n",
        "  if f(r) == 0:\n",
        "    e = 0\n",
        "  else: \n",
        "    if f(a)* f(r)<0:\n",
        "      b = r\n",
        "    else: \n",
        "      a = r \n",
        "    r = (a * f(b) - b*f(a))/ (f(b) - f(a))\n",
        "    e = b -a\n",
        "    k += 1 \n",
        "\n",
        "print('La raiz es: \\t{:.2f}'.format(r))\n",
        "print('El error es: \\t{:.2f}'.format(e))\n",
        "print('Numero de iteraciones: \\t{:.2f}'.format(k))\n",
        "sns.set()\n",
        "plt.plot(x,f(x))\n",
        "plt.show()"
      ],
      "metadata": {
        "id": "h_-lOWCRmcIC",
        "outputId": "1f6ed96a-9eac-4cb0-c274-3f3241ee82a9",
        "colab": {
          "base_uri": "https://localhost:8080/",
          "height": 322
        }
      },
      "execution_count": 13,
      "outputs": [
        {
          "output_type": "stream",
          "name": "stdout",
          "text": [
            "La raiz es: \t8.58\n",
            "El error es: \t1.00\n",
            "Numero de iteraciones: \t1.00\n"
          ]
        },
        {
          "output_type": "display_data",
          "data": {
            "text/plain": [
              "<Figure size 432x288 with 1 Axes>"
            ],
            "image/png": "[encoded data removed]"
          },
          "metadata": {}
        }
      ]
    },
    {
      "cell_type": "markdown",
      "source": [
        "### 3) Newton - Raphson \n"
      ],
      "metadata": {
        "id": "1zw53YLPuAke"
      }
    },
    {
      "cell_type": "code",
      "source": [
        "def f(x):\n",
        "  return  np.log(x - 1) + np.cos(x - 1)\n",
        "x = np.linspace(-1,2,100)\n",
        "y = f(x)\n",
        "\n",
        "# Metodo Newton - Raphson\n",
        "\n",
        "tol = 0.00001\n",
        "r = - 3 \n",
        "e = np.inf\n",
        "\n",
        "while e<tol:\n",
        "  r_0 = r\n",
        "  r = r_0 - f(r_0)/ #derivada(r_0) \n",
        "  e = np.abs(r - r_0)\n",
        "\n",
        "print('La raiz es: \\t{:.2f}'.format(r))\n",
        "print('El error es: \\t{:.2f}'.format(e))\n",
        "\n",
        "sns.set()\n",
        "plt.plot(x,f(x))\n",
        "plt.show()"
      ],
      "metadata": {
        "id": "dUkV5nCImGMe",
        "outputId": "ac6093f6-ade4-4231-b7bc-075b2004eb48",
        "colab": {
          "base_uri": "https://localhost:8080/",
          "height": 360
        }
      },
      "execution_count": 14,
      "outputs": [
        {
          "output_type": "stream",
          "name": "stderr",
          "text": [
            "/usr/local/lib/python3.7/dist-packages/ipykernel_launcher.py:2: RuntimeWarning: divide by zero encountered in log\n",
            "  \n",
            "/usr/local/lib/python3.7/dist-packages/ipykernel_launcher.py:2: RuntimeWarning: invalid value encountered in log\n",
            "  \n"
          ]
        },
        {
          "output_type": "display_data",
          "data": {
            "text/plain": [
              "<Figure size 432x288 with 1 Axes>"
            ],
            "image/png": "[encoded data removed]"
          },
          "metadata": {}
        }
      ]
    },
    {
      "cell_type": "markdown",
      "source": [
        "### 4) Secante "
      ],
      "metadata": {
        "id": "C-C-v2r20Z3y"
      }
    },
    {
      "cell_type": "code",
      "source": [
        ""
      ],
      "metadata": {
        "id": "r9q8xmDA0XJw"
      },
      "execution_count": null,
      "outputs": []
    }
  ]
}