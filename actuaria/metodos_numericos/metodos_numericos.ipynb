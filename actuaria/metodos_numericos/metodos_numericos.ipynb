{
  "nbformat": 4,
  "nbformat_minor": 0,
  "metadata": {
    "colab": {
      "name": "metodos_numericos.ipynb",
      "provenance": [],
      "collapsed_sections": [],
      "toc_visible": true,
      "authorship_tag": "ABX9TyPLzwjsdRrrIQzp6Mj2Vi2+",
      "include_colab_link": true
    },
    "kernelspec": {
      "name": "python3",
      "display_name": "Python 3"
    },
    "language_info": {
      "name": "python"
    }
  },
  "cells": [
    {
      "cell_type": "markdown",
      "metadata": {
        "id": "view-in-github",
        "colab_type": "text"
      },
      "source": [
        "<a href=\"https://colab.research.google.com/github/ADRIANVM117/proyectos_propios/blob/main/actuaria/metodos_numericos/metodos_numericos.ipynb\" target=\"_parent\"><img src=\"https://colab.research.google.com/assets/colab-badge.svg\" alt=\"Open In Colab\"/></a>"
      ]
    },
    {
      "cell_type": "markdown",
      "source": [
        "# 1ra clase. \n",
        "\n",
        "## Solución numerica de t.sa. No-Lineales \n",
        "\n",
        "### Metodos cerrados\n",
        "  -  Metodos de bisección \n",
        "  - Metodo de 'falsa posición'\n",
        "\n",
        "### Metodo abierto \n",
        "  - Metodo de newton-Paphson \n",
        "  - Metodo secante \n",
        "  - Metodo punto fijo \n",
        "\n",
        "\n",
        "## 1. Metodo de bisección. \n",
        "\n",
        "  - <b> Teorema de bolzano </b>\n",
        "       - Sea f una función continua en [a,b] y donde $ f(a) > 0 $ y   $ f(b) < 0 $ entonces existe $ c ∃ [a,b] $ tal que $ f(c) = 0 $. \n",
        "\n",
        " \n",
        "\n",
        " 1) si $ f(r_{n}) = 0 $ rn es la e¿raiz exacta. \n",
        " \n",
        " 2) si $ f(a) * f(r) < 0   -> b = r $ \n",
        "\n",
        "si no \n",
        "\n",
        "   $ a = r $  \n",
        "\n",
        "   "
      ],
      "metadata": {
        "id": "LtYke7I3n4fo"
      }
    },
    {
      "cell_type": "markdown",
      "source": [
        "## Ejercicio 1 \n",
        " ## Resolver $ 2^x = x + 1  $.\n",
        " ### Con una tolerancia del 0.1% = 0.001 \n",
        "\n",
        " "
      ],
      "metadata": {
        "id": "wY5gukY0yaES"
      }
    },
    {
      "cell_type": "code",
      "source": [
        "import numpy as np\n",
        "import scipy.stats as stats \n",
        "import matplotlib.pyplot as plt "
      ],
      "metadata": {
        "id": "WwVyOMVDxBxT"
      },
      "execution_count": 2,
      "outputs": []
    },
    {
      "cell_type": "markdown",
      "source": [
        "#### <b> Graficando </b>"
      ],
      "metadata": {
        "id": "6R5ue0e8yxQg"
      }
    },
    {
      "cell_type": "code",
      "source": [
        "def f(x):\n",
        "  return 2**x +x - 1\n",
        "\n",
        "x = np.linspace(-3,3,50)\n",
        "\n",
        "y = f(x)\n",
        "\n",
        "import seaborn as sns \n",
        "\n",
        "sns.set()\n",
        "plt.figure(figsize=(9,7))\n",
        "plt.plot(x,y, )\n",
        "plt.title('Función 2^x + x -1 ')\n",
        "plt.show()\n",
        "\n"
      ],
      "metadata": {
        "colab": {
          "base_uri": "https://localhost:8080/",
          "height": 447
        },
        "id": "XFwqwQGiyw0i",
        "outputId": "a700af2b-a2e7-48a4-e2f8-e02489c1bcbb"
      },
      "execution_count": 19,
      "outputs": [
        {
          "output_type": "display_data",
          "data": {
            "text/plain": [
              "<Figure size 648x504 with 1 Axes>"
            ],
            "image/png": "[encoded data removed]"
          },
          "metadata": {}
        }
      ]
    },
    {
      "cell_type": "markdown",
      "source": [
        "## Resolviendo ejercicio. "
      ],
      "metadata": {
        "id": "TMHsG5ZQ8Ct9"
      }
    },
    {
      "cell_type": "code",
      "source": [
        "# Metodo de bisección \n",
        "\n",
        "def f(x):\n",
        "  \n",
        "a = float(2)\n",
        "b =float(3)\n",
        "t = 0.0001 # tolerancia \n",
        "\n",
        "r = (a + b) / 2 # error \n",
        "e = (b -a) / 2 # error exacto \n",
        "\n",
        "while e > t:\n",
        "  if f(r) = 0:\n",
        "    e = 0\n",
        "  else:\n",
        "    if f(a) * f(b)< 0: \n",
        "      a = r \n",
        "    else:\n",
        "      a = r \n",
        "       \n",
        "    r = (a+ b )/ 2 \n",
        "    e = (b -a) / 2 \n",
        "\n",
        "print('La raiz vale {:.3f}'.format(e))"
      ],
      "metadata": {
        "id": "aJFdDUibxVvV",
        "colab": {
          "base_uri": "https://localhost:8080/",
          "height": 131
        },
        "outputId": "b9604875-1a71-46bd-c0be-16a7dde8b113"
      },
      "execution_count": 22,
      "outputs": [
        {
          "output_type": "error",
          "ename": "SyntaxError",
          "evalue": "ignored",
          "traceback": [
            "\u001b[0;36m  File \u001b[0;32m\"<ipython-input-22-fb9a3b424fb2>\"\u001b[0;36m, line \u001b[0;32m14\u001b[0m\n\u001b[0;31m    if f(r) = 0:\u001b[0m\n\u001b[0m            ^\u001b[0m\n\u001b[0;31mSyntaxError\u001b[0m\u001b[0;31m:\u001b[0m invalid syntax\n"
          ]
        }
      ]
    },
    {
      "cell_type": "markdown",
      "source": [
        "# Actividad extra. \n",
        "\n"
      ],
      "metadata": {
        "id": "38Ms0h2L8QA6"
      }
    },
    {
      "cell_type": "markdown",
      "source": [
        "## Ejercicio 1. \n",
        " <b> Un número natural 𝑛 se denomina perfecto cuando es igual a la suma de todos sus\n",
        "divisores, excepto él mismo. </b>\n",
        "\n",
        "<b> Escriba un programa que determine si un número entero positivo dado por el usuario es\n",
        "perfecto.\n",
        " </b>"
      ],
      "metadata": {
        "id": "S3umb35j8639"
      }
    },
    {
      "cell_type": "code",
      "source": [
        "  #   if n % 2 == 0:\n",
        "       #     print('Numero par', a)\n",
        "        # else:\n",
        "         #   print('utilice un numero par')\n",
        "\n",
        "\n",
        "def olo(a): \n",
        "  b = a+ 4 \n",
        "  return b \n",
        "\n",
        "n = input(a)\n",
        "\n",
        "\n",
        "  while True:\n",
        "    try:\n",
        "      if n.isnumeric() == True:\n",
        "        return n \n",
        "\n",
        "    except ValueError:\n",
        "      print(\"ATENCIÓN: Debe ingresar un número entero.\")\n",
        "  \n",
        "    else: \n",
        "      print('n es entero', n)\n"
      ],
      "metadata": {
        "colab": {
          "base_uri": "https://localhost:8080/",
          "height": 131
        },
        "id": "07yRpzgf8seD",
        "outputId": "a7a356ba-aaef-4539-8565-d3dd79dfc191"
      },
      "execution_count": 52,
      "outputs": [
        {
          "output_type": "error",
          "ename": "IndentationError",
          "evalue": "ignored",
          "traceback": [
            "\u001b[0;36m  File \u001b[0;32m\"<ipython-input-52-32976961045a>\"\u001b[0;36m, line \u001b[0;32m8\u001b[0m\n\u001b[0;31m    b = a+ 4\u001b[0m\n\u001b[0m    ^\u001b[0m\n\u001b[0;31mIndentationError\u001b[0m\u001b[0;31m:\u001b[0m expected an indented block\n"
          ]
        }
      ]
    },
    {
      "cell_type": "code",
      "source": [
        "def NumeroPerfecto(num):\n",
        "  suma = 0\n",
        "  for i in range(1,num):\n",
        "    if (num % i == 0):\n",
        "      suma += i\n",
        " \n",
        "  if num == suma:\n",
        "    return True\n",
        "  else:\n",
        "    return False\n",
        " \n",
        "num = int(input(\"introduzca un numero:\"))\n",
        " \n",
        "if NumeroPerfecto(num):\n",
        "  print(\"%s es un numero perfecto\" % num)\n",
        "else:\n",
        "  print(\"%s NO es un numero perfecto\" % num)\n",
        "\n",
        "\n",
        "try: \n",
        "  NumeroPerfecto()\n",
        "  "
      ],
      "metadata": {
        "colab": {
          "base_uri": "https://localhost:8080/"
        },
        "id": "5VXGQLscJu91",
        "outputId": "2d0d8176-f3cb-45b1-a790-cdc39b776c99"
      },
      "execution_count": 57,
      "outputs": [
        {
          "name": "stdout",
          "output_type": "stream",
          "text": [
            "s\n"
          ]
        }
      ]
    }
  ]
}