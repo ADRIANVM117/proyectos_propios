{
  "nbformat": 4,
  "nbformat_minor": 0,
  "metadata": {
    "colab": {
      "name": "metodos_numericos.ipynb",
      "provenance": [],
      "collapsed_sections": [],
      "toc_visible": true,
      "authorship_tag": "ABX9TyNNUAHYBCYQ+4j6GDntSRMl",
      "include_colab_link": true
    },
    "kernelspec": {
      "name": "python3",
      "display_name": "Python 3"
    },
    "language_info": {
      "name": "python"
    }
  },
  "cells": [
    {
      "cell_type": "markdown",
      "metadata": {
        "id": "view-in-github",
        "colab_type": "text"
      },
      "source": [
        "<a href=\"https://colab.research.google.com/github/ADRIANVM117/proyectos_propios/blob/main/actuaria/metodos_numericos/metodos_numericos.ipynb\" target=\"_parent\"><img src=\"https://colab.research.google.com/assets/colab-badge.svg\" alt=\"Open In Colab\"/></a>"
      ]
    },
    {
      "cell_type": "markdown",
      "source": [
        "# Metodo de bisección (1ra clase)\n",
        "\n",
        "## Solución numerica de t.sa. No-Lineales \n",
        "\n",
        "### Metodos cerrados\n",
        "  -  Metodos de bisección \n",
        "  - Metodo de 'falsa posición'\n",
        "\n",
        "### Metodo abierto \n",
        "  - Metodo de newton-Paphson \n",
        "  - Metodo secante \n",
        "  - Metodo punto fijo \n",
        "\n",
        "\n",
        "## 1. Metodo de bisección. \n",
        "\n",
        "  - <b> Teorema de bolzano </b>\n",
        "       - Sea f una función continua en [a,b] y donde $ f(a) > 0 $ y   $ f(b) < 0 $ entonces existe $ c ∃ [a,b] $ tal que $ f(c) = 0 $. \n",
        "\n",
        " \n",
        "\n",
        " 1) si $ f(r_{n}) = 0 $ rn es la e¿raiz exacta. \n",
        " \n",
        " 2) si $ f(a) * f(r) < 0   -> b = r $ \n",
        "\n",
        "si no \n",
        "\n",
        "   $ a = r $  \n",
        "\n",
        "   "
      ],
      "metadata": {
        "id": "LtYke7I3n4fo"
      }
    },
    {
      "cell_type": "markdown",
      "source": [
        "## Ejercicio 2.\n",
        " ## Resolver $ 2^x = x + 1  $.\n",
        " ### Con una tolerancia del 0.1% = 0.001 \n",
        "\n",
        " "
      ],
      "metadata": {
        "id": "wY5gukY0yaES"
      }
    },
    {
      "cell_type": "code",
      "source": [
        "import numpy as np\n",
        "import scipy.stats as stats \n",
        "import matplotlib.pyplot as plt "
      ],
      "metadata": {
        "id": "WwVyOMVDxBxT"
      },
      "execution_count": null,
      "outputs": []
    },
    {
      "cell_type": "markdown",
      "source": [
        "#### <b> Graficando </b>"
      ],
      "metadata": {
        "id": "6R5ue0e8yxQg"
      }
    },
    {
      "cell_type": "code",
      "source": [
        "def f(x):\n",
        "  return 2**x +x - 1\n",
        "\n",
        "x = np.linspace(-3,3,50)\n",
        "\n",
        "y = f(x)\n",
        "\n",
        "import seaborn as sns \n",
        "\n",
        "sns.set()\n",
        "plt.figure(figsize=(9,7))\n",
        "plt.plot(x,y, )\n",
        "plt.title('Función 2^x + x -1 ')\n",
        "plt.show()\n",
        "\n"
      ],
      "metadata": {
        "colab": {
          "base_uri": "https://localhost:8080/",
          "height": 447
        },
        "id": "XFwqwQGiyw0i",
        "outputId": "a700af2b-a2e7-48a4-e2f8-e02489c1bcbb"
      },
      "execution_count": null,
      "outputs": [
        {
          "output_type": "display_data",
          "data": {
            "text/plain": [
              "<Figure size 648x504 with 1 Axes>"
            ],
            "image/png": "[encoded data removed]"
          },
          "metadata": {}
        }
      ]
    },
    {
      "cell_type": "markdown",
      "source": [
        "#### Resolviendo ejercicio. "
      ],
      "metadata": {
        "id": "TMHsG5ZQ8Ct9"
      }
    },
    {
      "cell_type": "code",
      "source": [
        "# Metodo de bisección \n",
        "\n",
        "def f(x):\n",
        "  \n",
        "a = float(2)\n",
        "b =float(3)\n",
        "t = 0.0001 # tolerancia \n",
        "\n",
        "r = (a + b) / 2 # error \n",
        "e = (b -a) / 2 # error exacto \n",
        "\n",
        "while e > t:\n",
        "  if f(r) = 0:\n",
        "    e = 0\n",
        "  else:\n",
        "    if f(a) * f(b)< 0: \n",
        "      a = r \n",
        "    else:\n",
        "      a = r \n",
        "       \n",
        "    r = (a+ b )/ 2 \n",
        "    e = (b -a) / 2 \n",
        "\n",
        "print('La raiz vale {:.3f}'.format(e))"
      ],
      "metadata": {
        "id": "aJFdDUibxVvV",
        "colab": {
          "base_uri": "https://localhost:8080/",
          "height": 131
        },
        "outputId": "b9604875-1a71-46bd-c0be-16a7dde8b113"
      },
      "execution_count": null,
      "outputs": [
        {
          "output_type": "error",
          "ename": "SyntaxError",
          "evalue": "ignored",
          "traceback": [
            "\u001b[0;36m  File \u001b[0;32m\"<ipython-input-22-fb9a3b424fb2>\"\u001b[0;36m, line \u001b[0;32m14\u001b[0m\n\u001b[0;31m    if f(r) = 0:\u001b[0m\n\u001b[0m            ^\u001b[0m\n\u001b[0;31mSyntaxError\u001b[0m\u001b[0;31m:\u001b[0m invalid syntax\n"
          ]
        }
      ]
    },
    {
      "cell_type": "markdown",
      "source": [
        "# Metodo de falsa posición \n",
        "\n",
        "\n",
        "## $y - y_{0} = m(x - x_{0})  $\n",
        "\n",
        "\n",
        "### $ y - f(a) = \\frac{f(b) - f(a)}{b -a}(r_{1} - a  ) $\n",
        "\n",
        "\n",
        "### $ a - f(a) * \\frac{b -a }{f(b) - f(a)} = r_{1} $\n",
        "\n",
        "\n",
        "## $ r_{i } = \\frac{a(f(b) - f(a)) - f(a) (b-a)}{f(b) - f(a)} $ \n",
        "\n",
        "## <b> $ r_{i} = \\frac{af(b) - bf(a)}{f(b) - f(a)} \\blacksquare $ </b>\n",
        "\n",
        "## $ e_{i} = b -a  < $ Tolerancia. $\\blacksquare $ "
      ],
      "metadata": {
        "id": "-ZTCQVBbH91J"
      }
    },
    {
      "cell_type": "markdown",
      "source": [
        "## Ejercicio 2. \n"
      ],
      "metadata": {
        "id": "9fLIFpzJLQuw"
      }
    },
    {
      "cell_type": "code",
      "source": [
        "def f(x): return 2**x +x - 1\n",
        "x = np.linspace(-3,3,50)\n",
        "y = f(x)\n",
        "\n",
        "# Metodo de  falsa posición\n",
        "a = float(2)\n",
        "b =float(3)\n",
        "t = 0.001 # tolerancia \n",
        "r = (a*f(b) - b*f(a))/ (f(b) - f(a)) # error \n",
        "e = b -a # error exacto \n",
        "\n",
        "while e > t:\n",
        "  if f(r) == 0:\n",
        "    e = 0\n",
        "  else:\n",
        "    if f(a) * f(b)< 0: \n",
        "      b = r \n",
        "    else:\n",
        "      a = r \n",
        "  \n",
        "  r = a*f(b) - b*f(a)/ f(b) - f(a) # error \n",
        "  e = (b -a) / 2 \n",
        "  k=+1\n",
        "\n",
        "print('La raiz vale {:.3f}'.format(r))\n",
        "print('El error vale {:.3f}'.format(e))\n",
        "print('Numero de iteraciones {:.3f}'.format(k))"
      ],
      "metadata": {
        "id": "MKqAj0xLLOuF",
        "outputId": "57aa6c82-a9bf-4e15-e307-04d7de312d7a",
        "colab": {
          "base_uri": "https://localhost:8080/"
        }
      },
      "execution_count": null,
      "outputs": [
        {
          "output_type": "stream",
          "name": "stdout",
          "text": [
            "La raiz vale -153.886\n",
            "El error vale -2.200\n",
            "Numero de iteraciones 1.000\n"
          ]
        }
      ]
    },
    {
      "cell_type": "markdown",
      "source": [
        "# Metodo de newton - Raphson (Metodo abierto )\n",
        "\n",
        "\n",
        "## $  y - y_{0} = m(x - x_{0}) $\n",
        "\n",
        "## $ y - f(r_{0}) = f´{(r_{0}) (x - r_{0})}  $\n",
        "## $ \\frac{ - f(r_{0})}{f' {r_{0}}} = r_{1} - r_{0}  $\n",
        "\n",
        "##  $  r_{1}  = r_{0} - \\frac{f(r_{0})}{f'(r_{0})} $\n",
        "\n",
        "## $ e_{1} =  |  r_{1} - r_{0}  |  $"
      ],
      "metadata": {
        "id": "7RAACpi8OqLA"
      }
    },
    {
      "cell_type": "code",
      "source": [
        "from sympy import *"
      ],
      "metadata": {
        "id": "PoDmTYltSLN6"
      },
      "execution_count": null,
      "outputs": []
    },
    {
      "cell_type": "code",
      "source": [
        "init_printing()"
      ],
      "metadata": {
        "id": "FZ3tYr7JS89P"
      },
      "execution_count": null,
      "outputs": []
    },
    {
      "cell_type": "code",
      "source": [
        "x = Symbol('x')"
      ],
      "metadata": {
        "id": "nXc4ZBNSS_5C"
      },
      "execution_count": null,
      "outputs": []
    },
    {
      "cell_type": "code",
      "source": [
        "(pi + x)**2"
      ],
      "metadata": {
        "id": "fGJY8Yg9TDzo",
        "outputId": "38f616f9-41a5-4cdf-87e0-9e50f890621e",
        "colab": {
          "base_uri": "https://localhost:8080/",
          "height": 39
        }
      },
      "execution_count": null,
      "outputs": [
        {
          "output_type": "execute_result",
          "data": {
            "text/plain": [
              "       2\n",
              "(x + π) "
            ],
            "image/png": "[encoded data removed]",
            "text/latex": "$\\displaystyle \\left(x + \\pi\\right)^{2}$"
          },
          "metadata": {},
          "execution_count": 41
        }
      ]
    },
    {
      "cell_type": "code",
      "source": [
        "sym.diff(x**2)\n"
      ],
      "metadata": {
        "id": "ZkkQ548tTJwP",
        "outputId": "428a6b1c-9ae7-4b8c-ed82-6bc1542fd80c",
        "colab": {
          "base_uri": "https://localhost:8080/",
          "height": 39
        }
      },
      "execution_count": null,
      "outputs": [
        {
          "output_type": "execute_result",
          "data": {
            "text/plain": [
              "2⋅x"
            ],
            "image/png": "[encoded data removed]",
            "text/latex": "$\\displaystyle 2 x$"
          },
          "metadata": {},
          "execution_count": 42
        }
      ]
    },
    {
      "cell_type": "markdown",
      "source": [
        "## Ejercico 3 "
      ],
      "metadata": {
        "id": "pYuKzsAYZHKK"
      }
    },
    {
      "cell_type": "code",
      "source": [
        "def f(x): return x**2  - 5  -  np.sin(x)\n",
        "x = np.linspace(-3,3,50)\n",
        "y = f(x)\n",
        "import seaborn as sns \n",
        "sns.set()\n",
        "plt.figure(figsize=(9,7))\n",
        "plt.plot(x,y, )\n",
        "plt.title('Función x^2 - 5 -senx  ')\n",
        "plt.show()"
      ],
      "metadata": {
        "id": "nOVnECwTUS94",
        "outputId": "24af7827-0bad-448f-c85c-44f8861bcc1e",
        "colab": {
          "base_uri": "https://localhost:8080/",
          "height": 447
        }
      },
      "execution_count": null,
      "outputs": [
        {
          "output_type": "display_data",
          "data": {
            "text/plain": [
              "<Figure size 648x504 with 1 Axes>"
            ],
            "image/png": "[encoded data removed]"
          },
          "metadata": {}
        }
      ]
    },
    {
      "cell_type": "code",
      "source": [
        "# Metodo de  falsa posición\n",
        "x = np.linspace(-3,3,50)\n",
        "a =  x**2  - 5  -  np.sin(x)\n",
        "def g(x): return sym.diff(a)\n",
        "\n",
        "t = 0.1 # tolerancia \n",
        "e = np.Infinity # error infinito \n",
        "r = -3 # semilla \n",
        "\n",
        "while e > t:\n",
        "  r_0 = r\n",
        "  r = r_0 - f(r_0) / sym.diff(r_0)\n",
        "  e = np.abs(r - r_0)\n",
        "  \n",
        "print('La raiz vale {:.3f}'.format(r))\n",
        "print('El error vale {:.3f}'.format(e))   \n"
      ],
      "metadata": {
        "id": "9hJSdvkwTqnP",
        "outputId": "b7ba8872-9d6c-41ec-9dec-f2879add89c3",
        "colab": {
          "base_uri": "https://localhost:8080/",
          "height": 381
        }
      },
      "execution_count": null,
      "outputs": [
        {
          "output_type": "error",
          "ename": "TypeError",
          "evalue": "ignored",
          "traceback": [
            "\u001b[0;31m---------------------------------------------------------------------------\u001b[0m",
            "\u001b[0;31mTypeError\u001b[0m                                 Traceback (most recent call last)",
            "\u001b[0;32m<ipython-input-47-179384dcd75d>\u001b[0m in \u001b[0;36m<module>\u001b[0;34m\u001b[0m\n\u001b[1;32m      8\u001b[0m \u001b[0mr\u001b[0m \u001b[0;34m=\u001b[0m \u001b[0;34m-\u001b[0m\u001b[0;36m3\u001b[0m \u001b[0;31m# semilla\u001b[0m\u001b[0;34m\u001b[0m\u001b[0;34m\u001b[0m\u001b[0m\n\u001b[1;32m      9\u001b[0m \u001b[0;34m\u001b[0m\u001b[0m\n\u001b[0;32m---> 10\u001b[0;31m \u001b[0;32mwhile\u001b[0m \u001b[0me\u001b[0m \u001b[0;34m>\u001b[0m \u001b[0mt\u001b[0m\u001b[0;34m:\u001b[0m\u001b[0;34m\u001b[0m\u001b[0;34m\u001b[0m\u001b[0m\n\u001b[0m\u001b[1;32m     11\u001b[0m   \u001b[0mr_0\u001b[0m \u001b[0;34m=\u001b[0m \u001b[0mr\u001b[0m\u001b[0;34m\u001b[0m\u001b[0;34m\u001b[0m\u001b[0m\n\u001b[1;32m     12\u001b[0m   \u001b[0mr\u001b[0m \u001b[0;34m=\u001b[0m \u001b[0mr_0\u001b[0m \u001b[0;34m-\u001b[0m \u001b[0mf\u001b[0m\u001b[0;34m(\u001b[0m\u001b[0mr_0\u001b[0m\u001b[0;34m)\u001b[0m \u001b[0;34m/\u001b[0m \u001b[0msym\u001b[0m\u001b[0;34m.\u001b[0m\u001b[0mdiff\u001b[0m\u001b[0;34m(\u001b[0m\u001b[0mr_0\u001b[0m\u001b[0;34m)\u001b[0m\u001b[0;34m\u001b[0m\u001b[0;34m\u001b[0m\u001b[0m\n",
            "\u001b[0;32m/usr/local/lib/python3.7/dist-packages/sympy/core/decorators.py\u001b[0m in \u001b[0;36m_func\u001b[0;34m(self, other)\u001b[0m\n\u001b[1;32m    265\u001b[0m             \u001b[0;32mif\u001b[0m \u001b[0;32mnot\u001b[0m \u001b[0misinstance\u001b[0m\u001b[0;34m(\u001b[0m\u001b[0mother\u001b[0m\u001b[0;34m,\u001b[0m \u001b[0mexpectedcls\u001b[0m\u001b[0;34m)\u001b[0m\u001b[0;34m:\u001b[0m\u001b[0;34m\u001b[0m\u001b[0;34m\u001b[0m\u001b[0m\n\u001b[1;32m    266\u001b[0m                 \u001b[0;32mreturn\u001b[0m \u001b[0mretval\u001b[0m\u001b[0;34m\u001b[0m\u001b[0;34m\u001b[0m\u001b[0m\n\u001b[0;32m--> 267\u001b[0;31m             \u001b[0;32mreturn\u001b[0m \u001b[0mfunc\u001b[0m\u001b[0;34m(\u001b[0m\u001b[0mself\u001b[0m\u001b[0;34m,\u001b[0m \u001b[0mother\u001b[0m\u001b[0;34m)\u001b[0m\u001b[0;34m\u001b[0m\u001b[0;34m\u001b[0m\u001b[0m\n\u001b[0m\u001b[1;32m    268\u001b[0m \u001b[0;34m\u001b[0m\u001b[0m\n\u001b[1;32m    269\u001b[0m         \u001b[0;32mreturn\u001b[0m \u001b[0m_func\u001b[0m\u001b[0;34m\u001b[0m\u001b[0;34m\u001b[0m\u001b[0m\n",
            "\u001b[0;32m/usr/local/lib/python3.7/dist-packages/sympy/core/expr.py\u001b[0m in \u001b[0;36m__gt__\u001b[0;34m(self, other)\u001b[0m\n\u001b[1;32m    368\u001b[0m     \u001b[0;32mdef\u001b[0m \u001b[0m__gt__\u001b[0m\u001b[0;34m(\u001b[0m\u001b[0mself\u001b[0m\u001b[0;34m,\u001b[0m \u001b[0mother\u001b[0m\u001b[0;34m)\u001b[0m\u001b[0;34m:\u001b[0m\u001b[0;34m\u001b[0m\u001b[0;34m\u001b[0m\u001b[0m\n\u001b[1;32m    369\u001b[0m         \u001b[0;32mfrom\u001b[0m \u001b[0;34m.\u001b[0m\u001b[0mrelational\u001b[0m \u001b[0;32mimport\u001b[0m \u001b[0mStrictGreaterThan\u001b[0m\u001b[0;34m\u001b[0m\u001b[0;34m\u001b[0m\u001b[0m\n\u001b[0;32m--> 370\u001b[0;31m         \u001b[0;32mreturn\u001b[0m \u001b[0mStrictGreaterThan\u001b[0m\u001b[0;34m(\u001b[0m\u001b[0mself\u001b[0m\u001b[0;34m,\u001b[0m \u001b[0mother\u001b[0m\u001b[0;34m)\u001b[0m\u001b[0;34m\u001b[0m\u001b[0;34m\u001b[0m\u001b[0m\n\u001b[0m\u001b[1;32m    371\u001b[0m \u001b[0;34m\u001b[0m\u001b[0m\n\u001b[1;32m    372\u001b[0m     \u001b[0;34m@\u001b[0m\u001b[0msympify_return\u001b[0m\u001b[0;34m(\u001b[0m\u001b[0;34m[\u001b[0m\u001b[0;34m(\u001b[0m\u001b[0;34m'other'\u001b[0m\u001b[0;34m,\u001b[0m \u001b[0;34m'Expr'\u001b[0m\u001b[0;34m)\u001b[0m\u001b[0;34m]\u001b[0m\u001b[0;34m,\u001b[0m \u001b[0mNotImplemented\u001b[0m\u001b[0;34m)\u001b[0m\u001b[0;34m\u001b[0m\u001b[0;34m\u001b[0m\u001b[0m\n",
            "\u001b[0;32m/usr/local/lib/python3.7/dist-packages/sympy/core/relational.py\u001b[0m in \u001b[0;36m__new__\u001b[0;34m(cls, lhs, rhs, **options)\u001b[0m\n\u001b[1;32m    700\u001b[0m                     \u001b[0;32mraise\u001b[0m \u001b[0mTypeError\u001b[0m\u001b[0;34m(\u001b[0m\u001b[0;34m\"Invalid comparison of non-real %s\"\u001b[0m \u001b[0;34m%\u001b[0m \u001b[0mme\u001b[0m\u001b[0;34m)\u001b[0m\u001b[0;34m\u001b[0m\u001b[0;34m\u001b[0m\u001b[0m\n\u001b[1;32m    701\u001b[0m                 \u001b[0;32mif\u001b[0m \u001b[0mme\u001b[0m \u001b[0;32mis\u001b[0m \u001b[0mS\u001b[0m\u001b[0;34m.\u001b[0m\u001b[0mNaN\u001b[0m\u001b[0;34m:\u001b[0m\u001b[0;34m\u001b[0m\u001b[0;34m\u001b[0m\u001b[0m\n\u001b[0;32m--> 702\u001b[0;31m                     \u001b[0;32mraise\u001b[0m \u001b[0mTypeError\u001b[0m\u001b[0;34m(\u001b[0m\u001b[0;34m\"Invalid NaN comparison\"\u001b[0m\u001b[0;34m)\u001b[0m\u001b[0;34m\u001b[0m\u001b[0;34m\u001b[0m\u001b[0m\n\u001b[0m\u001b[1;32m    703\u001b[0m             \u001b[0;31m# First we invoke the appropriate inequality method of `lhs`\u001b[0m\u001b[0;34m\u001b[0m\u001b[0;34m\u001b[0m\u001b[0;34m\u001b[0m\u001b[0m\n\u001b[1;32m    704\u001b[0m             \u001b[0;31m# (e.g., `lhs.__lt__`).  That method will try to reduce to\u001b[0m\u001b[0;34m\u001b[0m\u001b[0;34m\u001b[0m\u001b[0;34m\u001b[0m\u001b[0m\n",
            "\u001b[0;31mTypeError\u001b[0m: Invalid NaN comparison"
          ]
        }
      ]
    },
    {
      "cell_type": "markdown",
      "source": [
        "# Metodo secante "
      ],
      "metadata": {
        "id": "tqaKJL0fYgD5"
      }
    },
    {
      "cell_type": "markdown",
      "source": [
        "# Actividad extra. \n",
        "\n"
      ],
      "metadata": {
        "id": "38Ms0h2L8QA6"
      }
    },
    {
      "cell_type": "markdown",
      "source": [
        "## Ejercicio 1. \n",
        " <b> Un número natural 𝑛 se denomina perfecto cuando es igual a la suma de todos sus\n",
        "divisores, excepto él mismo. </b>\n",
        "\n",
        "<b> Escriba un programa que determine si un número entero positivo dado por el usuario es\n",
        "perfecto.\n",
        " </b>"
      ],
      "metadata": {
        "id": "S3umb35j8639"
      }
    },
    {
      "cell_type": "code",
      "source": [
        "def n_perfecto(num):\n",
        "  # Función n_perfecto para validar si un numero es perfecto\n",
        "  suma = 0  # inicio mi contador \n",
        "  for i in range(1,num): #declaro un ciclo for dentro de un rango, iniciando en 1 hasta mi variable entrada\n",
        "    if (num % i == 0):   # uso un condicional donde solo entraran los numeros con residuo 0 \n",
        "      suma += i          # estos numeros los ire acumulando dentro de mi contador hasta llegar a la variable\n",
        "                         # entrada \n",
        "\n",
        "  if num == suma:        # si mi suma es igual a mi variable entrada; me encuentro con un numero perfecto\n",
        "    return True\n",
        "  else:                  # de lo contrario no. \n",
        "    return False\n",
        "\n",
        "\n",
        "\n",
        "while True:      # Antes de utilizar mi función n_perfectos, decido usar un ciclo while que solo admita\n",
        "                 # numeros naturales positivos\n",
        "                 # este ciclo revienta hasta que se valide que se ingresan numeros enteros positivos. \n",
        "  variable_a_usar = input(\"Ingrese número entero: \")\n",
        "  if variable_a_usar.isdigit() is True:\n",
        "    num = int(variable_a_usar)\n",
        "    n_perfecto(num)\n",
        "    break\n",
        "\n",
        "print(\"El número es %d\" % (num))\n",
        "\n",
        "\n",
        "                  # ultima sentencia if que imprima si el numero ingresado es o no perfecto.\n",
        "if n_perfecto(num):\n",
        "  print(\"%s es un numero perfecto\" % num)\n",
        "else:\n",
        "  print(\"%s NO es un numero perfecto\" % num)"
      ],
      "metadata": {
        "colab": {
          "base_uri": "https://localhost:8080/"
        },
        "id": "5VXGQLscJu91",
        "outputId": "7f6e7a6e-6b62-4173-d391-17cb3bba3d96"
      },
      "execution_count": 63,
      "outputs": [
        {
          "output_type": "stream",
          "name": "stdout",
          "text": [
            "Ingrese número entero: 2\n",
            "El número es 2\n",
            "2 NO es un numero perfecto\n"
          ]
        }
      ]
    },
    {
      "cell_type": "markdown",
      "source": [
        "## Ejercicio 2.\n",
        "\n",
        "<b> El cuadrado de un número 𝑛 puede calcularse mediante la suma de los 𝑛 primeros\n",
        "números impare </b>\n",
        "\n",
        "- Sabemos que el algoritmo para obtener el cuadrado de un numero es. \n",
        "\n",
        "   $ \\sum_{i = 1}^{n}{2i - 1} = n^2   $\n"
      ],
      "metadata": {
        "id": "pSvXqx2bONIm"
      }
    },
    {
      "cell_type": "code",
      "source": [
        "num = int(input('ingrese un numero: '))  # ingresamos variable entrada\n",
        " \n",
        "i = 1  # inicializamos contador i en 1  \n",
        "suma = 0 # contador suma en 0 \n",
        "\n",
        "while  i <= num:    # ciclo while hasta que el contador sea menor o igual a la variable entrada  \n",
        "  suma += (2*i) - 1  # algoritmo para obtener los numeros impares \n",
        "  i += 1             # contador acumulativo \n",
        "  print(f'En el momento: {i - 1} la suma vale {suma}')\n",
        "print('\\n')\n",
        "print(f'SUMA: {suma} ')"
      ],
      "metadata": {
        "colab": {
          "base_uri": "https://localhost:8080/"
        },
        "id": "CuuefkS_HpRT",
        "outputId": "b7d42195-89a0-4886-fa5e-0de45e16433e"
      },
      "execution_count": 45,
      "outputs": [
        {
          "output_type": "stream",
          "name": "stdout",
          "text": [
            "ingrese un numero: 3\n",
            "En el momento: 1 la suma vale 1\n",
            "En el momento: 2 la suma vale 4\n",
            "En el momento: 3 la suma vale 9\n",
            "\n",
            "\n",
            "SUMA: 9 \n"
          ]
        }
      ]
    },
    {
      "cell_type": "markdown",
      "source": [
        "## Ejercicio 3. \n",
        "\n",
        "<b>  Escriba un programa que determine el mayor o menor número, de 𝑛 números (validarlo)\n",
        "ingresados por teclado. El programa debe preguntar si desea volver a ejecutarse. </b>"
      ],
      "metadata": {
        "id": "4eG_POd7U4oI"
      }
    },
    {
      "cell_type": "code",
      "source": [
        "# Declaro un ciclo while \n",
        "while True: \n",
        "  print('Menu')\n",
        "  print('.................')\n",
        "  print('seleccione una opción:')\n",
        "  print('1) Buscar el menor de los numeros ingresado por ti')\n",
        "  print('2) Buscar el mayor de los numeros ingresado por ti')\n",
        "  print('3) salir')\n",
        "\n",
        "  opcion = input('Selecciona una opción: ')\n",
        "  \n",
        "  if opcion ==  '1':\n",
        "    mayor = 0\n",
        "    numeros = int(input('Ingrese la catidad de numeros a comparar: ')) #El usuario ingresa la cantidad de \n",
        "                                                                     #numeros\n",
        "    for i in range(numeros):\n",
        "      num = int(input('Ingresa un numero: '))\n",
        "      if num > mayor:\n",
        "        mayor = num\n",
        "    print('El mayor numero es ', mayor)\n",
        "\n",
        "  if opcion ==  '2':\n",
        "    menor = 0\n",
        "    numeros = int(input('Ingrese la catidad de numeros a comparar')) #El usuario ingresa la cantidad de \n",
        "                                                                     #numeros\n",
        "    for i in range(numeros):\n",
        "      num = int(input('Ingresa un numero: '))\n",
        "      if num < mayor:\n",
        "        mayor = num\n",
        "    print('El menor numero es ', menor)\n",
        "\n",
        "  if opcion == '3':\n",
        "    break \n"
      ],
      "metadata": {
        "colab": {
          "base_uri": "https://localhost:8080/"
        },
        "id": "ge3PoK7rb4_2",
        "outputId": "0afe39dc-5b27-4218-a3a8-39a83f2eb0d5"
      },
      "execution_count": 62,
      "outputs": [
        {
          "name": "stdout",
          "output_type": "stream",
          "text": [
            "Menu\n",
            ".................\n",
            "seleccione una opción:\n",
            "1) Buscar el menor de los numeros ingresado por ti\n",
            "2) Buscar el mayor de los numeros ingresado por ti\n",
            "3) salir\n",
            "Selecciona una opción: 2\n",
            "Ingrese la catidad de numeros a comparar3\n",
            "Ingresa un numero: 2\n",
            "Ingresa un numero: 5\n",
            "Ingresa un numero: 1\n",
            "El menor numero es  0\n",
            "Menu\n",
            ".................\n",
            "seleccione una opción:\n",
            "1) Buscar el menor de los numeros ingresado por ti\n",
            "2) Buscar el mayor de los numeros ingresado por ti\n",
            "3) salir\n",
            "Selecciona una opción: 3\n"
          ]
        }
      ]
    },
    {
      "cell_type": "markdown",
      "source": [
        "## Ejercicio 4 \n",
        "\n",
        "<b> Escriba un programa que determine si un número natural 𝑛 es o no perfecto. El programa\n",
        "debe validar el número, el cual debe ser entero y positivo, y preguntar si desea volver a\n",
        "ejecutarse.\n",
        " </b>"
      ],
      "metadata": {
        "id": "arf-lXmUsS8B"
      }
    },
    {
      "cell_type": "code",
      "source": [
        "# Declaramos funcion\n",
        "\n",
        "def n_perfecto(num):\n",
        "  # Función n_perfecto para validar si un numero es perfecto\n",
        "  suma = 0  # inicio mi contador \n",
        "  for i in range(1,num): #declaro un ciclo for dentro de un rango, iniciando en 1 hasta mi variable entrada\n",
        "    if (num % i == 0):   # uso un condicional donde solo entraran los numeros con residuo 0 \n",
        "      suma += i          # estos numeros los ire acumulando dentro de mi contador hasta llegar a la variable\n",
        "                         # entrada \n",
        "\n",
        "  if num == suma:        # si mi suma es igual a mi variable entrada; me encuentro con un numero perfecto\n",
        "    return True\n",
        "  else:                  # de lo contrario no. \n",
        "    return False\n",
        "\n",
        "#-----------------------------------------------------------------\n",
        "# Iniciamos un ciclo while que pregunte al usuario si iniciar el programa o cerrarlo \n",
        "while True: \n",
        "  print('¿Iniciar programa: ?')\n",
        "  print('1) si')\n",
        "  print('2) no')\n",
        "\n",
        "  opcion = input('Seleccione: ')\n",
        "\n",
        "  if opcion == '1':\n",
        "    while True:     \n",
        "      variable_a_usar = input(\"Ingrese número entero: \")\n",
        "      if variable_a_usar.isdigit() is True:\n",
        "        num = int(variable_a_usar)\n",
        "        n_perfecto(num)\n",
        "        break\n",
        "    print(\"El número es %d\" % (num))\n",
        "\n",
        "\n",
        "                  # ultima sentencia if que imprima si el numero ingresado es o no perfecto.\n",
        "    if n_perfecto(num):\n",
        "      print(\"%s es un numero perfecto\" % num)\n",
        "    else:\n",
        "      print(\"%s NO es un numero perfecto\" % num)\n",
        "\n",
        "  elif opcion == '2':  # el programa se cierra\n",
        "    break \n",
        "\n",
        "\n",
        "  \n",
        "\n",
        "\n",
        "\n"
      ],
      "metadata": {
        "colab": {
          "base_uri": "https://localhost:8080/"
        },
        "id": "pOcH7KtEVEs7",
        "outputId": "8f4d9a54-1753-471b-d2f8-41a082e96dda"
      },
      "execution_count": 65,
      "outputs": [
        {
          "name": "stdout",
          "output_type": "stream",
          "text": [
            "¿Iniciar programa: ?\n",
            "1) si\n",
            "2) no\n",
            "Seleccione: 1\n",
            "Ingrese número entero: -2\n",
            "Ingrese número entero: 3.2\n",
            "Ingrese número entero: 28\n",
            "El número es 28\n",
            "28 es un numero perfecto\n",
            "¿Iniciar programa: ?\n",
            "1) si\n",
            "2) no\n",
            "Seleccione: 2\n"
          ]
        }
      ]
    },
    {
      "cell_type": "markdown",
      "source": [
        "## Ejercicio 5 \n",
        "\n",
        "<b>  Calcule el Máximo Común Divisor (MCD) de dos números enteros y positivos, en caso de\n",
        "que no lo sean, el programa deberá enviar un mensaje de error y se abortará el\n",
        "programa. </b>\n",
        "\n",
        "- Solución: \n",
        "   - Para este ejercicio me apoyare del algoritmo euclidiano.\n",
        "\n",
        "  $  a = b * q_{1} + r_{1} $ con  $ r_{1} < b  $\n",
        "\n",
        "  divisiones sucesivas:\n",
        "\n",
        "  $  b = r_{1} * q_{2} + r_{2} $ con  $ r_{2} < r_{1} \n",
        "   $\n",
        "\n",
        "   $.$\n",
        "\n",
        "   $.$\n",
        "   \n",
        "   $.$\n",
        "   \n",
        "   $  r_{n-1} = r_{n}* q_{n + 1} + 0  < r_{n} $\n",
        "\n",
        "\n"
      ],
      "metadata": {
        "id": "2zMZdyH92tXZ"
      }
    },
    {
      "cell_type": "code",
      "source": [
        "# Funcion que me indica si dos numeros tiene MCD \n",
        "\n",
        "def gcd(a, b):\n",
        "\tif b == 0: return a\n",
        "\treturn gcd(b, a%b)\n",
        "\n",
        "a = int(input('Ingrese el 1r numero: '))\n",
        "b = int(input('Ingrese el 1r numero: '))\n",
        "\n",
        "print(f'el maximo comun divison es: {gcd(a,b)} '.format())"
      ],
      "metadata": {
        "colab": {
          "base_uri": "https://localhost:8080/"
        },
        "id": "fOauesHL3IC6",
        "outputId": "a162cf83-a85e-40cd-8b3b-682c75f7215d"
      },
      "execution_count": 71,
      "outputs": [
        {
          "output_type": "stream",
          "name": "stdout",
          "text": [
            "Ingrese el 1r numero: 60\n",
            "Ingrese el 1r numero: 70\n",
            "el maximo comun divison es: 10 \n"
          ]
        }
      ]
    }
  ]
}