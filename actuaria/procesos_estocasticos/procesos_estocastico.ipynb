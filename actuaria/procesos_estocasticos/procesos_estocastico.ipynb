{
  "nbformat": 4,
  "nbformat_minor": 0,
  "metadata": {
    "colab": {
      "name": "procesos_estocastico.ipynb",
      "provenance": [],
      "toc_visible": true,
      "authorship_tag": "ABX9TyMGdNVph+lgnyMAbS4yWFqd",
      "include_colab_link": true
    },
    "kernelspec": {
      "name": "python3",
      "display_name": "Python 3"
    },
    "language_info": {
      "name": "python"
    }
  },
  "cells": [
    {
      "cell_type": "markdown",
      "metadata": {
        "id": "view-in-github",
        "colab_type": "text"
      },
      "source": [
        "<a href=\"https://colab.research.google.com/github/ADRIANVM117/proyectos_propios/blob/main/actuaria/procesos_estocasticos/procesos_estocastico.ipynb\" target=\"_parent\"><img src=\"https://colab.research.google.com/assets/colab-badge.svg\" alt=\"Open In Colab\"/></a>"
      ]
    },
    {
      "cell_type": "markdown",
      "source": [
        "#  Probabilidad Transición.\n",
        "\n",
        "### $ P(X_{n+1} = j | X_{n} = i ) = P_{ij}(n,n+1)$\n",
        "\n",
        "\n",
        "# Cadena de Markov Homogenea si (1) y (2) iguales.\n",
        "\n",
        "\n",
        "### $ P(X_{n+1} = j | X_{n} = i ) = P_{ij}(n,n+1) ... (1)$\n",
        "\n",
        "### $ P(X_{m+1} = j | X_{m} = i ) = P_{ij}(m,m+1) ... (2)$\n",
        "\n",
        "- $ (1) = (2) $\n",
        "\n",
        "Solo se indican por la cantidad de pasos\n",
        "\n",
        "La probabilidad no cambia con el tiempo \n",
        "\n",
        "### $P_{ij}(1)  = P_{ij} $\n",
        "\n",
        "$ \\overline{P} = i$\n",
        "\n",
        "\n",
        "\\begin{bmatrix}\n",
        "P_{0,0} & P_{0,1} & P_{0,2} & ...\\\\\n",
        "P_{1,0} & P_{1,1} & P_{1,2} & ...\\\\\n",
        ".  &  . &  . & ...\\\\\n",
        "P_{n,0} & P_{n,1} & P_{n,2} & ...\n",
        "\\end{bmatrix}\n",
        "\n",
        "\n",
        "$ \\sum_{P_{0,j}} = 1$\n",
        "\n",
        "$ \\sum_{P_{1,j}} = 1$\n",
        "\n",
        "$ \\sum_{P_{2,j}} = 1$\n",
        "\n",
        "$ \\sum_{P_{n,j}} = 1$\n",
        "\n",
        "## Definición. \n",
        "   - Una matriz $\\bar{p}$ es estocastica si $ \\sum_{P_{ij}} = 1$   .Para todo $i,j e \\S$\n",
        "\n",
        "\n",
        "## Definición. \n",
        "\n",
        "si $$ \\sum_{ieS}^{N}  P_{ij}=  1$$  y    $$\\sum_{jeS}^{N}  P_{ij} =  1 $$\n",
        " \n",
        "\n",
        "- La matriz es doblemente estocastica \n",
        "\n",
        "\n",
        "## Diagrama de transición \n",
        "\n",
        "PENDIENTE \n",
        "\n",
        "\n",
        "## EJEMPLOS \n",
        "   -  a) Cadena de dos estados, $ \\S  ={{0,1}}$\n",
        "\n",
        "$\\bar{P} = i$\n",
        "\n",
        "\\begin{bmatrix}\n",
        " 1- \\alpha & \\alpha \\\\\n",
        "1 - β & β & \\\\\n",
        "\\end{bmatrix}\n",
        "\n",
        "\n",
        " \n",
        "\n",
        "\n",
        "\n",
        "\n",
        "\n",
        "\n",
        "\n",
        "\n",
        "\n",
        "\n"
      ],
      "metadata": {
        "id": "mk7Tb-A0cV2p"
      }
    },
    {
      "cell_type": "markdown",
      "source": [
        "# Clase 2 \n",
        "\n",
        "## Cadena de racha de exitos \n",
        "\n",
        "- Diagrama de transición \n",
        "\n",
        "\n",
        "## Caminata aleatoria \n",
        "\n",
        "  - Espacio muestral el conjunto de los numeros enteros\n",
        "\n",
        "## Caminata aleatoria simettrica \n",
        "\n",
        "## ruina del jugador \n",
        "\n",
        " - Estado absorbente \n",
        "\n",
        " \n",
        "\n",
        "\n",
        "      "
      ],
      "metadata": {
        "id": "Bzs2O_Sy3GW-"
      }
    }
  ]
}