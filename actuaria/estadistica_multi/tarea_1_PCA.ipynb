{
  "nbformat": 4,
  "nbformat_minor": 0,
  "metadata": {
    "colab": {
      "name": "tarea_1_PCA.ipynb",
      "provenance": [],
      "authorship_tag": "ABX9TyMzTD5tFy+bulMk2f79I/g2",
      "include_colab_link": true
    },
    "kernelspec": {
      "name": "python3",
      "display_name": "Python 3"
    },
    "language_info": {
      "name": "python"
    }
  },
  "cells": [
    {
      "cell_type": "markdown",
      "metadata": {
        "id": "view-in-github",
        "colab_type": "text"
      },
      "source": [
        "<a href=\"https://colab.research.google.com/github/ADRIANVM117/proyectos_propios/blob/main/actuaria/estadistica_multi/tarea_1_PCA.ipynb\" target=\"_parent\"><img src=\"https://colab.research.google.com/assets/colab-badge.svg\" alt=\"Open In Colab\"/></a>"
      ]
    },
    {
      "cell_type": "markdown",
      "source": [
        "## Ejercicio 1 \n",
        "<b> Crear una función propia de la desviación estandar. </b>\n",
        "\n",
        "## $ \\sigma = [\\frac{1}{N}\\sum_{i = 1}^{N}{(a_{i} - \\bar{a})^2}]^{1/2}   $"
      ],
      "metadata": {
        "id": "ola7DFJ0UtHh"
      }
    },
    {
      "cell_type": "code",
      "source": [
        "import numpy as np\n",
        "\n",
        "# Función para calcular la desviación estandar\n",
        "def desv(x):\n",
        "  suma = 0  # contador donde se almacenara todas las operaciones que recorra el ciclo for \n",
        "\n",
        "  x_bar = np.mean(x) # calcula primero la media del arreglo \n",
        "  for i in x:        # ciclo for para sumar los cuadrados de las operaciones hasta el ultimo dato dentro del arreglo \n",
        "    suma += (i - x_bar)**2   #  el cuadrado de la resta entre cada i (variable que recorre el ciclo for) y la media \n",
        "  div = suma/(len(x)- 1 )     \n",
        "  raiz = div**(1/2)      # sacamos la raiz \n",
        "  return raiz \n",
        "\n",
        "\n",
        "a = [3,5,6,4,7,1,6,8,3,5,6,1,7,8,9]\n",
        "\n",
        "print('Desviación estandar usando numpy: \\t{:.3f} '.format(np.std(a)))\n",
        "print('\\n')\n",
        "print('Desviación estandar usando mi función: \\t{:.3f} '.format(desv(a)))"
      ],
      "metadata": {
        "colab": {
          "base_uri": "https://localhost:8080/"
        },
        "id": "W55EicQlUwRi",
        "outputId": "0c0fe9af-8ca8-433c-e303-e214a4a252bc"
      },
      "execution_count": null,
      "outputs": [
        {
          "output_type": "stream",
          "name": "stdout",
          "text": [
            "Desviación estandar usando numpy: \t2.380 \n",
            "\n",
            "\n",
            "Desviación estandar usando mi función: \t2.463 \n"
          ]
        }
      ]
    },
    {
      "cell_type": "markdown",
      "source": [
        "## Ejercicio 2\n",
        "<b> . Supongamos que se tienen 4 puntos de datos {x1, x2, x3, x4}, $ xi ∈ R^3$, representados con la\n",
        "matriz.  </b>\n",
        "\n",
        "\n",
        "\n",
        "\\begin{bmatrix}\n",
        "4 & 3 & 2 \\\\\n",
        "2 & 1 & -2 \\\\\n",
        " 4 &  -1 & 2 \\\\\n",
        "-2 & 1 & 2\n",
        "\\end{bmatrix}\n",
        "\n",
        "\n",
        "\n",
        "-  <b>a) Realiza un PCA de los datos X, esto es, encuentra los componentes principales y sus varianzas\n",
        "asociadas en el sistema coordenado.</b>\n",
        "\n",
        "-  <b> b)Proyecta los datos en dos dimensiones ¿Qu´e fracci´on de la varianza de X se preserva?\n",
        "  </b>"
      ],
      "metadata": {
        "id": "8JJ_OU_Aa8Wb"
      }
    },
    {
      "cell_type": "markdown",
      "source": [
        ""
      ],
      "metadata": {
        "id": "R1x_2i9pi2La"
      }
    },
    {
      "cell_type": "code",
      "source": [
        "import numpy as np\n",
        "\n",
        "L = np.array([4, 3, 2, 2, 1, -2, 4, -1, 2, -2, 1,2 ]).reshape(3,4)\n",
        "L"
      ],
      "metadata": {
        "colab": {
          "base_uri": "https://localhost:8080/"
        },
        "id": "W1-p_F2Si3Bq",
        "outputId": "9d0466dc-cba1-45a1-e80c-23dd8d50c821"
      },
      "execution_count": null,
      "outputs": [
        {
          "output_type": "execute_result",
          "data": {
            "text/plain": [
              "array([[ 4,  3,  2,  2],\n",
              "       [ 1, -2,  4, -1],\n",
              "       [ 2, -2,  1,  2]])"
            ]
          },
          "metadata": {},
          "execution_count": 2
        }
      ]
    },
    {
      "cell_type": "code",
      "source": [
        "PCA(L, 2)"
      ],
      "metadata": {
        "id": "cUZj3OWWjPLK"
      },
      "execution_count": null,
      "outputs": []
    },
    {
      "cell_type": "code",
      "source": [
        "from matplotlib.cbook import sanitize_sequence\n",
        "import seaborn as sns \n",
        "import matplotlib.pyplot as plt \n",
        "\n",
        "x = np.array([4,2, 4, 2])\n",
        "y = np.array([3,1,-1,1])\n",
        "z = np.array([2,-2,2,2])\n",
        "\n",
        "sns.set_style(\"darkgrid\")\n",
        "plt.figure(figsize=(6,5))\n",
        "axes = plt.axes(projection='3d')\n",
        "print(type(axes))\n",
        "axes.scatter3D(x, y, z)\n",
        "\n",
        "axes.set_xlabel('x')\n",
        "axes.set_ylabel('y')\n",
        "axes.set_zlabel('z')\n",
        "plt.show()"
      ],
      "metadata": {
        "colab": {
          "base_uri": "https://localhost:8080/",
          "height": 321
        },
        "id": "vYSQN38hWGHb",
        "outputId": "a26e9382-3435-477f-bad1-76d56de4ae3e"
      },
      "execution_count": null,
      "outputs": [
        {
          "output_type": "stream",
          "name": "stdout",
          "text": [
            "<class 'matplotlib.axes._subplots.Axes3DSubplot'>\n"
          ]
        },
        {
          "output_type": "display_data",
          "data": {
            "text/plain": [
              "<Figure size 432x360 with 1 Axes>"
            ],
            "image/png": "[encoded data removed]"
          },
          "metadata": {}
        }
      ]
    },
    {
      "cell_type": "code",
      "source": [
        "from sklearn.preprocessing import StandardScaler\n",
        "from sklearn.decomposition import PCA\n",
        "import pandas as pd \n",
        "datos = [[4, 3, 2],\n",
        "         [2, 1, -2],\n",
        "         [4, -1, 2],\n",
        "         [-2 ,1, 2]]\n",
        "columnas = ['x', 'y','z'] # definimos los nombres de las columnas\n",
        "\n",
        "arreglo = pd.DataFrame(datos, columns = columnas)\n",
        "\n",
        "\n",
        "# Cramos un objeto scaler y aplicamos estandarización a nuestros datos\n",
        "scaler = StandardScaler()\n",
        "arreglo_std = scaler.fit_transform(arreglo)\n",
        "\n",
        "# Cremos un objeto PCA y ajustamos a los datos \n",
        "pca = PCA()\n",
        "pca_objeto = pca.fit_transform(arreglo_std)\n",
        "pca_arreglo = pd.DataFrame(pca_objeto, columns = ['PC_1', 'PC_2', 'PC_3']) \n",
        "print(arreglo)\n",
        "print('\\n')\n",
        "print(arreglo_std)\n",
        "print('\\n')\n",
        "print(pca_arreglo)\n"
      ],
      "metadata": {
        "colab": {
          "base_uri": "https://localhost:8080/"
        },
        "id": "v2jFEfxniUOG",
        "outputId": "7347f7fb-d5a2-4f87-d4aa-5e1cef1e1b3d"
      },
      "execution_count": null,
      "outputs": [
        {
          "output_type": "stream",
          "name": "stdout",
          "text": [
            "   x  y  z\n",
            "0  4  3  2\n",
            "1  2  1 -2\n",
            "2  4 -1  2\n",
            "3 -2  1  2\n",
            "\n",
            "\n",
            "[[ 0.81649658  1.41421356  0.57735027]\n",
            " [ 0.          0.         -1.73205081]\n",
            " [ 0.81649658 -1.41421356  0.57735027]\n",
            " [-1.63299316  0.          0.57735027]]\n",
            "\n",
            "\n",
            "       PC_1      PC_2      PC_3\n",
            "0 -0.816497  0.116058  1.523110\n",
            "1  0.000000  1.549193 -0.774597\n",
            "2 -0.816497 -1.148853 -1.006712\n",
            "3  1.632993 -0.516398  0.258199\n"
          ]
        }
      ]
    },
    {
      "cell_type": "code",
      "source": [
        "print(pca.explained_variance_ratio_)"
      ],
      "metadata": {
        "colab": {
          "base_uri": "https://localhost:8080/"
        },
        "id": "2P_gN_aDpn3X",
        "outputId": "e8b46a4c-ad63-45dc-8581-2d56aaf27d30"
      },
      "execution_count": null,
      "outputs": [
        {
          "output_type": "stream",
          "name": "stdout",
          "text": [
            "[0.33333333 0.33333333 0.33333333]\n"
          ]
        }
      ]
    },
    {
      "cell_type": "code",
      "source": [
        "sns.scatterplot(x = pca_arreglo['PC_1'], y = pca_arreglo['PC_2'])\n",
        "plt.show()"
      ],
      "metadata": {
        "colab": {
          "base_uri": "https://localhost:8080/",
          "height": 280
        },
        "id": "LOrDLruyo7lu",
        "outputId": "15e00cec-f92d-4d24-9656-6f41ba00c0c3"
      },
      "execution_count": null,
      "outputs": [
        {
          "output_type": "display_data",
          "data": {
            "text/plain": [
              "<Figure size 432x288 with 1 Axes>"
            ],
            "image/png": "[encoded data removed]"
          },
          "metadata": {}
        }
      ]
    },
    {
      "cell_type": "markdown",
      "source": [
        "## Ejercicio 3 \n",
        "\n",
        "<b>  Genera una muestra aleatoria de tamaño n = 100 a partir de una distribución normal 3-\n",
        "dimensional, en donde una de las variables tenga una varianza muy grande. Realiza un PCA usando la\n",
        "matriz de correlación. Además, encuentra los eigenvalores, dibuja la gráfica scree y comenta tus resultados  </b>"
      ],
      "metadata": {
        "id": "OUjbERHvtLS1"
      }
    },
    {
      "cell_type": "code",
      "source": [
        ""
      ],
      "metadata": {
        "id": "sSH43MA0rvyW"
      },
      "execution_count": null,
      "outputs": []
    }
  ]
}