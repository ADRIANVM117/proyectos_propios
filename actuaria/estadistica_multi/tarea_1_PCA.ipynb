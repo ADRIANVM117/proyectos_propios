{
  "nbformat": 4,
  "nbformat_minor": 0,
  "metadata": {
    "colab": {
      "name": "tarea_1_PCA.ipynb",
      "provenance": [],
      "toc_visible": true,
      "authorship_tag": "ABX9TyMTEXGFfMySr3DzbjCjbc/V",
      "include_colab_link": true
    },
    "kernelspec": {
      "name": "python3",
      "display_name": "Python 3"
    },
    "language_info": {
      "name": "python"
    }
  },
  "cells": [
    {
      "cell_type": "markdown",
      "metadata": {
        "id": "view-in-github",
        "colab_type": "text"
      },
      "source": [
        "<a href=\"https://colab.research.google.com/github/ADRIANVM117/proyectos_propios/blob/main/actuaria/estadistica_multi/tarea_1_PCA.ipynb\" target=\"_parent\"><img src=\"https://colab.research.google.com/assets/colab-badge.svg\" alt=\"Open In Colab\"/></a>"
      ]
    },
    {
      "cell_type": "markdown",
      "source": [
        "## Ejercicio 1 \n",
        "<b> Crear una función propia de la desviación estandar. </b>\n",
        "\n",
        "## $ \\sigma = [\\frac{1}{N}\\sum_{i = 1}^{N}{(a_{i} - \\bar{a})^2}]^{1/2}   $"
      ],
      "metadata": {
        "id": "ola7DFJ0UtHh"
      }
    },
    {
      "cell_type": "code",
      "source": [
        "import numpy as np\n",
        "import pandas as pd \n",
        "\n",
        "# Función para calcular la desviación estandar\n",
        "def desv(x):\n",
        "  suma = 0  # contador donde se almacenara todas las operaciones que recorra el ciclo for \n",
        "\n",
        "  x_bar = np.mean(x) # calcula primero la media del arreglo \n",
        "  for i in x:        # ciclo for para sumar los cuadrados de las operaciones hasta el ultimo dato dentro del arreglo \n",
        "    suma += (i - x_bar)**2   #  el cuadrado de la resta entre cada i (variable que recorre el ciclo for) y la media \n",
        "  div = suma/(len(x)- 1 )     \n",
        "  raiz = div**(1/2)      # sacamos la raiz \n",
        "  return raiz \n",
        "\n",
        "\n",
        "a = [3,5,6,4,7,1,6,8,3,5,6,1,7,8,9]\n",
        "\n",
        "print('Desviación estandar usando numpy: \\t{:.3f} '.format(np.std(a)))\n",
        "print('\\n')\n",
        "print('Desviación estandar usando mi función: \\t{:.3f} '.format(desv(a)))"
      ],
      "metadata": {
        "colab": {
          "base_uri": "https://localhost:8080/"
        },
        "id": "W55EicQlUwRi",
        "outputId": "3ce5f98c-59e8-43ef-aa9f-848155053a4f"
      },
      "execution_count": 18,
      "outputs": [
        {
          "output_type": "stream",
          "name": "stdout",
          "text": [
            "Desviación estandar usando numpy: \t2.380 \n",
            "\n",
            "\n",
            "Desviación estandar usando mi función: \t2.463 \n"
          ]
        }
      ]
    },
    {
      "cell_type": "markdown",
      "source": [
        "## Ejercicio 2\n",
        "<b> . Supongamos que se tienen 4 puntos de datos {x1, x2, x3, x4}, $ xi ∈ R^3$, representados con la\n",
        "matriz.  </b>\n",
        "\n",
        "\n",
        "\n",
        "\\begin{bmatrix}\n",
        "4 & 3 & 2 \\\\\n",
        "2 & 1 & -2 \\\\\n",
        " 4 &  -1 & 2 \\\\\n",
        "-2 & 1 & 2\n",
        "\\end{bmatrix}\n",
        "\n",
        "\n",
        "\n",
        "-  <b>a) Realiza un PCA de los datos X, esto es, encuentra los componentes principales y sus varianzas\n",
        "asociadas en el sistema coordenado.</b>\n",
        "\n",
        "-  <b> b)Proyecta los datos en dos dimensiones ¿Qu´e fracci´on de la varianza de X se preserva?\n",
        "  </b>"
      ],
      "metadata": {
        "id": "8JJ_OU_Aa8Wb"
      }
    },
    {
      "cell_type": "markdown",
      "source": [],
      "metadata": {
        "id": "R1x_2i9pi2La"
      }
    },
    {
      "cell_type": "code",
      "source": [
        "import numpy as np\n",
        "\n",
        "L = np.array([4, 3, 2, 2, 1, -2, 4, -1, 2, -2, 1,2 ]).reshape(3,4)\n",
        "L"
      ],
      "metadata": {
        "colab": {
          "base_uri": "https://localhost:8080/"
        },
        "id": "W1-p_F2Si3Bq",
        "outputId": "ef8ac651-8e8f-4a21-894c-556570e4ffb6"
      },
      "execution_count": 19,
      "outputs": [
        {
          "output_type": "execute_result",
          "data": {
            "text/plain": [
              "array([[ 4,  3,  2,  2],\n",
              "       [ 1, -2,  4, -1],\n",
              "       [ 2, -2,  1,  2]])"
            ]
          },
          "metadata": {},
          "execution_count": 19
        }
      ]
    },
    {
      "cell_type": "code",
      "source": [],
      "metadata": {
        "id": "cUZj3OWWjPLK"
      },
      "execution_count": 19,
      "outputs": []
    },
    {
      "cell_type": "code",
      "source": [
        "from matplotlib.cbook import sanitize_sequence\n",
        "import seaborn as sns \n",
        "import matplotlib.pyplot as plt \n",
        "\n",
        "x = np.array([4,2, 4, 2])\n",
        "y = np.array([3,1,-1,1])\n",
        "z = np.array([2,-2,2,2])\n",
        "\n",
        "sns.set_style(\"darkgrid\")\n",
        "plt.figure(figsize=(6,5))\n",
        "axes = plt.axes(projection='3d')\n",
        "print(type(axes))\n",
        "axes.scatter3D(x, y, z)\n",
        "\n",
        "axes.set_xlabel('x')\n",
        "axes.set_ylabel('y')\n",
        "axes.set_zlabel('z')\n",
        "plt.show()"
      ],
      "metadata": {
        "colab": {
          "base_uri": "https://localhost:8080/",
          "height": 320
        },
        "id": "vYSQN38hWGHb",
        "outputId": "03a4292c-2edb-41c6-9a31-ac7740480e57"
      },
      "execution_count": 20,
      "outputs": [
        {
          "output_type": "stream",
          "name": "stdout",
          "text": [
            "<class 'matplotlib.axes._subplots.Axes3DSubplot'>\n"
          ]
        },
        {
          "output_type": "display_data",
          "data": {
            "text/plain": [
              "<Figure size 432x360 with 1 Axes>"
            ],
            "image/png": "[encoded data removed]"
          },
          "metadata": {}
        }
      ]
    },
    {
      "cell_type": "code",
      "source": [
        "from sklearn.preprocessing import StandardScaler\n",
        "from sklearn.decomposition import PCA\n",
        "import pandas as pd \n",
        "datos = [[4, 3, 2],\n",
        "         [2, 1, -2],\n",
        "         [4, -1, 2],\n",
        "         [-2 ,1, 2]]\n",
        "columnas = ['x', 'y','z'] # definimos los nombres de las columnas\n",
        "\n",
        "arreglo = pd.DataFrame(datos, columns = columnas)\n",
        "\n",
        "\n",
        "# Cramos un objeto scaler y aplicamos estandarización a nuestros datos\n",
        "scaler = StandardScaler()\n",
        "arreglo_std = scaler.fit_transform(arreglo)\n",
        "\n",
        "# Cremos un objeto PCA y ajustamos a los datos \n",
        "pca = PCA()\n",
        "pca_objeto = pca.fit_transform(arreglo_std)\n",
        "pca_arreglo = pd.DataFrame(pca_objeto, columns = ['PC_1', 'PC_2', 'PC_3']) \n",
        "print(arreglo)\n",
        "print('\\n')\n",
        "print(arreglo_std)\n",
        "print('\\n')\n",
        "print(pca_arreglo)\n"
      ],
      "metadata": {
        "colab": {
          "base_uri": "https://localhost:8080/"
        },
        "id": "v2jFEfxniUOG",
        "outputId": "b14e9e58-0623-4560-a260-955aec1f88b8"
      },
      "execution_count": 21,
      "outputs": [
        {
          "output_type": "stream",
          "name": "stdout",
          "text": [
            "   x  y  z\n",
            "0  4  3  2\n",
            "1  2  1 -2\n",
            "2  4 -1  2\n",
            "3 -2  1  2\n",
            "\n",
            "\n",
            "[[ 0.81649658  1.41421356  0.57735027]\n",
            " [ 0.          0.         -1.73205081]\n",
            " [ 0.81649658 -1.41421356  0.57735027]\n",
            " [-1.63299316  0.          0.57735027]]\n",
            "\n",
            "\n",
            "       PC_1      PC_2      PC_3\n",
            "0 -0.816497  0.116058  1.523110\n",
            "1  0.000000  1.549193 -0.774597\n",
            "2 -0.816497 -1.148853 -1.006712\n",
            "3  1.632993 -0.516398  0.258199\n"
          ]
        }
      ]
    },
    {
      "cell_type": "code",
      "source": [
        "print(pca.explained_variance_ratio_)"
      ],
      "metadata": {
        "colab": {
          "base_uri": "https://localhost:8080/"
        },
        "id": "2P_gN_aDpn3X",
        "outputId": "045b949f-57b0-473c-dafb-a9e469e2557b"
      },
      "execution_count": 22,
      "outputs": [
        {
          "output_type": "stream",
          "name": "stdout",
          "text": [
            "[0.33333333 0.33333333 0.33333333]\n"
          ]
        }
      ]
    },
    {
      "cell_type": "code",
      "source": [
        "sns.scatterplot(x = pca_arreglo['PC_1'], y = pca_arreglo['PC_2'])\n",
        "plt.show()"
      ],
      "metadata": {
        "colab": {
          "base_uri": "https://localhost:8080/",
          "height": 285
        },
        "id": "LOrDLruyo7lu",
        "outputId": "05560729-ee1f-4809-c7f5-7417158541b1"
      },
      "execution_count": 23,
      "outputs": [
        {
          "output_type": "display_data",
          "data": {
            "text/plain": [
              "<Figure size 432x288 with 1 Axes>"
            ],
            "image/png": "[encoded data removed]"
          },
          "metadata": {}
        }
      ]
    },
    {
      "cell_type": "markdown",
      "source": [
        "## Ejercicio 3 \n",
        "\n",
        "<b>  Genera una muestra aleatoria de tamaño n = 100 a partir de una distribución normal 3-\n",
        "dimensional, en donde una de las variables tenga una varianza muy grande. Realiza un PCA usando la\n",
        "matriz de correlación. Además, encuentra los eigenvalores, dibuja la gráfica scree y comenta tus resultados  </b>"
      ],
      "metadata": {
        "id": "OUjbERHvtLS1"
      }
    },
    {
      "cell_type": "code",
      "source": [
        "# Generamos una muestra\n",
        "mu, sigma = 0, 1 # media y desvio estandar\n",
        "datos = np.random.normal(mu, sigma, 1000) #creando muestra de datos \n",
        "\n",
        "# Graficamos\n",
        "# histograma de distribución normal.\n",
        "import seaborn as sns\n",
        "sns.set()\n",
        "plt.figure(figsize =(9,6))\n",
        "plt.hist(datos, 20)\n",
        "plt.ylabel('frequencia')\n",
        "plt.xlabel('valores')\n",
        "plt.title('Histograma')\n",
        "plt.show()\n"
      ],
      "metadata": {
        "id": "k4cLJ4Z-K4Fp",
        "outputId": "0223e8fb-ace5-4a70-da9f-e939897119a5",
        "colab": {
          "base_uri": "https://localhost:8080/",
          "height": 410
        }
      },
      "execution_count": 24,
      "outputs": [
        {
          "output_type": "display_data",
          "data": {
            "text/plain": [
              "<Figure size 648x432 with 1 Axes>"
            ],
            "image/png": "[encoded data removed]"
          },
          "metadata": {}
        }
      ]
    },
    {
      "cell_type": "code",
      "source": [
        "binomial = pd.DataFrame()\n",
        "muestreo_binom = np.random.normal(1, 0.7, 100) \n",
        "binomial = muestreo_binom\n",
        "binomia = pd.DataFrame(binomial, columns = ['Muestreo 1'])\n",
        "\n",
        "import random as random\n",
        "mues_aleato = random.sample(list(binomial),100) # generamos una muestra aleatoria de n:100 de la distr. normal \n",
        "muest = np.array(mues_aleato)\n",
        "Y = muest.reshape(20,5)   \n",
        "media = Y - np.mean(Y, axis = 0)             # centramos la media \n",
        "matriz_cov = np.cov(media, rowvar = False) # matriz de covarianza \n",
        "eigen_val, eigen_vec = np.linalg.eigh(matriz_cov)     # eigenvalores y eigenvectores\n",
        "\n",
        "eigen_val = eigen_val[np.argsort(eigen_val)[::-1]]    # reinscribimos eigenvectores y eigenvalores de froma decreciente \n",
        "eigen_vec = eigen_vec[:,np.argsort(eigen_val)[::-1]]\n",
        "n_components = 2 \n",
        "eigenvector_2 = eigen_vec[:,0:n_components]  \n",
        "\n",
        "# Varianza explicada de un \n",
        "eigen_val_total = sum(eigen_val)\n",
        "varianza_explicada = [(i/ eigen_val_total )*100 for i in eigen_val ]\n",
        "varianza_explicada = np.round(varianza_explicada, 2)\n",
        "varianza_explicada_acumulada = np.cumsum(varianza_explicada)\n",
        "print(\"Varianza explicada: {}\".format(varianza_explicada))\n",
        "print(\"Varianza explicada acumulada: {}\".format(varianza_explicada_acumulada))\n"
      ],
      "metadata": {
        "id": "sSH43MA0rvyW",
        "outputId": "d8fa5649-bfdb-40fe-b6b1-f668f64e6107",
        "colab": {
          "base_uri": "https://localhost:8080/"
        }
      },
      "execution_count": 25,
      "outputs": [
        {
          "output_type": "stream",
          "name": "stdout",
          "text": [
            "Varianza explicada: [33.97 22.94 19.35 14.99  8.74]\n",
            "Varianza explicada acumulada: [33.97 56.91 76.26 91.25 99.99]\n"
          ]
        }
      ]
    },
    {
      "cell_type": "code",
      "source": [
        "# Escribimos lo anterior como función \n",
        "def PCA(X , num_componentes):\n",
        "    X_media = X - np.mean(X , axis = 0)\n",
        "    cov_mat = np.cov(X_media , rowvar = False) \n",
        "    eigen_val , eigen_vec = np.linalg.eigh(cov_mat)\n",
        "    sorted_index = np.argsort(eigen_val)[::-1]\n",
        "    sorted_eigenval = eigen_val[sorted_index]\n",
        "    sorted_eigenvec = eigen_vec[:,sorted_index] \n",
        "    eigenvector_ = sorted_eigenvec[:,0:num_componentes] \n",
        "    X_red = np.dot(eigenvector_.transpose() , X_media.transpose() ).transpose() \n",
        "    return X_red\n",
        "\n",
        "\n",
        "pca = PCA(matriz_cov,5)\n",
        "# Tabla que muestra a las dos componentes principales\n",
        "principal_df = pd.DataFrame(pca, columns = ['PC1','PC2', 'PC3', 'PC4' ,'PC5'])\n",
        "plt.figure(figsize = (6,6))\n",
        "sns.scatterplot(data = principal_df , x = 'PC1',y = 'PC2'  , s = 60 , palette= 'icefire')"
      ],
      "metadata": {
        "id": "y-a6TK8FVRFp",
        "colab": {
          "base_uri": "https://localhost:8080/",
          "height": 411
        },
        "outputId": "a196b53d-affd-4b29-b094-d3d104df5331"
      },
      "execution_count": 26,
      "outputs": [
        {
          "output_type": "execute_result",
          "data": {
            "text/plain": [
              "<matplotlib.axes._subplots.AxesSubplot at 0x7fd96f21a2d0>"
            ]
          },
          "metadata": {},
          "execution_count": 26
        },
        {
          "output_type": "display_data",
          "data": {
            "text/plain": [
              "<Figure size 432x432 with 1 Axes>"
            ],
            "image/png": "[encoded data removed]"
          },
          "metadata": {}
        }
      ]
    },
    {
      "cell_type": "markdown",
      "source": [
        "## Ejercicio 4 \n",
        "<b>  Calcula las varianzas empíricas de las componentes principales y realiza un scree </b>"
      ],
      "metadata": {
        "id": "VgBOYuIlE0t3"
      }
    },
    {
      "cell_type": "code",
      "source": [
        "z = np.array([140.017, 107.881, 139.068, 109.095,\n",
        "               0     , 106.038, 110.0439, 82.627,\n",
        "               0    , 0      , 168.752 , 125.136,\n",
        "               0     , 0      ,  0      , 108.960])\n",
        "z = z.reshape(4,4)\n",
        "# Ya que tenemos la matriz de covarianza, calculamos los eigenvalores\n",
        "eigen_val, eigen_vec = np.linalg.eigh(z)\n",
        "eigen_val_total = sum(eigen_val)  # suma total de eigenvalores\n",
        "varianza_explicada = [(i/ eigen_val_total )*100 for i in eigen_val ]\n",
        "varianza_explicada = np.round(varianza_explicada, 2)\n",
        "#print(\"Varianza explicada: {}\".format(varianza_explicada))\n",
        "#columns = ['precip. Julio', 'Temp. med. Julio', 'Velo. med. viento Julio', 'Precip. sept.']\n",
        "df = pd.DataFrame(varianza_explicada)\n",
        "df = df.transpose()\n",
        "df_clima = df.columns = ['precip. Julio', 'Temp. med. Julio', 'Velo. med. viento Julio', 'Precip. sept.']\n",
        "print(df)\n",
        "#GRAFICANDO \n",
        "sns.set()\n",
        "plt.figure(figsize=(9,7))\n",
        "ax = sns.barplot(x = df.columns, y = df.iloc[0])\n",
        "plt.xticks(rotation=45)\n",
        "plt.show()\n"
      ],
      "metadata": {
        "colab": {
          "base_uri": "https://localhost:8080/",
          "height": 550
        },
        "id": "L1S03p1-Fv2t",
        "outputId": "8fa59e4f-a201-4fda-a3a2-6b7a4d3a744e"
      },
      "execution_count": 27,
      "outputs": [
        {
          "output_type": "stream",
          "name": "stdout",
          "text": [
            "   precip. Julio  Temp. med. Julio  Velo. med. viento Julio  Precip. sept.\n",
            "0          20.25              20.8                    26.73          32.22\n"
          ]
        },
        {
          "output_type": "display_data",
          "data": {
            "text/plain": [
              "<Figure size 648x504 with 1 Axes>"
            ],
            "image/png": "[encoded data removed]"
          },
          "metadata": {}
        }
      ]
    },
    {
      "cell_type": "markdown",
      "source": [
        "## Ejercicio 5 \n",
        "<b> Tortugas   </b>\n",
        "  - . En el archivo tortugas.txt Hay tres variables, largo, ancho y alto,\n",
        "de los caparazones de 48 tortugas pintadas, 24 hembras y 24 machos."
      ],
      "metadata": {
        "id": "gbFpz1BUTg_J"
      }
    },
    {
      "cell_type": "markdown",
      "source": [
        "#### a)\n",
        "<b> Tome logaritmos de las tres variables.\n",
        "Estime el vector medio y la matriz de covarianza del macho. tortugas y de las tortugas hembra por separado.\n",
        "Encuentre los valores propios y los vectores propios de cada matriz de covarianza estimada y lleve a cabo\n",
        "un PCA de cada conjunto de datos </b>"
      ],
      "metadata": {
        "id": "h61g6JxfUtLO"
      }
    },
    {
      "cell_type": "code",
      "source": [
        "# Tratamiento de datos\n",
        "df_tortuga = pd.read_csv('https://web.stanford.edu/class/bios221/data/PaintedTurtles.txt')\n",
        "df_tortuga.columns = ['titulo']\n",
        "df_tortuga[['sex','length', 'width', 'height']]=df_tortuga.titulo.str.split('\\t',expand=True)\n",
        "df_tortuga = df_tortuga.drop(['titulo'],axis = 1)\n",
        "#df_tortuga.head()\n",
        "#DataFrame listo para usar \n",
        "\n",
        "df_categ = df_tortuga['sex']  # separo variables categoricas y numericas\n",
        "df_nume = df_tortuga.drop(['sex'],axis = 1)\n",
        "\n",
        "# Cramos un objeto scaler y aplicamos estandarización a nuestros datos\n",
        "scaler = StandardScaler()\n",
        "arreglo_std = scaler.fit_transform(df_nume)\n",
        "\n",
        "df_nume_scale = pd.DataFrame(arreglo_std, columns = ['length', 'width', 'height']) # el arreglo lo pasamos a DF\n",
        "# concatenamos los DataFrame\n",
        "df_listo = pd.concat([df_categ, df_nume_scale], axis = 1)\n",
        "df_listo.head()"
      ],
      "metadata": {
        "colab": {
          "base_uri": "https://localhost:8080/",
          "height": 206
        },
        "id": "H68F9IWXU49h",
        "outputId": "310e9400-cfdd-4493-d44c-75d09a6d0b73"
      },
      "execution_count": 28,
      "outputs": [
        {
          "output_type": "execute_result",
          "data": {
            "text/plain": [
              "  sex    length     width    height\n",
              "0  f  -1.316787 -1.151031 -1.003417\n",
              "1  f  -1.070083 -0.911856 -1.003417\n",
              "2  f  -1.070083 -0.752406 -0.521777\n",
              "3  f  -0.971401 -0.752406 -0.762597\n",
              "4  f  -0.774037 -0.592955 -0.280957"
            ],
            "text/html": [
              "\n",
              "  <div id=\"df-78e7e5f3-55e3-4e25-b0fb-0ca276a57eeb\">\n",
              "    <div class=\"colab-df-container\">\n",
              "      <div>\n",
              "<style scoped>\n",
              "    .dataframe tbody tr th:only-of-type {\n",
              "        vertical-align: middle;\n",
              "    }\n",
              "\n",
              "    .dataframe tbody tr th {\n",
              "        vertical-align: top;\n",
              "    }\n",
              "\n",
              "    .dataframe thead th {\n",
              "        text-align: right;\n",
              "    }\n",
              "</style>\n",
              "<table border=\"1\" class=\"dataframe\">\n",
              "  <thead>\n",
              "    <tr style=\"text-align: right;\">\n",
              "      <th></th>\n",
              "      <th>sex</th>\n",
              "      <th>length</th>\n",
              "      <th>width</th>\n",
              "      <th>height</th>\n",
              "    </tr>\n",
              "  </thead>\n",
              "  <tbody>\n",
              "    <tr>\n",
              "      <th>0</th>\n",
              "      <td>f</td>\n",
              "      <td>-1.316787</td>\n",
              "      <td>-1.151031</td>\n",
              "      <td>-1.003417</td>\n",
              "    </tr>\n",
              "    <tr>\n",
              "      <th>1</th>\n",
              "      <td>f</td>\n",
              "      <td>-1.070083</td>\n",
              "      <td>-0.911856</td>\n",
              "      <td>-1.003417</td>\n",
              "    </tr>\n",
              "    <tr>\n",
              "      <th>2</th>\n",
              "      <td>f</td>\n",
              "      <td>-1.070083</td>\n",
              "      <td>-0.752406</td>\n",
              "      <td>-0.521777</td>\n",
              "    </tr>\n",
              "    <tr>\n",
              "      <th>3</th>\n",
              "      <td>f</td>\n",
              "      <td>-0.971401</td>\n",
              "      <td>-0.752406</td>\n",
              "      <td>-0.762597</td>\n",
              "    </tr>\n",
              "    <tr>\n",
              "      <th>4</th>\n",
              "      <td>f</td>\n",
              "      <td>-0.774037</td>\n",
              "      <td>-0.592955</td>\n",
              "      <td>-0.280957</td>\n",
              "    </tr>\n",
              "  </tbody>\n",
              "</table>\n",
              "</div>\n",
              "      <button class=\"colab-df-convert\" onclick=\"convertToInteractive('df-78e7e5f3-55e3-4e25-b0fb-0ca276a57eeb')\"\n",
              "              title=\"Convert this dataframe to an interactive table.\"\n",
              "              style=\"display:none;\">\n",
              "        \n",
              "  <svg xmlns=\"http://www.w3.org/2000/svg\" height=\"24px\"viewBox=\"0 0 24 24\"\n",
              "       width=\"24px\">\n",
              "    <path d=\"M0 0h24v24H0V0z\" fill=\"none\"/>\n",
              "    <path d=\"M18.56 5.44l.94 2.06.94-2.06 2.06-.94-2.06-.94-.94-2.06-.94 2.06-2.06.94zm-11 1L8.5 8.5l.94-2.06 2.06-.94-2.06-.94L8.5 2.5l-.94 2.06-2.06.94zm10 10l.94 2.06.94-2.06 2.06-.94-2.06-.94-.94-2.06-.94 2.06-2.06.94z\"/><path d=\"M17.41 7.96l-1.37-1.37c-.4-.4-.92-.59-1.43-.59-.52 0-1.04.2-1.43.59L10.3 9.45l-7.72 7.72c-.78.78-.78 2.05 0 2.83L4 21.41c.39.39.9.59 1.41.59.51 0 1.02-.2 1.41-.59l7.78-7.78 2.81-2.81c.8-.78.8-2.07 0-2.86zM5.41 20L4 18.59l7.72-7.72 1.47 1.35L5.41 20z\"/>\n",
              "  </svg>\n",
              "      </button>\n",
              "      \n",
              "  <style>\n",
              "    .colab-df-container {\n",
              "      display:flex;\n",
              "      flex-wrap:wrap;\n",
              "      gap: 12px;\n",
              "    }\n",
              "\n",
              "    .colab-df-convert {\n",
              "      background-color: #E8F0FE;\n",
              "      border: none;\n",
              "      border-radius: 50%;\n",
              "      cursor: pointer;\n",
              "      display: none;\n",
              "      fill: #1967D2;\n",
              "      height: 32px;\n",
              "      padding: 0 0 0 0;\n",
              "      width: 32px;\n",
              "    }\n",
              "\n",
              "    .colab-df-convert:hover {\n",
              "      background-color: #E2EBFA;\n",
              "      box-shadow: 0px 1px 2px rgba(60, 64, 67, 0.3), 0px 1px 3px 1px rgba(60, 64, 67, 0.15);\n",
              "      fill: #174EA6;\n",
              "    }\n",
              "\n",
              "    [theme=dark] .colab-df-convert {\n",
              "      background-color: #3B4455;\n",
              "      fill: #D2E3FC;\n",
              "    }\n",
              "\n",
              "    [theme=dark] .colab-df-convert:hover {\n",
              "      background-color: #434B5C;\n",
              "      box-shadow: 0px 1px 3px 1px rgba(0, 0, 0, 0.15);\n",
              "      filter: drop-shadow(0px 1px 2px rgba(0, 0, 0, 0.3));\n",
              "      fill: #FFFFFF;\n",
              "    }\n",
              "  </style>\n",
              "\n",
              "      <script>\n",
              "        const buttonEl =\n",
              "          document.querySelector('#df-78e7e5f3-55e3-4e25-b0fb-0ca276a57eeb button.colab-df-convert');\n",
              "        buttonEl.style.display =\n",
              "          google.colab.kernel.accessAllowed ? 'block' : 'none';\n",
              "\n",
              "        async function convertToInteractive(key) {\n",
              "          const element = document.querySelector('#df-78e7e5f3-55e3-4e25-b0fb-0ca276a57eeb');\n",
              "          const dataTable =\n",
              "            await google.colab.kernel.invokeFunction('convertToInteractive',\n",
              "                                                     [key], {});\n",
              "          if (!dataTable) return;\n",
              "\n",
              "          const docLinkHtml = 'Like what you see? Visit the ' +\n",
              "            '<a target=\"_blank\" href=https://colab.research.google.com/notebooks/data_table.ipynb>data table notebook</a>'\n",
              "            + ' to learn more about interactive tables.';\n",
              "          element.innerHTML = '';\n",
              "          dataTable['output_type'] = 'display_data';\n",
              "          await google.colab.output.renderOutput(dataTable, element);\n",
              "          const docLink = document.createElement('div');\n",
              "          docLink.innerHTML = docLinkHtml;\n",
              "          element.appendChild(docLink);\n",
              "        }\n",
              "      </script>\n",
              "    </div>\n",
              "  </div>\n",
              "  "
            ]
          },
          "metadata": {},
          "execution_count": 28
        }
      ]
    },
    {
      "cell_type": "code",
      "source": [
        "# obtenemos la media del largo, ancho y peso de la tortuga macho y hembra\n",
        "tortugas_medidas = df_listo.groupby('sex')[['length'\t,'width','height']].mean()\n",
        "# Ahora sacamos la media de cada feature de cada sexo \n",
        "#M\n",
        "tortugas_m = df_listo[df_listo['sex'] == 'm ']\n",
        "m = tortugas_m.drop(['sex'], axis = 1)\n",
        "arreglo_m = np.array(m)\n",
        "media_m_centrada = arreglo_m -  np.mean(arreglo_m, axis = 0)\n",
        "#F\n",
        "tortugas_f = df_listo[df_listo['sex'] == 'f ']\n",
        "f = tortugas_f.drop(['sex'], axis = 1)\n",
        "arreglo_f = np.array(f)\n",
        "media_f_centrada = arreglo_f -  np.mean(arreglo_f, axis = 0)\n",
        "\n",
        "\n",
        "# sacamos la matriz de covarianza de cada genero \n",
        "cov_m = np.cov(media_m_centrada, rowvar = False)\n",
        "print(cov_m)\n",
        "print('\\n')\n",
        "cov_f = np.cov(media_f_centrada, rowvar = False)\n",
        "print(cov_f)\n"
      ],
      "metadata": {
        "colab": {
          "base_uri": "https://localhost:8080/"
        },
        "id": "fOjos7z7crpe",
        "outputId": "70df4574-ac00-40ff-f85b-869b060ce9a4"
      },
      "execution_count": 59,
      "outputs": [
        {
          "output_type": "stream",
          "name": "stdout",
          "text": [
            "[[0.33783105 0.31134064 0.22205056]\n",
            " [0.31134064 0.31806934 0.20787188]\n",
            " [0.22205056 0.20787188 0.16324047]]\n",
            "\n",
            "\n",
            "[[1.09892672 1.06672064 1.00224651]\n",
            " [1.06672064 1.09154331 0.99151741]\n",
            " [1.00224651 0.99151741 0.9663363 ]]\n"
          ]
        }
      ]
    },
    {
      "cell_type": "code",
      "source": [
        "# Manipulación de pandas, para usar el PCA()\n",
        "df_f  = df_tortuga[df_tortuga['sex'] == 'f ']\n",
        "df_m  = df_tortuga[df_tortuga['sex'] == 'm ']\n",
        "df_f_1 = df_f.drop(['sex'],axis = 1)\n",
        "df_m_1 = df_m.drop(['sex'], axis = 1)"
      ],
      "metadata": {
        "id": "lVWTBD8KNBOd"
      },
      "execution_count": 71,
      "outputs": []
    },
    {
      "cell_type": "code",
      "source": [
        "# Calculo eigenvalores y eigenvectores de la matriz de los machos y hembras\n",
        "#M\n",
        "eigen_val_m, eigen_vec_m = np.linalg.eigh(cov_m)\n",
        "#F\n",
        "eigen_val_f, eigen_vec_f = np.linalg.eigh(cov_f)\n",
        "# Utilizando PCA() de la biblioteca de sklearn\n",
        "from sklearn.decomposition import PCA\n",
        "from sklearn.preprocessing import StandardScaler \n",
        "# Estandarizamos nustros dos set\n",
        "scaler = StandardScaler()\n",
        "scaler_m =  scaler.fit_transform(df_m_1)\n",
        "scaler_f =  scaler.fit_transform(df_f_1)\n",
        "#aplicamos pca() a nuestros set de datos \n",
        "pca = PCA() #\n",
        "pca_m = pca.fit(scaler_m)\n",
        "pca_f = pca.fit(scaler_f)\n",
        "\n",
        "# porcentaje de varianza explicada por componente\n",
        "print('Componentes del set de machos : ', pca_m.explained_variance_ratio_) \n",
        "print('\\n')\n",
        "print('Componentes del set de Hembras : ', pca_f.explained_variance_ratio_) "
      ],
      "metadata": {
        "id": "L4B2pwiD_4aB",
        "outputId": "8f49f45a-ea06-41e6-d23b-9ea0af84ed22",
        "colab": {
          "base_uri": "https://localhost:8080/"
        }
      },
      "execution_count": 72,
      "outputs": [
        {
          "output_type": "stream",
          "name": "stdout",
          "text": [
            "Componentes del set de machos :  [0.98043958 0.01154736 0.00801306]\n",
            "\n",
            "\n",
            "Componentes del set de Hembras :  [0.98043958 0.01154736 0.00801306]\n"
          ]
        }
      ]
    },
    {
      "cell_type": "markdown",
      "source": [
        "### b)\n",
        "<b>  Encuentre una expresi´on para el volumen del caparaz´on de una tortuga\n",
        "para machos y hembras. (Sugerencia: use el hecho de que las variables son logaritmos de las medidas\n",
        "originales.) Comparar vol´umenes de caparazones masculinos y femeninos. </b>"
      ],
      "metadata": {
        "id": "tIHD5j1ORs_r"
      }
    }
  ]
}