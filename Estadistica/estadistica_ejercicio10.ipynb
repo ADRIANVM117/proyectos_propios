{
  "nbformat": 4,
  "nbformat_minor": 0,
  "metadata": {
    "colab": {
      "name": "estadistica_ejercicio10.ipynb",
      "provenance": [],
      "authorship_tag": "ABX9TyN5PsgSOvGk40e8LpxIG/ev",
      "include_colab_link": true
    },
    "kernelspec": {
      "name": "python3",
      "display_name": "Python 3"
    },
    "language_info": {
      "name": "python"
    }
  },
  "cells": [
    {
      "cell_type": "markdown",
      "metadata": {
        "id": "view-in-github",
        "colab_type": "text"
      },
      "source": [
        "<a href=\"https://colab.research.google.com/github/ADRIANVM117/proyectos_propios/blob/main/Estadistica/estadistica_ejercicio10.ipynb\" target=\"_parent\"><img src=\"https://colab.research.google.com/assets/colab-badge.svg\" alt=\"Open In Colab\"/></a>"
      ]
    },
    {
      "cell_type": "markdown",
      "source": [
        "Esta institución cuenta con una matrícula total de 1,200 alumnos. En ella, han decidido realizar una prueba piloto, por eso van a aplicar el examen a una muestra. La idea es contar con información suficiente para la toma de decisiones. Para esto, se determina que el intervalo de confianza sea del 95% y el margen de error del 5% y así considerarlo como muestra significativa.\n",
        "\n",
        "\n",
        "- a) ¿De qué tamaño debe ser la muestra para cumplir los requisitos del intervalo de confianza y el margen de error establecidos?\n",
        "\n",
        "- Tamaño de la Muestra con Margen de Error y Tamaño de la Población\n",
        "\n",
        "- b) El día que se realizó la prueba hubo ausentismo y solamente pudieron aplicarla 220 alumnos. Calcula el margen de error de la aplicación real de la encuesta."
      ],
      "metadata": {
        "id": "4nPhcTF6JB7-"
      }
    },
    {
      "cell_type": "code",
      "source": [
        "import numpy as np \n",
        "from scipy import stats\n",
        "N = 1200  # Muestra\n",
        "NC = .95 # Nivel de conf\n",
        "M_E = .5 # Margen de error \n",
        "alpha = (1-NC)/2  #alpha/2\n",
        "z_score = stats.norm.ppf(1-alpha) #z_alpha_2\n",
        "p_1  = .5  #p*\n",
        "q_1 = .5\n",
        "n = ( (z_score* z_score) *( p_1*q_1) ) / (M_E* M_E)\n",
        "print('n : \\t{:.1f}'.format(n* 100))\n",
        "\n",
        "#b\n",
        "\n",
        "n = 220\n",
        "E = np.sqrt(( (z_score **2)*(p_1 * q_1) )/n)\n",
        "print('Margen de Error : \\t{:.2f} %'.format(E *100 ))\n",
        "\n",
        "# formula 3 \n",
        "n_form_3 = (  ((z_score**2) * (p_1* q_1) ) / E**2)   /  1 +  (( z_score**2) * (p_1*q_1) / E**2*N )  \n",
        "print('Nueva n : \\t{} '.format(n_form_3))"
      ],
      "metadata": {
        "colab": {
          "base_uri": "https://localhost:8080/"
        },
        "id": "d0EreY-9JNgB",
        "outputId": "ca976fe5-2f76-45a0-cf48-4334498aa0e5"
      },
      "execution_count": null,
      "outputs": [
        {
          "output_type": "stream",
          "name": "stdout",
          "text": [
            "n : \t384.1\n",
            "Margen de Error : \t6.61 %\n",
            "Nueva n : \t264220.0 \n"
          ]
        }
      ]
    },
    {
      "cell_type": "markdown",
      "source": [
        "## Tamaño de muestra para mantener el margen de error. \n",
        "\n",
        " - ¿Si el 90 % de las personas contestan la encuaesta, que tamaño de muestra debería de aplicar para mantener el margen de error?"
      ],
      "metadata": {
        "id": "rk516FNlyay1"
      }
    },
    {
      "cell_type": "code",
      "source": [
        ""
      ],
      "metadata": {
        "id": "jej9gIbpyZPX"
      },
      "execution_count": null,
      "outputs": []
    },
    {
      "cell_type": "markdown",
      "source": [
        "# Ajuste de la población \n",
        "\n",
        "## $ n_{1} = \\frac{n´}{1 + \\frac{n´}{N} } $"
      ],
      "metadata": {
        "id": "0ViNGnGcQGkz"
      }
    },
    {
      "cell_type": "code",
      "source": [
        "n_1 = 385 / ( 1 + (385/N))\n",
        "print(n_1)"
      ],
      "metadata": {
        "colab": {
          "base_uri": "https://localhost:8080/"
        },
        "id": "u4ndKu-3OSTT",
        "outputId": "18c30f21-7f72-4ceb-b16a-04a04717e11e"
      },
      "execution_count": null,
      "outputs": [
        {
          "output_type": "stream",
          "name": "stdout",
          "text": [
            "291.4826498422713\n"
          ]
        }
      ]
    },
    {
      "cell_type": "markdown",
      "source": [
        "#  Ejercicio 2\n",
        "\n",
        "- El INE requiere una encuesta de índole presidencial para este 2024, si tomamos en cuenta que la población votante potencial es de 80 millones y la participación ciiudadana real es del 60%. Determina el tamaño de la muestra con un 90% de nivel de confianza y el margen de error del 3% como muestra significativa. Realiza los ajustes correspondientes al tamaño de la muestra.\n",
        "\n",
        "\n"
      ],
      "metadata": {
        "id": "fPQE0Xz4Su8G"
      }
    },
    {
      "cell_type": "code",
      "source": [
        "import numpy as np \n",
        "from scipy import stats\n",
        "N_2 = 48000000  # Muestra\n",
        "NC_2 = .90 # Nivel de conf\n",
        "M_E_2 = .3 # Margen de error \n",
        "alpha_2 = (1-NC)/2  #alpha/2\n",
        "z_score_2 = stats.norm.ppf(1-alpha) #z_alpha_2\n",
        "p_1_2  = .5  #p*\n",
        "q_1_2 = .5\n",
        "n_2 = ( (z_score_2* z_score_2) *( p_1_2*q_1_2) ) / (M_E_2* M_E_2)\n",
        "print('n : \\t{:.1f}'.format(n* 100))\n",
        "\n",
        "n_2 = 610\n",
        "E = np.sqrt(( (z_score_2 **2)*(p_1_2 * q_1_2) )/n_2)\n",
        "print('Margen de Error : \\t{:.2f} %'.format(E *100 ))"
      ],
      "metadata": {
        "colab": {
          "base_uri": "https://localhost:8080/"
        },
        "id": "V6rQ32mNSrGK",
        "outputId": "cd3fa843-8191-4a89-c07e-384dbb507226"
      },
      "execution_count": null,
      "outputs": [
        {
          "output_type": "stream",
          "name": "stdout",
          "text": [
            "n : \t22000.0\n",
            "Margen de Error : \t3.97 %\n"
          ]
        }
      ]
    },
    {
      "cell_type": "code",
      "source": [
        ""
      ],
      "metadata": {
        "id": "EjsGobpSp1aQ"
      },
      "execution_count": null,
      "outputs": []
    },
    {
      "cell_type": "code",
      "source": [
        "n_1_2 = 752 / ( 1 + (752/N_2))\n",
        "print(n_1)"
      ],
      "metadata": {
        "colab": {
          "base_uri": "https://localhost:8080/"
        },
        "id": "T5398GQ5S8XJ",
        "outputId": "ccc19765-d80c-46d4-c40d-4effb009d29e"
      },
      "execution_count": null,
      "outputs": [
        {
          "output_type": "stream",
          "name": "stdout",
          "text": [
            "751.988218851238\n"
          ]
        }
      ]
    }
  ]
}