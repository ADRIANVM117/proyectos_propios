{
  "nbformat": 4,
  "nbformat_minor": 0,
  "metadata": {
    "colab": {
      "name": "estadistica_ejercicio4.ipynb",
      "provenance": [],
      "authorship_tag": "ABX9TyPDkT1ZQipKUBWmW/I3LTTa",
      "include_colab_link": true
    },
    "kernelspec": {
      "name": "python3",
      "display_name": "Python 3"
    },
    "language_info": {
      "name": "python"
    }
  },
  "cells": [
    {
      "cell_type": "markdown",
      "metadata": {
        "id": "view-in-github",
        "colab_type": "text"
      },
      "source": [
        "<a href=\"https://colab.research.google.com/github/ADRIANVM117/proyectos_propios/blob/main/Estadistica/estadistica_ejercicio4.ipynb\" target=\"_parent\"><img src=\"https://colab.research.google.com/assets/colab-badge.svg\" alt=\"Open In Colab\"/></a>"
      ]
    },
    {
      "cell_type": "code",
      "execution_count": null,
      "metadata": {
        "id": "S5E86qf-DirV"
      },
      "outputs": [],
      "source": [
        "import pandas as pd\n",
        "import numpy as np\n",
        "import scipy as stats \n",
        "import seaborn as sns\n",
        "import matplotlib.pyplot as plt\n",
        "\n",
        "datos = [50,32,40,35,43,\n",
        "         21,32,27,31,32,\n",
        "         36,27,36,38,18,\n",
        "         35,25,38,48,43,\n",
        "         35,24,35,23,52,\n",
        "         27,38,31,35,52,\n",
        "         38,43,28,43,49,\n",
        "         51,46,38,31,53,\n",
        "         28,29,33,32,46,\n",
        "         35,45,46,38,19]"
      ]
    },
    {
      "cell_type": "code",
      "source": [
        "import statistics\n",
        "from scipy import stats\n",
        "\n",
        "n = len(datos)\n",
        "arreglo = np.array(datos)\n",
        "media = np.mean(datos)\n",
        "desviacion = statistics.pstdev(datos)\n",
        "error = desviacion / np.sqrt(n)\n",
        "confianza = .95 \n",
        "NC = 2\n",
        "alpha =  (1-confianza)/NC\n",
        "\n",
        "z_score = stats.norm.ppf(1-alpha)\n",
        "\n",
        "\n",
        "print('Numero de datos:  \\t{}'.format(n))\n",
        "print('Media:  \\t{:.2f}'.format(media))\n",
        "print('Desviación Est.:  \\t{:.2f}'.format(desviacion))\n",
        "print('Error Estandar:  \\t{:.2f}'.format(error))\n",
        "print('Z-score: \\t{:.2f}'.format(z_score))\n",
        "\n",
        "\n"
      ],
      "metadata": {
        "colab": {
          "base_uri": "https://localhost:8080/"
        },
        "id": "GSx7KwXlF7vU",
        "outputId": "24ba93a7-7168-42a2-a381-0b29dd3e10ea"
      },
      "execution_count": null,
      "outputs": [
        {
          "output_type": "stream",
          "name": "stdout",
          "text": [
            "Numero de datos:  \t50\n",
            "Media:  \t36.20\n",
            "Desviación Est.:  \t8.94\n",
            "Error Estandar:  \t1.26\n",
            "Z-score: \t1.96\n"
          ]
        }
      ]
    },
    {
      "cell_type": "code",
      "source": [
        "TC = media + 2*(desviacion)\n",
        "TC_1 = media - 2*(desviacion)\n",
        "\n",
        "print('CHEVICHEV SUP:  \\t{:.2f}'.format(TC))\n",
        "print('CHEVICHEV MIN:  \\t{:.2f}'.format(TC_1))\n",
        "\n",
        "l = TC.min()\n",
        "print('MIN:  \\t{:.2f}'.format(l))"
      ],
      "metadata": {
        "colab": {
          "base_uri": "https://localhost:8080/"
        },
        "id": "rRdMszGlOMOE",
        "outputId": "8c180927-8856-4ac2-df94-b2fb7970ab38"
      },
      "execution_count": null,
      "outputs": [
        {
          "output_type": "stream",
          "name": "stdout",
          "text": [
            "CHEVICHEV SUP:  \t54.08\n",
            "CHEVICHEV MIN:  \t18.32\n",
            "MIN:  \t54.08\n"
          ]
        }
      ]
    },
    {
      "cell_type": "markdown",
      "source": [
        "# T"
      ],
      "metadata": {
        "id": "AwRbFLvdJ6Mq"
      }
    },
    {
      "cell_type": "code",
      "source": [
        ""
      ],
      "metadata": {
        "id": "907pZlVQJ4xX"
      },
      "execution_count": null,
      "outputs": []
    },
    {
      "cell_type": "code",
      "source": [
        "datos = np.random.normal(media, desviacion, n) #creando muestra de datos\n",
        "\n",
        "plt.hist(datos)\n",
        "plt.show()"
      ],
      "metadata": {
        "colab": {
          "base_uri": "https://localhost:8080/",
          "height": 265
        },
        "id": "i-Q0N8OFF7yi",
        "outputId": "c26cc042-ff75-4e02-bca9-5c4ed38bbf75"
      },
      "execution_count": null,
      "outputs": [
        {
          "output_type": "display_data",
          "data": {
            "image/png": "[encoded data removed]",
            "text/plain": [
              "<Figure size 432x288 with 1 Axes>"
            ]
          },
          "metadata": {
            "needs_background": "light"
          }
        }
      ]
    },
    {
      "cell_type": "code",
      "source": [
        ""
      ],
      "metadata": {
        "id": "yvd2xCI9F71T"
      },
      "execution_count": null,
      "outputs": []
    }
  ]
}