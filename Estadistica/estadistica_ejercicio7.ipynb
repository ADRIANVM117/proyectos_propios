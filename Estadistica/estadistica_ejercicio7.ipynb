{
  "nbformat": 4,
  "nbformat_minor": 0,
  "metadata": {
    "colab": {
      "name": "estadistica_ejercicio7.ipynb",
      "provenance": [],
      "authorship_tag": "ABX9TyNYYhS3qGAHd4J5zRVxqqWG",
      "include_colab_link": true
    },
    "kernelspec": {
      "name": "python3",
      "display_name": "Python 3"
    },
    "language_info": {
      "name": "python"
    }
  },
  "cells": [
    {
      "cell_type": "markdown",
      "metadata": {
        "id": "view-in-github",
        "colab_type": "text"
      },
      "source": [
        "<a href=\"https://colab.research.google.com/github/ADRIANVM117/proyectos_propios/blob/main/Estadistica/estadistica_ejercicio7.ipynb\" target=\"_parent\"><img src=\"https://colab.research.google.com/assets/colab-badge.svg\" alt=\"Open In Colab\"/></a>"
      ]
    },
    {
      "cell_type": "markdown",
      "source": [
        "- La jefa de policía, Katy Ackert, recientemente estableció medidas enérgicas para combatir a los traficantes de drogas de su ciudad. Desde que se pusieron en funcionamiento dichas medidas, han sido capturados 750 de los 12,368 traficantes de droga de la ciudad. El valor promedio en dólares, de las drogas decomisadas a estos 750 traficantes es $250,000 dólares. \n",
        "\n",
        "- La desvest del valor de la droga de esos 750 traficantes es de $41,000 dólares. Elabore para la jefa Ackert un intervalo de confianza del 90% para el valor medio en dólares de las drogas que están en manos de los traficantes de la ciudad.\n",
        "\n",
        "\n",
        "  - N = 12,368 \n",
        "  - capturados : 750 \n",
        "  - $ \\overline{\\mu}: 250,000 $\n",
        "  - $ \\overline{\\sigma} = 41,000 $"
      ],
      "metadata": {
        "id": "ru94I0nrNC54"
      }
    },
    {
      "cell_type": "code",
      "source": [
        "import numpy as np \n",
        "from scipy import stats \n",
        "n = 12368\n",
        "p = (750/12368)   # probabilidad de exito \n",
        "q = 1 - p # probabilidad de no exito \n",
        "mu = 250000  # media de una poblacion segmentada \n",
        "sigma = 41000 # desviación de una población segmendtada\n",
        "NC = .90 # Nivel de confianza \n",
        "alpha = (1-NC)/ 2  # alpha/2\n",
        "z_score = stats.norm.ppf(1-alpha) # valor z-score \n",
        "\n",
        "pq = p *q \n",
        "a = pq/n \n",
        "\n",
        "mu_seg = n * p \n",
        "sigma_seg = np.sqrt(a)\n",
        "margen_error = z_score * sigma_seg\n",
        "\n",
        "li = p - margen_error\n",
        "ls = p + margen_error\n",
        "\n",
        "\n",
        "#print('Limite inferior : \\t{:.3f}'.format(li* 100))\n",
        "#print('Limite superior : \\t{:.3f}'.format(ls * 100))\n",
        "print('Limite Inferior \\t{}'.format(li))\n",
        "print('Limite Superior \\t{}'.format(ls))\n",
        "\n",
        "\n"
      ],
      "metadata": {
        "colab": {
          "base_uri": "https://localhost:8080/"
        },
        "id": "rlzt84hbNMQq",
        "outputId": "7ddf0a41-25c7-4d12-fbdc-6f912031abdd"
      },
      "execution_count": null,
      "outputs": [
        {
          "output_type": "stream",
          "name": "stdout",
          "text": [
            "Limite Inferior \t0.05711036503490792\n",
            "Limite Superior \t0.06417035941528614\n"
          ]
        }
      ]
    },
    {
      "cell_type": "code",
      "source": [
        "N_b = 12368\n",
        "n_b = 750\n",
        "\n",
        "mu_b = 250000\n",
        "sigma_b = 41000\n",
        "NC = .90 \n",
        "alpha_b = (1-NC)/ 2\n",
        "z_score_b = stats.norm.ppf(1- alpha)\n",
        "\n",
        "\n",
        "error_est = (sigma_b / np.sqrt(n_b)) * (np.sqrt( (N_b-n_b)/(N_b-1 )  ))\n",
        "print('Error estandar de la media poblacional \\t{:.3f}'.format(error_est))\n",
        "\n",
        "margen_error = error_est * z_score_b\n",
        "print('Margen de error \\t{:.3f}'.format(margen_error))\n",
        "\n",
        "li = mu_b -  margen_error\n",
        "ls = mu_b + margen_error\n",
        "\n",
        "\n",
        "print('Limite inferior  \\t{:.3f}'.format(li))\n",
        "print('Limite superior \\t{:.3f}'.format(ls))\n",
        "\n",
        "\n"
      ],
      "metadata": {
        "colab": {
          "base_uri": "https://localhost:8080/"
        },
        "id": "mpj0JBsOaJiK",
        "outputId": "e4ced92d-6da1-4527-f241-63e2e8253429"
      },
      "execution_count": null,
      "outputs": [
        {
          "output_type": "stream",
          "name": "stdout",
          "text": [
            "Error estandar de la media poblacional \t1451.065\n",
            "Margen de error \t2386.789\n",
            "Limite inferior  \t247613.211\n",
            "Limite superior \t252386.789\n"
          ]
        }
      ]
    },
    {
      "cell_type": "markdown",
      "source": [
        "2)  La enfermera de la secundaria de Westview está interesada en conocer la estatura promedio de los estudiantes del último año, pero no tiene suficiente tiempo para examinar los registros de los 430 estudiantes. Por ello, selecciona 48 al azar y encuentra que la media de la muestra es 64.5 pulgadas y la desviación estándar es 2.3 pulgadas. \n",
        "  - a) Encuentre la estimación del error estándar de la media. \n",
        "  - b) Construya un intervalo de confianza del 90% para la media."
      ],
      "metadata": {
        "id": "WO0kGRWMemp5"
      }
    },
    {
      "cell_type": "code",
      "source": [
        "N_c = 430 \n",
        "n_c = 48 \n",
        "mu_c = 65.5\n",
        "sigma_c = 2.3 \n",
        "\n",
        "error_est_c = (sigma_c / np.sqrt(n_c)) * (np.sqrt( (N_c-n_c)/(N_c-1 )  ))\n",
        "print('Error estandar de la media poblacional \\t{:.3f}'.format(error_est_c))\n",
        "\n",
        "\n",
        "NC_C = .90 \n",
        "alpha_c = (1-NC_C)/ 2\n",
        "z_score_c = stats.norm.ppf(1-alpha_c)\n",
        "\n",
        "margen_error_c  = z_score_c * error_est_c\n",
        "\n",
        "li_c  \n",
        "ls_c \n",
        "\n",
        "\n"
      ],
      "metadata": {
        "colab": {
          "base_uri": "https://localhost:8080/"
        },
        "id": "DfHgDAeQeFB9",
        "outputId": "906155aa-dbc8-4f75-d0bb-4c841fd7d6a0"
      },
      "execution_count": null,
      "outputs": [
        {
          "output_type": "stream",
          "name": "stdout",
          "text": [
            "Error estandar de la media poblacional \t0.313\n"
          ]
        }
      ]
    }
  ]
}