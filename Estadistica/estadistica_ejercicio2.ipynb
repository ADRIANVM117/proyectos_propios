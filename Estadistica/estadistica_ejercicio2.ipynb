{
  "nbformat": 4,
  "nbformat_minor": 0,
  "metadata": {
    "colab": {
      "name": "estadistica_ejercicio2.ipynb",
      "provenance": [],
      "collapsed_sections": [],
      "authorship_tag": "ABX9TyNVJsO/WbAxQsepIJLEiekd",
      "include_colab_link": true
    },
    "kernelspec": {
      "name": "python3",
      "display_name": "Python 3"
    },
    "language_info": {
      "name": "python"
    }
  },
  "cells": [
    {
      "cell_type": "markdown",
      "metadata": {
        "id": "view-in-github",
        "colab_type": "text"
      },
      "source": [
        "<a href=\"https://colab.research.google.com/github/ADRIANVM117/proyectos_propios/blob/main/Estadistica/estadistica_ejercicio2.ipynb\" target=\"_parent\"><img src=\"https://colab.research.google.com/assets/colab-badge.svg\" alt=\"Open In Colab\"/></a>"
      ]
    },
    {
      "cell_type": "markdown",
      "source": [
        "Con objeto de estimar la cantidad media que gasta un cliente en una comida en un importante restaurante, se recogieron los datos de una muestra de 49 clientes. Suponga que la desviación estándar de la población es $5. \n",
        "\n",
        "- a) ¿Cuál es el margen de error para 90% de confianza?\n",
        "- b) Si la media poblacional es $24.80, ¿cuál es el intervalo de confianza de 90% para la media poblacional?"
      ],
      "metadata": {
        "id": "JJmzqR6g2KFx"
      }
    },
    {
      "cell_type": "markdown",
      "source": [
        "Desviación estandar poblacional \n",
        "\n",
        "# $ \\sigma = \\sqrt{\\frac{\\sum_{i = 1} (x_{i} - \\bar{x})^2}{n}}$\n",
        "\n",
        "Error estandar de muestra poblacional. \n",
        "\n",
        "# $ \\frac{\\sigma}{\\sqrt{n}} $\n",
        "\n",
        "# Margen de error. \n",
        "\n",
        "- Se conoce como margen de error a la cantidad de error en el muestreo aleatorio contemplado para cualquier investigación, especialmente al momento de aplicar cuestionarios o encuestas.\n",
        "\n",
        "# $ E = Z_{\\frac{\\alpha}{2}} * \\frac{\\sigma}{\\sqrt{n}}$"
      ],
      "metadata": {
        "id": "uRzkRrdB2ygm"
      }
    },
    {
      "cell_type": "code",
      "source": [
        "import numpy as np\n",
        "from scipy import stats\n",
        "\n",
        "n = 49 # muestra\n",
        "desv_pobla =5 # desviación poblacional\n",
        "NC = .90    # nivel de confianza \n",
        "n_colas = 2 # numero de colas \n",
        "alpha = (1 -NC )/ n_colas    # alfa \n",
        "z_score =  stats.norm.ppf(1- alpha)  # valor critico de z \n",
        "error_pob = desv_pobla/ np.sqrt(n)   # error poblacional \n",
        "ME = z_score * error_pob   # Margen de error\n",
        "\n",
        "print('Alpha : \\t{}'            .format(alpha))\n",
        "print('Error poblacional : \\t{}'.format(error_pob))\n",
        "print('Z-score : \\t{:.4f}'.format(z_score))\n",
        "\n",
        "print('Margen de error : \\t{:.4f}'.format(ME))"
      ],
      "metadata": {
        "colab": {
          "base_uri": "https://localhost:8080/"
        },
        "id": "lCQjOCRh2QLd",
        "outputId": "fd271437-9b46-4077-dd25-c622c873ffda"
      },
      "execution_count": null,
      "outputs": [
        {
          "output_type": "stream",
          "name": "stdout",
          "text": [
            "Alpha : \t0.025000000000000022\n",
            "Error poblacional : \t0.7142857142857143\n",
            "Z-score : \t1.9600\n",
            "Margen de error : \t1.4000\n"
          ]
        }
      ]
    },
    {
      "cell_type": "markdown",
      "source": [
        "El margen de error es de 1.4000 con un nivel de confianza de 90 %"
      ],
      "metadata": {
        "id": "xgF6M03h7TZT"
      }
    },
    {
      "cell_type": "markdown",
      "source": [
        "# Si la media poblacional es $24.80, ¿cuál es el intervalo de confianza de 90% para la media poblacional?\n",
        "\n",
        "\n",
        "$ \\mu = 24.80 $\n",
        "\n",
        "# $ \\bar{x} \\pm \\frac{\\sigma}{\\sqrt{n}} * Z_{\\frac{\\alpha}{2}}  $"
      ],
      "metadata": {
        "id": "jfvqfMKC8IHA"
      }
    },
    {
      "cell_type": "code",
      "source": [
        "# Si la media poblacional es $24.80, ¿cuál es el intervalo de confianza de 90% para la media poblacional?\n",
        "\n",
        "x = 24.80 \n",
        "\n",
        "li = x - (error_pob* z_score)\n",
        "ls = x + (error_pob* z_score)\n",
        "\n",
        "\n",
        "print('Limite inferior : \\t{:.3f}'.format(li))\n",
        "print('Limite Superior : \\t{:.3f}'.format(ls))"
      ],
      "metadata": {
        "colab": {
          "base_uri": "https://localhost:8080/"
        },
        "id": "K0K2T87J2QcL",
        "outputId": "f1045f12-8cca-4a06-d96c-9d01a7ab82db"
      },
      "execution_count": null,
      "outputs": [
        {
          "output_type": "stream",
          "name": "stdout",
          "text": [
            "Limite inferior : \t23.400\n",
            "Limite Superior : \t26.200\n"
          ]
        }
      ]
    },
    {
      "cell_type": "markdown",
      "source": [
        "con un nivel de confianza del 95%. La gente gasta dinero en un intervalo de 23.400 y 26.200 pesos."
      ],
      "metadata": {
        "id": "HDr6g24N-1QD"
      }
    },
    {
      "cell_type": "code",
      "source": [
        ""
      ],
      "metadata": {
        "id": "ARaj3_tJ2Qe_"
      },
      "execution_count": null,
      "outputs": []
    }
  ]
}