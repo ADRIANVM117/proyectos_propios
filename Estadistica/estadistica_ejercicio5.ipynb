{
  "nbformat": 4,
  "nbformat_minor": 0,
  "metadata": {
    "colab": {
      "name": "estadistica_ejercicio5.ipynb",
      "provenance": [],
      "authorship_tag": "ABX9TyNG0ENWtRG04rMHqKSmVzsw",
      "include_colab_link": true
    },
    "kernelspec": {
      "name": "python3",
      "display_name": "Python 3"
    },
    "language_info": {
      "name": "python"
    }
  },
  "cells": [
    {
      "cell_type": "markdown",
      "metadata": {
        "id": "view-in-github",
        "colab_type": "text"
      },
      "source": [
        "<a href=\"https://colab.research.google.com/github/ADRIANVM117/proyectos_propios/blob/main/Estadistica/estadistica_ejercicio5.ipynb\" target=\"_parent\"><img src=\"https://colab.research.google.com/assets/colab-badge.svg\" alt=\"Open In Colab\"/></a>"
      ]
    },
    {
      "cell_type": "markdown",
      "source": [
        "#Tarea 28-Ene-21\n",
        "\n",
        "- 1) El gerente de la división de bombillas de la Cardinal Electric debe estimar el número promedio de horas que durarán los focos fabricados por cada una de las máquinas. Fue elegida una muestra de 40 focos de la máquina A y el tiempo promedio de funcionamiento fue de 1,416 horas. Se sabe que la desviación estándar poblacional de la duración es de 30 horas.\n",
        "  - a) Calcule el error estándar de la media.\n",
        "  - b) Construya un intervalo de confianza con 90%, 95%, 98% y 99% para la media de la población.\n",
        "\n",
        "\n",
        "## Datos.\n",
        "   \n",
        "   ### $ n = 40 $\n",
        "   ### $ \\mu = 1416 $\n",
        "   ### $ \\sigma = 30 $\n",
        "  \n"
      ],
      "metadata": {
        "id": "vQDRntjrykFi"
      }
    },
    {
      "cell_type": "code",
      "source": [
        "import statistics\n",
        "import numpy as np \n",
        "from scipy import stats\n",
        "n = 40 # tamaño muestra\n",
        "mu = 1416 #media \n",
        "sigma = 30 # desviación poblacional \n",
        "\n",
        "error_est = sigma / np.sqrt(n)\n",
        "NC = .99 # Nivel de confianza de 99% \n",
        "N_colas = 2 # Numero de colas \n",
        "alpha = (1-NC)/2\n",
        "\n",
        "z_score = stats.norm.ppf(1-alpha)\n",
        "\n",
        "\n",
        "print('Error Estandar : \\t{:.3f}'.format(error_est))\n",
        "print('z-score : \\t{:.3f}'.format(z_score))"
      ],
      "metadata": {
        "colab": {
          "base_uri": "https://localhost:8080/"
        },
        "id": "bzMJhYD6zOr5",
        "outputId": "13be410c-ad63-4366-88ec-2ae410b65769"
      },
      "execution_count": null,
      "outputs": [
        {
          "output_type": "stream",
          "name": "stdout",
          "text": [
            "Error Estandar : \t4.743\n",
            "z-score : \t2.576\n"
          ]
        }
      ]
    },
    {
      "cell_type": "markdown",
      "source": [
        "# Intervalos de confiaza para 90%, 95%, 98% y 99%"
      ],
      "metadata": {
        "id": "7RW8OsOS187q"
      }
    },
    {
      "cell_type": "code",
      "source": [
        "confianza = [.90, .95, .98, .99]\n",
        "\n",
        "for i in confianza: \n",
        "  alpha1 = (1- i)/ 2 \n",
        "  z_score1 = stats.norm.ppf(1-alpha1)\n",
        "  margen_error = z_score1 * error_est\n",
        "  li = mu - margen_error\n",
        "  ls = mu + margen_error\n",
        "  print('Limite inferior : \\t{:.3f}. Limite Superior : \\t{:.3f}. Para un nivel de confianza de : \\t{} '.format(li,ls,i))"
      ],
      "metadata": {
        "colab": {
          "base_uri": "https://localhost:8080/"
        },
        "id": "BO3wS0uN2KMK",
        "outputId": "2b48a942-f636-4c80-ac95-725d5e646cdc"
      },
      "execution_count": null,
      "outputs": [
        {
          "output_type": "stream",
          "name": "stdout",
          "text": [
            "Limite inferior : \t1408.198. Limite Superior : \t1423.802. Para un nivel de confianza de : \t0.9 \n",
            "Limite inferior : \t1406.703. Limite Superior : \t1425.297. Para un nivel de confianza de : \t0.95 \n",
            "Limite inferior : \t1404.965. Limite Superior : \t1427.035. Para un nivel de confianza de : \t0.98 \n",
            "Limite inferior : \t1403.782. Limite Superior : \t1428.218. Para un nivel de confianza de : \t0.99 \n"
          ]
        }
      ]
    },
    {
      "cell_type": "markdown",
      "source": [
        "# Conclusión. \n",
        "\n",
        "- Para un nivel de confianza del 90%\n",
        "  - El intervalo de confianza se encuentra entre 1408.198 y 1423.802 horas. \n",
        "\n",
        "- Para un nivel de confianza del 95%\n",
        "  - El intervalo de confianza se encuentra entre 1406.703 y 1425.297 horas. \n",
        "\n",
        "- Para un nivel de confianza del 98%\n",
        "  - El intervalo de confianza se encuentra entre 1404.965 y 1427.035 horas. \n",
        "\n",
        "- Para un nivel de confianza del 99%\n",
        "  - El intervalo de confianza se encuentra entre 1403.782 y 1428.218 horas. \n"
      ],
      "metadata": {
        "id": "LiAAIpuw5jbp"
      }
    },
    {
      "cell_type": "markdown",
      "source": [
        "- 2) Analizando el comportamiento de una muestra de 25 acciones que cotizan en la BMV, se encontró la variación promedio diaria fue del 16% con una desviación estándar del 4%. Estime, con un 95% de nivel de confianza, la variación porcentual promedio diaria que tienen las acciones que cotizan en la Bolsa.\n",
        "\n",
        "#### Datos. \n",
        "\n",
        "### $ n = 25 $\n",
        "### $ \\mu = 16 $\n",
        "### $ \\sigma = 4$\n",
        "### Nivel de confianza del 95% \n",
        "\n",
        "\n",
        "\n",
        "\n"
      ],
      "metadata": {
        "id": "kHzvoxjJAZ1l"
      }
    },
    {
      "cell_type": "markdown",
      "source": [
        "## Como nos encontramos con un problema de una muestra menor a 30. Usaremos la distribución t-student para resolverlo. "
      ],
      "metadata": {
        "id": "fAOcnbSmBTHU"
      }
    },
    {
      "cell_type": "code",
      "source": [
        "n = 25 # muestra \n",
        "mu = 16 \n",
        "sigma = 4 \n",
        "NC = .95 \n",
        "alpha = (1-NC)/ 2\n",
        "t_student = stats.t.ppf(q= 1- alpha, df=24, loc=0, scale=1)\n",
        "error_est = sigma / np.sqrt(n)\n",
        "\n",
        "print('Valor t : \\t{:.3f}'.format(t_student))\n",
        "print('Error Estandar : \\t{:.3f}'.format(error_est))\n",
        "\n"
      ],
      "metadata": {
        "colab": {
          "base_uri": "https://localhost:8080/"
        },
        "id": "RbwiYz5iBSNv",
        "outputId": "dc195aee-7beb-4129-e75e-8d2d2050dd3a"
      },
      "execution_count": null,
      "outputs": [
        {
          "output_type": "stream",
          "name": "stdout",
          "text": [
            "Valor t : \t2.064\n",
            "Error Estandar : \t0.800\n"
          ]
        }
      ]
    },
    {
      "cell_type": "markdown",
      "source": [
        "Siempre que realice una prueba de dos colas, habrá dos valores críticos. En este caso, los valores críticos de T son 2.064 y -2.64 . Por lo tanto, si el estadístico de la prueba es menor que -2.064 o mayor que 2.064, los resultados de la prueba son estadísticamente significativos."
      ],
      "metadata": {
        "id": "8CrIZl3dG_fI"
      }
    },
    {
      "cell_type": "markdown",
      "source": [
        "# Intervalos de confianza\n",
        "\n",
        "## Margen de error. \n",
        "   - $ ME = t_{-student} * \\sigma_{x} $"
      ],
      "metadata": {
        "id": "RrI1z5KAJe2S"
      }
    },
    {
      "cell_type": "code",
      "source": [
        "ME = t_student * error_est\n",
        "li = mu - ME\n",
        "ls = mu + ME\n",
        "\n",
        "print('Limite Inferior \\t{:.3f}'.format(li))\n",
        "print('Limite Superior \\t{:.3f}'.format(ls))"
      ],
      "metadata": {
        "colab": {
          "base_uri": "https://localhost:8080/"
        },
        "id": "D0YzPs8bAiVC",
        "outputId": "e6293bfe-786b-4098-8f97-f32dc516f071"
      },
      "execution_count": null,
      "outputs": [
        {
          "output_type": "stream",
          "name": "stdout",
          "text": [
            "Limite Inferior \t14.349\n",
            "Limite Superior \t17.651\n"
          ]
        }
      ]
    },
    {
      "cell_type": "markdown",
      "source": [
        "# Conclusión. \n",
        "\n",
        "## Con un nivel de confianza del 95% la variación porcentual de las acciones se encuentra ente 14.349 y 17.651 "
      ],
      "metadata": {
        "id": "nyQP1DjTLfGh"
      }
    },
    {
      "cell_type": "markdown",
      "source": [
        "# 3)\n",
        "## Se desea encontrar un intervalo de los ingresos semanales de los alumnos de una universidad. Para este estudio se encuentra los siguientes datos y la población de la universidad que es de 3,500 alumnos."
      ],
      "metadata": {
        "id": "WtZ9LlSOMiwM"
      }
    },
    {
      "cell_type": "code",
      "source": [
        "datos = [4000,\t500,\t1500,\t500\t,2500\t,1500,\n",
        "         1500, 6000\t,500\t,1000\t,1200\t,1500,\n",
        "         500\t,1500\t,1500\t,800\t,1000\t,2500\n",
        "         ,1000\t,2500\t,1500\t,3500\t,500\t\n",
        "         ,500\t,2500\t,500\t,2000\t,2500]"
      ],
      "metadata": {
        "id": "EXJLx8jqMWFr"
      },
      "execution_count": null,
      "outputs": []
    },
    {
      "cell_type": "code",
      "source": [
        "datos = np.array(datos)\n",
        "N_b= 3500 \n",
        "n_b= len(datos)\n",
        "\n",
        "print('Tamaño poblacional : \\t{}'.format(N_b))\n",
        "print('Tamaño Muestral : \\t{}'.format(n_b))"
      ],
      "metadata": {
        "colab": {
          "base_uri": "https://localhost:8080/"
        },
        "id": "7g6grvHE6qDL",
        "outputId": "c6d4841e-3314-4baa-a262-13c0d4862287"
      },
      "execution_count": null,
      "outputs": [
        {
          "output_type": "stream",
          "name": "stdout",
          "text": [
            "Tamaño poblacional : \t3500\n",
            "Tamaño Muestral : \t28\n"
          ]
        }
      ]
    },
    {
      "cell_type": "code",
      "source": [
        "mu_pob = np.mean(datos)\n",
        "sigma_b = 1265\n",
        "\n",
        "print('Media Poblacional : \\t{:.2f}'.format(mu_pob))\n",
        "print('Desviación Est. Poblacional : \\t{:.2f}'.format(sigma_b))"
      ],
      "metadata": {
        "colab": {
          "base_uri": "https://localhost:8080/"
        },
        "id": "OXOIPKpQaDHF",
        "outputId": "60729f88-2cbd-48f3-ba5f-46a6e3d6c64c"
      },
      "execution_count": null,
      "outputs": [
        {
          "output_type": "stream",
          "name": "stdout",
          "text": [
            "Media Poblacional : \t1678.57\n",
            "Desviación Est. Poblacional : \t1265.00\n"
          ]
        }
      ]
    },
    {
      "cell_type": "markdown",
      "source": [
        "## Error estandar de la media de una población finita \n",
        "\n",
        "\n",
        "## $ \\bar{\\sigma_{x}} = \\frac{\\sigma}{\\sqrt{n}} * \\sqrt{\\frac{N -n}{N-1}}$"
      ],
      "metadata": {
        "id": "lvTHwyTRhN_H"
      }
    },
    {
      "cell_type": "code",
      "source": [
        "Error_est_med = (sigma_b / np.sqrt(n_b)) * (np.sqrt( (N_b-n_b)/(N_b-1 )  ))\n",
        "print('Error estandar de la media de una población finita: \\t{:.2f}'.format(Error_est_med))"
      ],
      "metadata": {
        "colab": {
          "base_uri": "https://localhost:8080/"
        },
        "id": "SKjUxLRYg227",
        "outputId": "75a95c6a-23f3-4c81-a58c-d0c6c6bea9bb"
      },
      "execution_count": null,
      "outputs": [
        {
          "output_type": "stream",
          "name": "stdout",
          "text": [
            "Error estandar de la media de una población finita: \t238.14\n"
          ]
        }
      ]
    },
    {
      "cell_type": "code",
      "source": [
        "NC = .90\n",
        "alpha = (1-NC)/ 2\n",
        "t_student = stats.t.ppf(q= 1- alpha, df=27, loc=0, scale=1)\n",
        "error_est = sigma / np.sqrt(n)\n",
        "print('t-student: \\t{:.3f}'.format(t_student))"
      ],
      "metadata": {
        "colab": {
          "base_uri": "https://localhost:8080/"
        },
        "id": "m0cwDCafg3A8",
        "outputId": "d1864380-decb-4201-9979-726b60388c77"
      },
      "execution_count": null,
      "outputs": [
        {
          "output_type": "stream",
          "name": "stdout",
          "text": [
            "t-student: \t1.703\n"
          ]
        }
      ]
    },
    {
      "cell_type": "markdown",
      "source": [
        "## Margen de Error \n",
        "\n",
        "ME = $ \\bar{\\sigma_{x}} * t_{-student} $"
      ],
      "metadata": {
        "id": "k190zqgSrxxz"
      }
    },
    {
      "cell_type": "code",
      "source": [
        "ME_b = t_student * Error_est_med\n",
        "print('Margen de error: \\t{:.3f}'.format(ME))"
      ],
      "metadata": {
        "colab": {
          "base_uri": "https://localhost:8080/"
        },
        "id": "vXY-6xHfrwDB",
        "outputId": "76a0a6c7-f439-4d92-9bcd-113b5dacb0fb"
      },
      "execution_count": null,
      "outputs": [
        {
          "output_type": "stream",
          "name": "stdout",
          "text": [
            "Margen de error: \t1.651\n"
          ]
        }
      ]
    },
    {
      "cell_type": "code",
      "source": [
        "li =  mu_pob - ME_b\n",
        "ls =  mu_pob + ME_b\n",
        "print('Limite inferior: \\t{:.3f}'.format(li))\n",
        "print('Limite Superior: \\t{:.3f}'.format(ls))"
      ],
      "metadata": {
        "colab": {
          "base_uri": "https://localhost:8080/"
        },
        "id": "X09QmeC5rwGP",
        "outputId": "85e76fc5-9093-472d-fa93-ab015efb55b6"
      },
      "execution_count": null,
      "outputs": [
        {
          "output_type": "stream",
          "name": "stdout",
          "text": [
            "Limite inferior: \t1272.953\n",
            "Limite Superior: \t2084.190\n"
          ]
        }
      ]
    },
    {
      "cell_type": "code",
      "source": [
        ""
      ],
      "metadata": {
        "id": "BU3Oq0vMrwJV"
      },
      "execution_count": null,
      "outputs": []
    },
    {
      "cell_type": "code",
      "source": [
        ""
      ],
      "metadata": {
        "id": "b3hBfRv013t2"
      },
      "execution_count": null,
      "outputs": []
    },
    {
      "cell_type": "code",
      "source": [
        ""
      ],
      "metadata": {
        "id": "WPHy57p-13wx"
      },
      "execution_count": null,
      "outputs": []
    },
    {
      "cell_type": "code",
      "source": [
        ""
      ],
      "metadata": {
        "id": "mniI5i4a13z0"
      },
      "execution_count": null,
      "outputs": []
    },
    {
      "cell_type": "code",
      "source": [
        ""
      ],
      "metadata": {
        "id": "7nrMa_3_zPaj"
      },
      "execution_count": null,
      "outputs": []
    },
    {
      "cell_type": "code",
      "source": [
        ""
      ],
      "metadata": {
        "id": "h0ytJTbLzPdh"
      },
      "execution_count": null,
      "outputs": []
    },
    {
      "cell_type": "code",
      "source": [
        ""
      ],
      "metadata": {
        "id": "J_QlGT7ZzPgY"
      },
      "execution_count": null,
      "outputs": []
    },
    {
      "cell_type": "code",
      "source": [
        ""
      ],
      "metadata": {
        "id": "qTN7YCWeyy5S"
      },
      "execution_count": null,
      "outputs": []
    },
    {
      "cell_type": "code",
      "source": [
        ""
      ],
      "metadata": {
        "id": "O2XMlpMWyzFI"
      },
      "execution_count": null,
      "outputs": []
    },
    {
      "cell_type": "code",
      "source": [
        ""
      ],
      "metadata": {
        "id": "YgsqChn9yzIE"
      },
      "execution_count": null,
      "outputs": []
    },
    {
      "cell_type": "code",
      "source": [
        ""
      ],
      "metadata": {
        "id": "baIKHTyHyzKy"
      },
      "execution_count": null,
      "outputs": []
    }
  ]
}