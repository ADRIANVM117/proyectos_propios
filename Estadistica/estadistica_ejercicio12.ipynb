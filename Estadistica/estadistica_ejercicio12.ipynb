{
  "nbformat": 4,
  "nbformat_minor": 0,
  "metadata": {
    "colab": {
      "name": "estadistica_ejercicio12.ipynb",
      "provenance": [],
      "authorship_tag": "ABX9TyPFhXK7gxIjZpTHry0aZemT",
      "include_colab_link": true
    },
    "kernelspec": {
      "name": "python3",
      "display_name": "Python 3"
    },
    "language_info": {
      "name": "python"
    }
  },
  "cells": [
    {
      "cell_type": "markdown",
      "metadata": {
        "id": "view-in-github",
        "colab_type": "text"
      },
      "source": [
        "<a href=\"https://colab.research.google.com/github/ADRIANVM117/proyectos_propios/blob/main/Estadistica/estadistica_ejercicio12.ipynb\" target=\"_parent\"><img src=\"https://colab.research.google.com/assets/colab-badge.svg\" alt=\"Open In Colab\"/></a>"
      ]
    },
    {
      "cell_type": "markdown",
      "source": [
        "Generally Electric ha desarrollado un nuevo foco cuyas especificaciones de diseño requieren una salida de luz de 960 lúmenes comparado con un modelo anterior que producía sólo 750 lúmenes. Los datos de la compañía indican que la desviación estándar de la salida de luz para este tipo de foco es de 18.4 lúmenes. Para una muestra de 20 focos, el comité de pruebas encontró una salida de luz promedio de 954 lúmenes por foco. ¿A un  nivel de significancia de 0.05, puede concluir Generally Electric que su nuevo foco produce la salida especificada de 960 lúmenes? ¿Hay un aumento de salida de lúmenes significativo, entre los focos anteriores y los nuevos?"
      ],
      "metadata": {
        "id": "eILfyG3Bzbkg"
      }
    },
    {
      "cell_type": "code",
      "source": [
        ""
      ],
      "metadata": {
        "id": "TPmtdfLmzdk5"
      },
      "execution_count": null,
      "outputs": []
    },
    {
      "cell_type": "markdown",
      "source": [
        "Maxwell`s Hot Chocolate está preocupado por el efecto que la campaña de publicidad de café, de todo el año, pueda tener en las ventas de chocolate caliente. Las ventas semanales promedio de chocolate caliente hace dos años eran de 825.7 libras y la deviación estándar era 69.6 libras. Maxwell seleccionó una muestra aleatoria de 25 semanas del año pasado y encontró ventas promedio de 905.1 libras. \n",
        "a) Establezca la hipótesis adecuada para probar si las ventas de chocolate han aumentado.\n",
        "b) A un nivel de significancia del 5%, pruebe esta hipótesis.\n",
        "c) Encuentre un intervalo de confianza con un nivel de confianza del 90%"
      ],
      "metadata": {
        "id": "7FO7VAtE3VzN"
      }
    },
    {
      "cell_type": "code",
      "source": [
        ""
      ],
      "metadata": {
        "id": "Eh9cexZCzdrX"
      },
      "execution_count": null,
      "outputs": []
    },
    {
      "cell_type": "markdown",
      "source": [
        "La comisión promedio que cobrán la compañías de corretaje de servicio completo en una venta de valores comunes es $144, con una desviación estándar de $52. Joel Freelander tomó una muestra aleatoria de 121 transacciones de sus clientes y determinó que habían pagado una comisión promedio de $151. \n",
        "A un nivel de significancia de 0.10, ¿puede concluir Joel que las comisiones de sus clientes son mayores que el promedio de la industria?\n"
      ],
      "metadata": {
        "id": "6hg0AEcj64PA"
      }
    },
    {
      "cell_type": "code",
      "source": [
        "sigma = 52  # desviacion \n",
        "n = 121\n",
        "x = 151 \n"
      ],
      "metadata": {
        "id": "9dRtNAMJzduK"
      },
      "execution_count": null,
      "outputs": []
    },
    {
      "cell_type": "markdown",
      "source": [
        "## Planteamiento dehipotesis \n",
        "\n"
      ],
      "metadata": {
        "id": "1ig-0gON82TC"
      }
    },
    {
      "cell_type": "code",
      "source": [
        ""
      ],
      "metadata": {
        "id": "tFa1pEP6815h"
      },
      "execution_count": null,
      "outputs": []
    },
    {
      "cell_type": "code",
      "source": [
        ""
      ],
      "metadata": {
        "id": "iT-kBOXNzdyJ"
      },
      "execution_count": null,
      "outputs": []
    }
  ]
}