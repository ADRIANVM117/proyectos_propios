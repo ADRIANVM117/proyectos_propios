{
  "nbformat": 4,
  "nbformat_minor": 0,
  "metadata": {
    "colab": {
      "name": "multiples_regresiones.ipynb",
      "provenance": [],
      "authorship_tag": "ABX9TyPB1Aa7Rekou7qAv5sx66Tc",
      "include_colab_link": true
    },
    "kernelspec": {
      "name": "python3",
      "display_name": "Python 3"
    },
    "language_info": {
      "name": "python"
    }
  },
  "cells": [
    {
      "cell_type": "markdown",
      "metadata": {
        "id": "view-in-github",
        "colab_type": "text"
      },
      "source": [
        "<a href=\"https://colab.research.google.com/github/ADRIANVM117/proyectos_propios/blob/main/Estadistica/analisis_exploratorio/multiples_regresiones.ipynb\" target=\"_parent\"><img src=\"https://colab.research.google.com/assets/colab-badge.svg\" alt=\"Open In Colab\"/></a>"
      ]
    },
    {
      "cell_type": "markdown",
      "source": [
        "# Multimples regresiones"
      ],
      "metadata": {
        "id": "iKLVYt8NxDVm"
      }
    },
    {
      "cell_type": "markdown",
      "source": [
        "# Regresión "
      ],
      "metadata": {
        "id": "sv6BsqQtxH6B"
      }
    },
    {
      "cell_type": "code",
      "source": [
        "import pandas as pd \n",
        "import numpy as np \n",
        "import matplotlib.pyplot as plt \n",
        "\n",
        "import h5py\n",
        "\n",
        "brfss= pd.read_hdf('/content/brfss.hdf5', 'brfss')\n",
        "gss = pd.read_hdf('/content/gss.hdf5', 'gss')"
      ],
      "metadata": {
        "id": "G8iluNiTykuO"
      },
      "execution_count": 2,
      "outputs": []
    },
    {
      "cell_type": "code",
      "source": [
        "from scipy.stats import linregress\n",
        "import statsmodels.formula.api as smf\n",
        "\n",
        "# Run regression with linregress\n",
        "subset = brfss.dropna(subset=['INCOME2', '_VEGESU1'])\n",
        "xs = subset['INCOME2']\n",
        "ys = subset['_VEGESU1']\n",
        "res = linregress(xs, ys)\n",
        "print(res)\n",
        "\n",
        "# Run regression with StatsModels\n",
        "results = smf.ols('INCOME2 ~ _VEGESU1', data = subset).fit()\n",
        "print(results.params)"
      ],
      "metadata": {
        "colab": {
          "base_uri": "https://localhost:8080/"
        },
        "id": "MiBUQSnbydya",
        "outputId": "17c27539-4e71-4700-a3f0-b66f6ecca20d"
      },
      "execution_count": 4,
      "outputs": [
        {
          "output_type": "stream",
          "name": "stdout",
          "text": [
            "LinregressResult(slope=0.06988048092105019, intercept=1.5287786243363106, rvalue=0.11967005884864107, pvalue=1.378503916247615e-238, stderr=0.002110976356332332)\n",
            "Intercept    5.450700\n",
            "_VEGESU1     0.204935\n",
            "dtype: float64\n"
          ]
        }
      ]
    },
    {
      "cell_type": "markdown",
      "source": [
        "<b> EJERCICIO </b>\n",
        "\n",
        " - graficar la relación entre el ingreso y la educación \n",
        "    - agrupar por la variable 'educ' el dataframe "
      ],
      "metadata": {
        "id": "4QRsQ_3C2EAN"
      }
    },
    {
      "cell_type": "code",
      "source": [
        "# Group by educ\n",
        "grouped = gss.groupby('educ')\n",
        "\n",
        "\n",
        "\n",
        "# Compute mean income in each group\n",
        "mean_income_by_educ = grouped['realinc'].mean()\n",
        "\n",
        "# Plot mean income as a scatter plot\n",
        "plt.plot(mean_income_by_educ, 'o', alpha = .5)\n",
        "\n",
        "# Label the axes\n",
        "plt.xlabel('Education (years)')\n",
        "plt.ylabel('Income (1986 $)')\n",
        "plt.show()"
      ],
      "metadata": {
        "colab": {
          "base_uri": "https://localhost:8080/",
          "height": 279
        },
        "id": "k1HOxHbe18ta",
        "outputId": "54490736-d94f-4905-c0d1-f80087432cee"
      },
      "execution_count": 10,
      "outputs": [
        {
          "output_type": "display_data",
          "data": {
            "text/plain": [
              "<Figure size 432x288 with 1 Axes>"
            ],
            "image/png": "[encoded data removed]"
          },
          "metadata": {
            "needs_background": "light"
          }
        }
      ]
    },
    {
      "cell_type": "markdown",
      "source": [
        "- Parece ser que la relación entre la educación y los ingresos no es lineal "
      ],
      "metadata": {
        "id": "Q-y_wexn4hRD"
      }
    },
    {
      "cell_type": "code",
      "source": [
        "gss['educ'].value_counts(ascending = False)"
      ],
      "metadata": {
        "colab": {
          "base_uri": "https://localhost:8080/"
        },
        "id": "3lxw5U5U18wk",
        "outputId": "b5b2094b-efd0-459f-b7ed-ecbcba469505"
      },
      "execution_count": 9,
      "outputs": [
        {
          "output_type": "execute_result",
          "data": {
            "text/plain": [
              "12.0    19145\n",
              "16.0     7953\n",
              "14.0     6980\n",
              "13.0     5405\n",
              "11.0     3864\n",
              "15.0     2836\n",
              "10.0     2819\n",
              "8.0      2421\n",
              "18.0     2109\n",
              "9.0      1963\n",
              "17.0     1791\n",
              "20.0     1294\n",
              "7.0       860\n",
              "6.0       842\n",
              "19.0      774\n",
              "5.0       379\n",
              "4.0       290\n",
              "3.0       246\n",
              "2.0       151\n",
              "0.0       144\n",
              "1.0        38\n",
              "Name: educ, dtype: int64"
            ]
          },
          "metadata": {},
          "execution_count": 9
        }
      ]
    },
    {
      "cell_type": "code",
      "source": [
        "!pip install empiricaldist \n",
        "\n",
        "from empiricaldist import Pmf\n",
        "\n",
        "pmf_edad = Pmf.from_seq(gss['educ'].dropna(), normalize= False) \n",
        "print(pmf_edad)"
      ],
      "metadata": {
        "colab": {
          "base_uri": "https://localhost:8080/"
        },
        "id": "9JT9tZ_I18zt",
        "outputId": "22665826-8899-4e6e-d489-f1452a8a3f29"
      },
      "execution_count": 8,
      "outputs": [
        {
          "output_type": "stream",
          "name": "stdout",
          "text": [
            "Collecting empiricaldist\n",
            "  Downloading empiricaldist-0.6.3.tar.gz (9.3 kB)\n",
            "Building wheels for collected packages: empiricaldist\n",
            "  Building wheel for empiricaldist (setup.py) ... \u001b[?25l\u001b[?25hdone\n",
            "  Created wheel for empiricaldist: filename=empiricaldist-0.6.3-py3-none-any.whl size=10545 sha256=57706493d505f1993738f82b7e5e28d51a782493120cf27d8ae395ee2547b41f\n",
            "  Stored in directory: /root/.cache/pip/wheels/be/4d/30/c131cf1cbb0046f14436cdd7a29f4cc8553d34754e3685d071\n",
            "Successfully built empiricaldist\n",
            "Installing collected packages: empiricaldist\n",
            "Successfully installed empiricaldist-0.6.3\n",
            "0.0       144\n",
            "1.0        38\n",
            "2.0       151\n",
            "3.0       246\n",
            "4.0       290\n",
            "5.0       379\n",
            "6.0       842\n",
            "7.0       860\n",
            "8.0      2421\n",
            "9.0      1963\n",
            "10.0     2819\n",
            "11.0     3864\n",
            "12.0    19145\n",
            "13.0     5405\n",
            "14.0     6980\n",
            "15.0     2836\n",
            "16.0     7953\n",
            "17.0     1791\n",
            "18.0     2109\n",
            "19.0      774\n",
            "20.0     1294\n",
            "Name: , dtype: int64\n"
          ]
        }
      ]
    },
    {
      "cell_type": "markdown",
      "source": [
        "## Modelo no lineal "
      ],
      "metadata": {
        "id": "UUvxjG-O4uOg"
      }
    },
    {
      "cell_type": "code",
      "source": [
        "import statsmodels.formula.api as smf\n",
        "\n",
        "# Add a new column with educ squared\n",
        "gss['educ2'] = gss['educ'] ** 2 \n",
        "gss['age2'] = gss['age'] ** 2\n",
        "\n",
        "# Run a regression model with educ, educ2, age, and age2\n",
        "results = smf.ols('realinc ~ educ + educ2 + age + age2', data = gss).fit()\n",
        "\n",
        "# Print the estimated parameters\n",
        "print(results.params)"
      ],
      "metadata": {
        "colab": {
          "base_uri": "https://localhost:8080/"
        },
        "id": "JGTM7KiD182v",
        "outputId": "8b00407e-4e20-4b59-fd59-cbcd49df36fe"
      },
      "execution_count": 12,
      "outputs": [
        {
          "output_type": "stream",
          "name": "stdout",
          "text": [
            "Intercept   -23241.884034\n",
            "educ          -528.309369\n",
            "educ2          159.966740\n",
            "age           1696.717149\n",
            "age2           -17.196984\n",
            "dtype: float64\n"
          ]
        }
      ]
    },
    {
      "cell_type": "markdown",
      "source": [
        "- La pendiente de educ2 es positiva y tiene con una curva hacia arriba "
      ],
      "metadata": {
        "id": "5qUaHZHJ7LtW"
      }
    },
    {
      "cell_type": "markdown",
      "source": [
        "Graficar una regresión multiple es complicado, para ello es mejor graficar las predicciones "
      ],
      "metadata": {
        "id": "jl2EHzhF8rRA"
      }
    },
    {
      "cell_type": "code",
      "source": [
        "# Run a regression model with educ, educ2, age, and age2\n",
        "results = smf.ols('realinc ~ educ + educ2 + age + age2', data=gss).fit()\n",
        "\n",
        "# Make the DataFrame\n",
        "df = pd.DataFrame()\n",
        "df['educ'] = np.linspace(0,20)\n",
        "df['age'] = 30\n",
        "df['educ2'] = df['educ']**2\n",
        "df['age2'] = df['age']**2\n",
        "\n",
        "# Generate and plot the predictions\n",
        "pred = results.predict(df)\n",
        "print(pred.head())"
      ],
      "metadata": {
        "colab": {
          "base_uri": "https://localhost:8080/"
        },
        "id": "w6JF6fBj7Vas",
        "outputId": "77ab1007-1a8c-4a23-9434-c9778c460055"
      },
      "execution_count": 13,
      "outputs": [
        {
          "output_type": "stream",
          "name": "stdout",
          "text": [
            "0    12182.344976\n",
            "1    11993.358518\n",
            "2    11857.672098\n",
            "3    11775.285717\n",
            "4    11746.199374\n",
            "dtype: float64\n"
          ]
        }
      ]
    },
    {
      "cell_type": "code",
      "source": [
        "# Plot mean income in each age group\n",
        "plt.clf()\n",
        "grouped = gss.groupby('educ')\n",
        "mean_income_by_educ = grouped['realinc'].mean()\n",
        "plt.figure(figsize = (12,8))\n",
        "plt.plot(mean_income_by_educ, 'o', alpha = .5)\n",
        "\n",
        "# Plot the predictions\n",
        "pred = results.predict(df)\n",
        "plt.plot(df['educ'], pred, label='Age 30')\n",
        "\n",
        "# Label axes\n",
        "plt.xlabel('Education (years)')\n",
        "plt.ylabel('Income (1986 $)')\n",
        "plt.legend()\n",
        "plt.show()"
      ],
      "metadata": {
        "colab": {
          "base_uri": "https://localhost:8080/",
          "height": 515
        },
        "id": "9fGFSamk7Vdm",
        "outputId": "c31aeb5b-14ed-4dd0-dcdf-2db13bef9f8f"
      },
      "execution_count": 16,
      "outputs": [
        {
          "output_type": "display_data",
          "data": {
            "text/plain": [
              "<Figure size 432x288 with 0 Axes>"
            ]
          },
          "metadata": {}
        },
        {
          "output_type": "display_data",
          "data": {
            "text/plain": [
              "<Figure size 864x576 with 1 Axes>"
            ],
            "image/png": "[encoded data removed]"
          },
          "metadata": {
            "needs_background": "light"
          }
        }
      ]
    },
    {
      "cell_type": "markdown",
      "source": [
        "- El modelo se ajusta a la regresión "
      ],
      "metadata": {
        "id": "_vXphsLa_TVH"
      }
    },
    {
      "cell_type": "markdown",
      "source": [
        "## Regresión logistica \n",
        "\n",
        "Información : https://www.cienciadedatos.net/documentos/27_regresion_logistica_simple_y_multiple\n",
        "\n",
        "<b> EJERCICIO </b>\n",
        "\n",
        "- Predecir la variable binaria \n",
        "\n",
        "  - utilizan la edad, el sexo y el nivel de educación para predecir el apoyo a la legalización del cannabis (marihuana) en EE.UU.\n",
        "\n",
        "  -  la variable 'grass' registra la respuesta a la pregunta \"¿Cree que el consumo de marihuana debería ser legal o no?\""
      ],
      "metadata": {
        "id": "dPvr79tvC655"
      }
    },
    {
      "cell_type": "code",
      "source": [
        "# Recode grass\n",
        "gss['grass'].replace(2, 0, inplace=True)\n",
        "\n",
        "# Run logistic regression\n",
        "results = smf.logit('grass ~ age + age2+ educ + educ2 +  C(sex)', data = gss).fit()\n",
        "results.params"
      ],
      "metadata": {
        "colab": {
          "base_uri": "https://localhost:8080/"
        },
        "id": "SmtFd7X5C6Kq",
        "outputId": "a93629fa-3f9e-4959-ed82-4f2c10f6d606"
      },
      "execution_count": 23,
      "outputs": [
        {
          "output_type": "stream",
          "name": "stdout",
          "text": [
            "Optimization terminated successfully.\n",
            "         Current function value: 0.588510\n",
            "         Iterations 6\n"
          ]
        },
        {
          "output_type": "execute_result",
          "data": {
            "text/plain": [
              "Intercept     -1.685223\n",
              "C(sex)[T.2]   -0.384611\n",
              "age           -0.034756\n",
              "age2           0.000192\n",
              "educ           0.221860\n",
              "educ2         -0.004163\n",
              "dtype: float64"
            ]
          },
          "metadata": {},
          "execution_count": 23
        }
      ]
    },
    {
      "cell_type": "code",
      "source": [
        "# Make a DataFrame with a range of ages\n",
        "df = pd.DataFrame()\n",
        "df['age'] = np.linspace(18, 89)\n",
        "df['age2'] = df['age']**2\n",
        "\n",
        "# Set the education level to 12\n",
        "df['educ'] = 12\n",
        "df['educ2'] = df['educ'] ** 2\n",
        "\n",
        "\n",
        "# Generate predictions for men and women\n",
        "df['sex'] = 1\n",
        "pred1 = results.predict(df)\n",
        "\n",
        "df['sex'] = 2\n",
        "pred2 = results.predict(df)"
      ],
      "metadata": {
        "id": "gKTcFpyQF6aG"
      },
      "execution_count": 25,
      "outputs": []
    },
    {
      "cell_type": "code",
      "source": [
        "plt.clf()\n",
        "grouped = gss.groupby('age')\n",
        "favor_by_age = grouped['grass'].mean()\n",
        "plt.figure(figsize = (10,8))\n",
        "plt.plot(favor_by_age, 'o', alpha=0.5)\n",
        "\n",
        "plt.plot(df['age'], pred1, label='Male')\n",
        "plt.plot(df['age'], pred2, label = 'Female')\n",
        "\n",
        "plt.xlabel('Age')\n",
        "plt.ylabel('Probability of favoring legalization')\n",
        "plt.legend()\n",
        "plt.show()"
      ],
      "metadata": {
        "colab": {
          "base_uri": "https://localhost:8080/",
          "height": 515
        },
        "id": "tB0Sdom2F6iH",
        "outputId": "ea261da2-a5f0-4fff-df84-ef55822e2613"
      },
      "execution_count": 27,
      "outputs": [
        {
          "output_type": "display_data",
          "data": {
            "text/plain": [
              "<Figure size 432x288 with 0 Axes>"
            ]
          },
          "metadata": {}
        },
        {
          "output_type": "display_data",
          "data": {
            "text/plain": [
              "<Figure size 720x576 with 1 Axes>"
            ],
            "image/png": "[encoded data removed]"
          },
          "metadata": {
            "needs_background": "light"
          }
        }
      ]
    },
    {
      "cell_type": "markdown",
      "source": [
        ""
      ],
      "metadata": {
        "id": "hgDTmWRSJQcZ"
      }
    },
    {
      "cell_type": "code",
      "source": [
        ""
      ],
      "metadata": {
        "id": "i_5_8PYuC6WW"
      },
      "execution_count": null,
      "outputs": []
    },
    {
      "cell_type": "code",
      "source": [
        ""
      ],
      "metadata": {
        "id": "XtjSg3yl_HRN"
      },
      "execution_count": 16,
      "outputs": []
    },
    {
      "cell_type": "code",
      "source": [
        ""
      ],
      "metadata": {
        "id": "9OAzE22d_HT_"
      },
      "execution_count": 16,
      "outputs": []
    },
    {
      "cell_type": "code",
      "source": [
        ""
      ],
      "metadata": {
        "id": "UWFGoNH6_HXI"
      },
      "execution_count": 16,
      "outputs": []
    },
    {
      "cell_type": "code",
      "source": [
        ""
      ],
      "metadata": {
        "id": "q1R4wiFV_HZ-"
      },
      "execution_count": 16,
      "outputs": []
    },
    {
      "cell_type": "code",
      "source": [
        ""
      ],
      "metadata": {
        "id": "vkaBuBuu_Hcy"
      },
      "execution_count": null,
      "outputs": []
    },
    {
      "cell_type": "code",
      "source": [
        ""
      ],
      "metadata": {
        "id": "YcDs-nZ27Vgh"
      },
      "execution_count": 12,
      "outputs": []
    },
    {
      "cell_type": "code",
      "source": [
        ""
      ],
      "metadata": {
        "id": "kE_j_pyN7Vjb"
      },
      "execution_count": 12,
      "outputs": []
    },
    {
      "cell_type": "code",
      "source": [
        ""
      ],
      "metadata": {
        "id": "W_1NNlAU7VmT"
      },
      "execution_count": null,
      "outputs": []
    }
  ]
}