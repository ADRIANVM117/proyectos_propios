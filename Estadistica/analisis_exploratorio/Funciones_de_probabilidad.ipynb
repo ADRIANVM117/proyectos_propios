{
  "nbformat": 4,
  "nbformat_minor": 0,
  "metadata": {
    "colab": {
      "name": "Funciones_de_probabilidad.ipynb",
      "provenance": [],
      "collapsed_sections": [],
      "authorship_tag": "ABX9TyOjSi5zRN3/ASuB5U4a0Gv3",
      "include_colab_link": true
    },
    "kernelspec": {
      "name": "python3",
      "display_name": "Python 3"
    },
    "language_info": {
      "name": "python"
    }
  },
  "cells": [
    {
      "cell_type": "markdown",
      "metadata": {
        "id": "view-in-github",
        "colab_type": "text"
      },
      "source": [
        "<a href=\"https://colab.research.google.com/github/ADRIANVM117/proyectos_propios/blob/main/Estadistica/analisis_exploratorio/Funciones_de_probabilidad.ipynb\" target=\"_parent\"><img src=\"https://colab.research.google.com/assets/colab-badge.svg\" alt=\"Open In Colab\"/></a>"
      ]
    },
    {
      "cell_type": "markdown",
      "source": [
        "# Contenido \n",
        "\n",
        "- Función de masa de probabilidad\n",
        "- Función de densidad acumulada \n",
        "- Función de densidad de probabilidad \n",
        "- Estimación de densidad kernel \n"
      ],
      "metadata": {
        "id": "vOzFwCFSFSsU"
      }
    },
    {
      "cell_type": "markdown",
      "source": [
        "## Función de masa de probabilidad (PMF)\n",
        "\n",
        "- Es una función que devuelve la probabilidad de que una variable aleatoria discreta sea exactamente igual a algun valor. \n",
        "\n",
        "  - $ PMF = P_x(x_{k}) = P(X = x_{k} ). k = {1,2,3, ... , n } $"
      ],
      "metadata": {
        "id": "DElRhdtJNFta"
      }
    },
    {
      "cell_type": "code",
      "source": [
        "try:\n",
        "    import empiricaldist\n",
        "except ImportError:\n",
        "    !pip install empiricaldist"
      ],
      "metadata": {
        "colab": {
          "base_uri": "https://localhost:8080/"
        },
        "id": "gIJvGsIBh_aM",
        "outputId": "a42d8f47-acda-4c83-8651-87e32c739b06"
      },
      "execution_count": 1,
      "outputs": [
        {
          "output_type": "stream",
          "name": "stdout",
          "text": [
            "Collecting empiricaldist\n",
            "  Downloading empiricaldist-0.6.3.tar.gz (9.3 kB)\n",
            "Building wheels for collected packages: empiricaldist\n",
            "  Building wheel for empiricaldist (setup.py) ... \u001b[?25l\u001b[?25hdone\n",
            "  Created wheel for empiricaldist: filename=empiricaldist-0.6.3-py3-none-any.whl size=10545 sha256=a2bcf52aabbe3fb7741ba8824f0fd39ae5993abec78afd610fba3fb4d75fbd7a\n",
            "  Stored in directory: /root/.cache/pip/wheels/be/4d/30/c131cf1cbb0046f14436cdd7a29f4cc8553d34754e3685d071\n",
            "Successfully built empiricaldist\n",
            "Installing collected packages: empiricaldist\n",
            "Successfully installed empiricaldist-0.6.3\n"
          ]
        }
      ]
    },
    {
      "cell_type": "code",
      "source": [
        "import pandas as pd \n",
        "import numpy as np \n",
        "import matplotlib.pyplot as plt \n",
        "from empiricaldist import Pmf # <-- en la biblioteca empiricaldist se ecnuentra la función \n",
        "                                    # de masa de probabilidad"
      ],
      "metadata": {
        "id": "9r-rsnQMgoYt"
      },
      "execution_count": 2,
      "outputs": []
    },
    {
      "cell_type": "code",
      "source": [
        "import h5py\n",
        "\n",
        "gss = pd.read_hdf('/content/gss.hdf5', 'gss')\n",
        "gss.head()"
      ],
      "metadata": {
        "colab": {
          "base_uri": "https://localhost:8080/",
          "height": 206
        },
        "id": "sNzox1URiDjW",
        "outputId": "0b5642e5-5c98-4cba-ef35-9c3b520fd20d"
      },
      "execution_count": 3,
      "outputs": [
        {
          "output_type": "execute_result",
          "data": {
            "text/plain": [
              "   year   age  cohort  sex  race  educ  realinc  gunlaw  grass  wtssall\n",
              "0  1972  26.0  1946.0    1     1  18.0  13537.0     2.0    NaN   0.8893\n",
              "1  1972  38.0  1934.0    2     1  12.0  18951.0     1.0    NaN   0.4446\n",
              "2  1972  57.0  1915.0    1     1  12.0  30458.0     1.0    NaN   1.3339\n",
              "3  1972  61.0  1911.0    2     1  14.0  37226.0     1.0    NaN   0.8893\n",
              "4  1972  59.0  1913.0    1     1  12.0  30458.0     2.0    NaN   0.8893"
            ],
            "text/html": [
              "\n",
              "  <div id=\"df-a9935d02-0aa2-4a65-9d72-d1f4418accf3\">\n",
              "    <div class=\"colab-df-container\">\n",
              "      <div>\n",
              "<style scoped>\n",
              "    .dataframe tbody tr th:only-of-type {\n",
              "        vertical-align: middle;\n",
              "    }\n",
              "\n",
              "    .dataframe tbody tr th {\n",
              "        vertical-align: top;\n",
              "    }\n",
              "\n",
              "    .dataframe thead th {\n",
              "        text-align: right;\n",
              "    }\n",
              "</style>\n",
              "<table border=\"1\" class=\"dataframe\">\n",
              "  <thead>\n",
              "    <tr style=\"text-align: right;\">\n",
              "      <th></th>\n",
              "      <th>year</th>\n",
              "      <th>age</th>\n",
              "      <th>cohort</th>\n",
              "      <th>sex</th>\n",
              "      <th>race</th>\n",
              "      <th>educ</th>\n",
              "      <th>realinc</th>\n",
              "      <th>gunlaw</th>\n",
              "      <th>grass</th>\n",
              "      <th>wtssall</th>\n",
              "    </tr>\n",
              "  </thead>\n",
              "  <tbody>\n",
              "    <tr>\n",
              "      <th>0</th>\n",
              "      <td>1972</td>\n",
              "      <td>26.0</td>\n",
              "      <td>1946.0</td>\n",
              "      <td>1</td>\n",
              "      <td>1</td>\n",
              "      <td>18.0</td>\n",
              "      <td>13537.0</td>\n",
              "      <td>2.0</td>\n",
              "      <td>NaN</td>\n",
              "      <td>0.8893</td>\n",
              "    </tr>\n",
              "    <tr>\n",
              "      <th>1</th>\n",
              "      <td>1972</td>\n",
              "      <td>38.0</td>\n",
              "      <td>1934.0</td>\n",
              "      <td>2</td>\n",
              "      <td>1</td>\n",
              "      <td>12.0</td>\n",
              "      <td>18951.0</td>\n",
              "      <td>1.0</td>\n",
              "      <td>NaN</td>\n",
              "      <td>0.4446</td>\n",
              "    </tr>\n",
              "    <tr>\n",
              "      <th>2</th>\n",
              "      <td>1972</td>\n",
              "      <td>57.0</td>\n",
              "      <td>1915.0</td>\n",
              "      <td>1</td>\n",
              "      <td>1</td>\n",
              "      <td>12.0</td>\n",
              "      <td>30458.0</td>\n",
              "      <td>1.0</td>\n",
              "      <td>NaN</td>\n",
              "      <td>1.3339</td>\n",
              "    </tr>\n",
              "    <tr>\n",
              "      <th>3</th>\n",
              "      <td>1972</td>\n",
              "      <td>61.0</td>\n",
              "      <td>1911.0</td>\n",
              "      <td>2</td>\n",
              "      <td>1</td>\n",
              "      <td>14.0</td>\n",
              "      <td>37226.0</td>\n",
              "      <td>1.0</td>\n",
              "      <td>NaN</td>\n",
              "      <td>0.8893</td>\n",
              "    </tr>\n",
              "    <tr>\n",
              "      <th>4</th>\n",
              "      <td>1972</td>\n",
              "      <td>59.0</td>\n",
              "      <td>1913.0</td>\n",
              "      <td>1</td>\n",
              "      <td>1</td>\n",
              "      <td>12.0</td>\n",
              "      <td>30458.0</td>\n",
              "      <td>2.0</td>\n",
              "      <td>NaN</td>\n",
              "      <td>0.8893</td>\n",
              "    </tr>\n",
              "  </tbody>\n",
              "</table>\n",
              "</div>\n",
              "      <button class=\"colab-df-convert\" onclick=\"convertToInteractive('df-a9935d02-0aa2-4a65-9d72-d1f4418accf3')\"\n",
              "              title=\"Convert this dataframe to an interactive table.\"\n",
              "              style=\"display:none;\">\n",
              "        \n",
              "  <svg xmlns=\"http://www.w3.org/2000/svg\" height=\"24px\"viewBox=\"0 0 24 24\"\n",
              "       width=\"24px\">\n",
              "    <path d=\"M0 0h24v24H0V0z\" fill=\"none\"/>\n",
              "    <path d=\"M18.56 5.44l.94 2.06.94-2.06 2.06-.94-2.06-.94-.94-2.06-.94 2.06-2.06.94zm-11 1L8.5 8.5l.94-2.06 2.06-.94-2.06-.94L8.5 2.5l-.94 2.06-2.06.94zm10 10l.94 2.06.94-2.06 2.06-.94-2.06-.94-.94-2.06-.94 2.06-2.06.94z\"/><path d=\"M17.41 7.96l-1.37-1.37c-.4-.4-.92-.59-1.43-.59-.52 0-1.04.2-1.43.59L10.3 9.45l-7.72 7.72c-.78.78-.78 2.05 0 2.83L4 21.41c.39.39.9.59 1.41.59.51 0 1.02-.2 1.41-.59l7.78-7.78 2.81-2.81c.8-.78.8-2.07 0-2.86zM5.41 20L4 18.59l7.72-7.72 1.47 1.35L5.41 20z\"/>\n",
              "  </svg>\n",
              "      </button>\n",
              "      \n",
              "  <style>\n",
              "    .colab-df-container {\n",
              "      display:flex;\n",
              "      flex-wrap:wrap;\n",
              "      gap: 12px;\n",
              "    }\n",
              "\n",
              "    .colab-df-convert {\n",
              "      background-color: #E8F0FE;\n",
              "      border: none;\n",
              "      border-radius: 50%;\n",
              "      cursor: pointer;\n",
              "      display: none;\n",
              "      fill: #1967D2;\n",
              "      height: 32px;\n",
              "      padding: 0 0 0 0;\n",
              "      width: 32px;\n",
              "    }\n",
              "\n",
              "    .colab-df-convert:hover {\n",
              "      background-color: #E2EBFA;\n",
              "      box-shadow: 0px 1px 2px rgba(60, 64, 67, 0.3), 0px 1px 3px 1px rgba(60, 64, 67, 0.15);\n",
              "      fill: #174EA6;\n",
              "    }\n",
              "\n",
              "    [theme=dark] .colab-df-convert {\n",
              "      background-color: #3B4455;\n",
              "      fill: #D2E3FC;\n",
              "    }\n",
              "\n",
              "    [theme=dark] .colab-df-convert:hover {\n",
              "      background-color: #434B5C;\n",
              "      box-shadow: 0px 1px 3px 1px rgba(0, 0, 0, 0.15);\n",
              "      filter: drop-shadow(0px 1px 2px rgba(0, 0, 0, 0.3));\n",
              "      fill: #FFFFFF;\n",
              "    }\n",
              "  </style>\n",
              "\n",
              "      <script>\n",
              "        const buttonEl =\n",
              "          document.querySelector('#df-a9935d02-0aa2-4a65-9d72-d1f4418accf3 button.colab-df-convert');\n",
              "        buttonEl.style.display =\n",
              "          google.colab.kernel.accessAllowed ? 'block' : 'none';\n",
              "\n",
              "        async function convertToInteractive(key) {\n",
              "          const element = document.querySelector('#df-a9935d02-0aa2-4a65-9d72-d1f4418accf3');\n",
              "          const dataTable =\n",
              "            await google.colab.kernel.invokeFunction('convertToInteractive',\n",
              "                                                     [key], {});\n",
              "          if (!dataTable) return;\n",
              "\n",
              "          const docLinkHtml = 'Like what you see? Visit the ' +\n",
              "            '<a target=\"_blank\" href=https://colab.research.google.com/notebooks/data_table.ipynb>data table notebook</a>'\n",
              "            + ' to learn more about interactive tables.';\n",
              "          element.innerHTML = '';\n",
              "          dataTable['output_type'] = 'display_data';\n",
              "          await google.colab.output.renderOutput(dataTable, element);\n",
              "          const docLink = document.createElement('div');\n",
              "          docLink.innerHTML = docLinkHtml;\n",
              "          element.appendChild(docLink);\n",
              "        }\n",
              "      </script>\n",
              "    </div>\n",
              "  </div>\n",
              "  "
            ]
          },
          "metadata": {},
          "execution_count": 3
        }
      ]
    },
    {
      "cell_type": "markdown",
      "source": [
        "<b> Poniendo en practica pmf </b>"
      ],
      "metadata": {
        "id": "htJvoBeEG8dx"
      }
    },
    {
      "cell_type": "code",
      "source": [
        "!pip install empiricaldist "
      ],
      "metadata": {
        "colab": {
          "base_uri": "https://localhost:8080/"
        },
        "id": "e4kZlyPzG7e9",
        "outputId": "3b57f9a8-bee6-4535-c0ea-28621f17a3bb"
      },
      "execution_count": 4,
      "outputs": [
        {
          "output_type": "stream",
          "name": "stdout",
          "text": [
            "Requirement already satisfied: empiricaldist in /usr/local/lib/python3.7/dist-packages (0.6.3)\n"
          ]
        }
      ]
    },
    {
      "cell_type": "code",
      "source": [
        "pmf_year = Pmf.from_seq( gss['year'].dropna(), normalize=False)\n",
        "print(pmf_year)"
      ],
      "metadata": {
        "colab": {
          "base_uri": "https://localhost:8080/"
        },
        "id": "T50MayJ2IxD7",
        "outputId": "092c6194-3ce0-43b5-8be6-ace86097de09"
      },
      "execution_count": 5,
      "outputs": [
        {
          "output_type": "stream",
          "name": "stdout",
          "text": [
            "1972    1613\n",
            "1973    1504\n",
            "1974    1484\n",
            "1975    1490\n",
            "1976    1499\n",
            "1977    1530\n",
            "1978    1532\n",
            "1980    1468\n",
            "1982    1860\n",
            "1983    1599\n",
            "1984    1473\n",
            "1985    1534\n",
            "1986    1470\n",
            "1987    1819\n",
            "1988    1481\n",
            "1989    1537\n",
            "1990    1372\n",
            "1991    1517\n",
            "1993    1606\n",
            "1994    2992\n",
            "1996    2904\n",
            "1998    2832\n",
            "2000    2817\n",
            "2002    2765\n",
            "2004    2812\n",
            "2006    4510\n",
            "2008    2023\n",
            "2010    2044\n",
            "2012    1974\n",
            "2014    2538\n",
            "2016    2867\n",
            "Name: , dtype: int64\n"
          ]
        }
      ]
    },
    {
      "cell_type": "markdown",
      "source": [
        "- En 2016 hubo 2867 encuestados "
      ],
      "metadata": {
        "id": "f5Sgjj_PJPlZ"
      }
    },
    {
      "cell_type": "markdown",
      "source": [
        "## Graficando \n",
        "\n",
        "- Graficando una pmf de los encuestados por edad"
      ],
      "metadata": {
        "id": "d9sBrm5vJeEE"
      }
    },
    {
      "cell_type": "code",
      "source": [
        "gss_edad = gss['age']\n",
        "\n",
        "pmf_edad = Pmf.from_seq(gss_edad.dropna(), normalize= True) \n",
        "print(pmf_edad)"
      ],
      "metadata": {
        "colab": {
          "base_uri": "https://localhost:8080/"
        },
        "id": "Nj3D4Cb6JIBN",
        "outputId": "05c0c06c-6852-4a00-b1bb-a886bc3fd58d"
      },
      "execution_count": 6,
      "outputs": [
        {
          "output_type": "stream",
          "name": "stdout",
          "text": [
            "18.0    0.005620\n",
            "19.0    0.019878\n",
            "20.0    0.018111\n",
            "21.0    0.019219\n",
            "22.0    0.020247\n",
            "          ...   \n",
            "85.0    0.002360\n",
            "86.0    0.001927\n",
            "87.0    0.001702\n",
            "88.0    0.001413\n",
            "89.0    0.003773\n",
            "Name: , Length: 72, dtype: float64\n"
          ]
        }
      ]
    },
    {
      "cell_type": "code",
      "source": [
        "# PMF de edad\n",
        "age = gss['age'].dropna()\n",
        "pmf_age = Pmf.from_seq(age)\n",
        "\n",
        "# Plot the PMF\n",
        "pmf_age.bar(label = 'educ')\n",
        "\n",
        "# Label the axes\n",
        "plt.xlabel('Age')\n",
        "plt.ylabel('PMF')\n",
        "plt.show()"
      ],
      "metadata": {
        "colab": {
          "base_uri": "https://localhost:8080/",
          "height": 279
        },
        "id": "HjKCcbttLpTO",
        "outputId": "719240d4-f9c9-4924-c377-f106e66619ab"
      },
      "execution_count": 7,
      "outputs": [
        {
          "output_type": "display_data",
          "data": {
            "text/plain": [
              "<Figure size 432x288 with 1 Axes>"
            ],
            "image/png": "[encoded data removed]"
          },
          "metadata": {
            "needs_background": "light"
          }
        }
      ]
    },
    {
      "cell_type": "markdown",
      "source": [
        "Es mas probable que la encuesta sea respondida por jovenes de 23 años. "
      ],
      "metadata": {
        "id": "iS0XdPOROrYR"
      }
    },
    {
      "cell_type": "code",
      "source": [
        "pmf_age[23]"
      ],
      "metadata": {
        "colab": {
          "base_uri": "https://localhost:8080/"
        },
        "id": "ieKRsBd3LpYD",
        "outputId": "804c8f5c-fd16-4e7f-abe6-26c09f90b9f2"
      },
      "execution_count": 8,
      "outputs": [
        {
          "output_type": "execute_result",
          "data": {
            "text/plain": [
              "0.022671440728312005"
            ]
          },
          "metadata": {},
          "execution_count": 8
        }
      ]
    },
    {
      "cell_type": "markdown",
      "source": [
        "- La probabilidad es de 2.267 % "
      ],
      "metadata": {
        "id": "EJIZMahYPq35"
      }
    },
    {
      "cell_type": "code",
      "source": [
        "pmf_age[89]"
      ],
      "metadata": {
        "colab": {
          "base_uri": "https://localhost:8080/"
        },
        "id": "M8yENxBWLpnN",
        "outputId": "3f65fd53-2ab3-489b-e9e9-fddba1d25e96"
      },
      "execution_count": 9,
      "outputs": [
        {
          "output_type": "execute_result",
          "data": {
            "text/plain": [
              "0.003773221367672324"
            ]
          },
          "metadata": {},
          "execution_count": 9
        }
      ]
    },
    {
      "cell_type": "markdown",
      "source": [
        "La probabilidad de una persona de 89 años es de 0.377 % "
      ],
      "metadata": {
        "id": "cr9JiCDNP1XK"
      }
    },
    {
      "cell_type": "markdown",
      "source": [
        "# CDF \n",
        "## Funcion de probabilidad acumulativa \n",
        "\n",
        "- Es la función de probabilidad de que obtengas un valor  $ <= x $\n",
        "\n",
        "- una CDF es una suma acumulativa de una PMF\n",
        "\n",
        "### Ejercicio \n",
        "\n",
        "- Obtener la probabilidad de que los encuestados tengan 30 años o mas.  "
      ],
      "metadata": {
        "id": "pSqW_odOQFax"
      }
    },
    {
      "cell_type": "code",
      "source": [
        "from empiricaldist import Cdf\n",
        "age = gss['age']\n",
        "\n",
        "cdf_age = Cdf.from_seq(age)\n",
        "\n",
        "print(cdf_age[30])"
      ],
      "metadata": {
        "colab": {
          "base_uri": "https://localhost:8080/"
        },
        "id": "ct3LNetsJIGN",
        "outputId": "6a039abf-98e1-48b4-a50e-3827edb06ec7"
      },
      "execution_count": 10,
      "outputs": [
        {
          "output_type": "stream",
          "name": "stdout",
          "text": [
            "0.2539137136526389\n"
          ]
        }
      ]
    },
    {
      "cell_type": "markdown",
      "source": [
        "- La probabilidad de que los encuestados se encuentren entre los 30 años es de 25% \n",
        "\n",
        "- la fracción de que sean mayores de 30 años es del 75% \n",
        "\n",
        "\n",
        "<b> NOTA </b>\n",
        "\n",
        "- el rango intercuartil (IQR) es la diferencia entre los percentiles 75 y 25. Es una medida de variabilidad que es robusta en presencia de errores o valores extremos."
      ],
      "metadata": {
        "id": "0w9fqmK8SYBP"
      }
    },
    {
      "cell_type": "markdown",
      "source": [
        "### Ejercicio. \n",
        "\n",
        "calcular el rango intercuartil de los ingresos del gss.\n"
      ],
      "metadata": {
        "id": "ilIck604T7PY"
      }
    },
    {
      "cell_type": "code",
      "source": [
        "ingresos = gss['realinc']\n",
        "\n",
        "cdf_ingresos = Cdf.from_seq(ingresos.dropna()) # <-- calculando cdf de los ingresos \n",
        "\n",
        "p = .75 #<-- rango intercuartil \n",
        "\n",
        "percentil_75th = cdf_ingresos.inverse(p) # Obtenemos el ingreso de ese cuartil \n",
        "\n",
        "print(percentil_75th)"
      ],
      "metadata": {
        "colab": {
          "base_uri": "https://localhost:8080/"
        },
        "id": "vNwbTuTCP804",
        "outputId": "9317beb7-d027-4025-cbfb-b52e7ab52ca9"
      },
      "execution_count": 11,
      "outputs": [
        {
          "output_type": "stream",
          "name": "stdout",
          "text": [
            "43426.0\n"
          ]
        }
      ]
    },
    {
      "cell_type": "markdown",
      "source": [
        "- dentro del percentil 75 se encuentra un ingreso del 43426 $ \n",
        "\n",
        "- ahora calculamos el percentil  25 "
      ],
      "metadata": {
        "id": "ojs0yuCKWxtE"
      }
    },
    {
      "cell_type": "code",
      "source": [
        "p = .25 \n",
        "\n",
        "percentil_25th = cdf_ingresos.inverse(p)\n",
        "print(percentil_25th)"
      ],
      "metadata": {
        "colab": {
          "base_uri": "https://localhost:8080/"
        },
        "id": "brDyx8vkP8yk",
        "outputId": "4ec983a7-4d4e-4489-a9a9-5359c6e13c97"
      },
      "execution_count": 12,
      "outputs": [
        {
          "output_type": "stream",
          "name": "stdout",
          "text": [
            "13750.0\n"
          ]
        }
      ]
    },
    {
      "cell_type": "markdown",
      "source": [
        "- dentro del percentil 75 se encuentra un ingreso del 13750 $ \n",
        "\n",
        "###  calculamos ahora el rango intercuartil "
      ],
      "metadata": {
        "id": "noiKEVqvXX_S"
      }
    },
    {
      "cell_type": "code",
      "source": [
        "iqr = percentil_75th - percentil_25th\n",
        "print(iqr)"
      ],
      "metadata": {
        "colab": {
          "base_uri": "https://localhost:8080/"
        },
        "id": "o8VDR8VYP8vi",
        "outputId": "9f609a29-b9e4-41c2-c1b1-51f2df7c7456"
      },
      "execution_count": 13,
      "outputs": [
        {
          "output_type": "stream",
          "name": "stdout",
          "text": [
            "29676.0\n"
          ]
        }
      ]
    },
    {
      "cell_type": "markdown",
      "source": [
        "- Conclusión: El rango intercuartil de los ingresos dentro del gss es de: 29676 $ "
      ],
      "metadata": {
        "id": "yq66viT9X34_"
      }
    },
    {
      "cell_type": "markdown",
      "source": [
        "### Ejercicio \n",
        "- CDF de los ingresos de los hogares"
      ],
      "metadata": {
        "id": "vww4MLghZKqo"
      }
    },
    {
      "cell_type": "code",
      "source": [
        "income = gss['realinc']\n",
        "\n",
        "# CDF\n",
        "cdf_income = Cdf.from_seq(income)\n",
        "\n",
        "# graficando\n",
        "plt.figure(figsize = (12,8))\n",
        "cdf_income.plot()\n",
        "\n",
        "# etiquetas\n",
        "\n",
        "plt.xlabel('Income (1986 USD)')\n",
        "plt.ylabel('CDF')"
      ],
      "metadata": {
        "colab": {
          "base_uri": "https://localhost:8080/",
          "height": 515
        },
        "id": "TGhYV5XZP8s_",
        "outputId": "75c76fdc-e72a-4deb-feac-8d3fb181efdc"
      },
      "execution_count": 14,
      "outputs": [
        {
          "output_type": "execute_result",
          "data": {
            "text/plain": [
              "Text(0, 0.5, 'CDF')"
            ]
          },
          "metadata": {},
          "execution_count": 14
        },
        {
          "output_type": "display_data",
          "data": {
            "text/plain": [
              "<Figure size 864x576 with 1 Axes>"
            ],
            "image/png": "[encoded data removed]"
          },
          "metadata": {
            "needs_background": "light"
          }
        }
      ]
    },
    {
      "cell_type": "markdown",
      "source": [
        "<b> Ejercicio. </b>\n",
        "\n",
        "Que fracción de los encuestados tienen 12 años o menos de educación.  "
      ],
      "metadata": {
        "id": "nM6Q_h-jwX7q"
      }
    },
    {
      "cell_type": "code",
      "source": [
        "educacion = gss['educ']\n",
        "\n",
        "cdf_edu = Cdf.from_seq(educacion)\n",
        "\n",
        "cdf_edu[12]"
      ],
      "metadata": {
        "id": "K90ywrjyJIJg",
        "colab": {
          "base_uri": "https://localhost:8080/"
        },
        "outputId": "87577164-9657-4b70-dc91-4c11bbe54c44"
      },
      "execution_count": 15,
      "outputs": [
        {
          "output_type": "execute_result",
          "data": {
            "text/plain": [
              "0.5322611710323575"
            ]
          },
          "metadata": {},
          "execution_count": 15
        }
      ]
    },
    {
      "cell_type": "markdown",
      "source": [
        "- Aproximadamente entre el 53 % de los encuentados "
      ],
      "metadata": {
        "id": "0sJ8ZqZDxTbB"
      }
    },
    {
      "cell_type": "markdown",
      "source": [
        "<b>Ejercicio </b>\n",
        "\n",
        "- Segmentar la población entre diferentes niveles de educación \n",
        "\n",
        "- 12 años. termino high school \n",
        "- 14 años. termino dos años collage \n",
        "- 16 años.termino el collage "
      ],
      "metadata": {
        "id": "dGN4OshQyiER"
      }
    },
    {
      "cell_type": "code",
      "source": [
        "educ = gss['educ']\n",
        "\n",
        "# Bachelor's degree\n",
        "bach = (educ >= 16)\n",
        "\n",
        "# Associate degree\n",
        "assc = (educ >= 14) & (educ < 16)\n",
        "\n",
        "# High school\n",
        "high = (educ <= 12)\n",
        "print(high.mean())"
      ],
      "metadata": {
        "id": "kyKwSlcObYor",
        "colab": {
          "base_uri": "https://localhost:8080/"
        },
        "outputId": "b0eb6bdd-fa1e-44dd-c260-ae078fbb4569"
      },
      "execution_count": 16,
      "outputs": [
        {
          "output_type": "stream",
          "name": "stdout",
          "text": [
            "0.5308807991547402\n"
          ]
        }
      ]
    },
    {
      "cell_type": "markdown",
      "source": [
        "- alrededor del 53% tiene entre 12 añoso menos de estudios "
      ],
      "metadata": {
        "id": "44VuEAoozKIS"
      }
    },
    {
      "cell_type": "markdown",
      "source": [
        "<b> Ejericio  </b>\n",
        "\n",
        "- Graficando los diferentes niveles de ingresos segmentado por sus niveles de estudios "
      ],
      "metadata": {
        "id": "PWTvPiml0v8k"
      }
    },
    {
      "cell_type": "code",
      "source": [
        "income = gss['realinc']\n",
        "\n",
        "\n",
        "\n",
        "# Plot the CDFs\n",
        "plt.figure(figsize = (12,10))\n",
        "Cdf.from_seq(income[high]).plot(label='High school')\n",
        "Cdf.from_seq(income[assc]).plot(label='Associate')\n",
        "Cdf.from_seq(income[bach]).plot(label='Bachelor')\n",
        "\n",
        "# Label the axes\n",
        "plt.xlabel('Income (1986 USD)')\n",
        "plt.ylabel('CDF')\n",
        "plt.legend()\n",
        "plt.show()\n"
      ],
      "metadata": {
        "id": "dEttuFn-JIgC",
        "colab": {
          "base_uri": "https://localhost:8080/",
          "height": 606
        },
        "outputId": "8597b9f1-6c08-484f-b2b1-1a7d68bac9d4"
      },
      "execution_count": 21,
      "outputs": [
        {
          "output_type": "display_data",
          "data": {
            "text/plain": [
              "<Figure size 864x720 with 1 Axes>"
            ],
            "image/png": "[encoded data removed]"
          },
          "metadata": {
            "needs_background": "light"
          }
        }
      ]
    },
    {
      "cell_type": "markdown",
      "source": [
        "## Función de densidad de probabilidad (PDF)\n",
        "\n",
        "- La función de densidad de probabilidad muestra la distribución de valores de destino. En destinos continuos, permite determinar la probabilidad de que el destino esté dentro de una región concreta.\n",
        "\n",
        "<b> EJERCICIO: distribución de los ingresos. </b>\n"
      ],
      "metadata": {
        "id": "EaJmo26F4gmO"
      }
    },
    {
      "cell_type": "code",
      "source": [
        "# Extract realinc and compute its log\n",
        "income = gss['realinc']\n",
        "log_income = np.log10(income)\n",
        "\n",
        "# Compute mean and standard deviation\n",
        "mean = np.mean(log_income)\n",
        "std = np.std(log_income)\n",
        "print(mean, std)\n",
        "\n",
        "# Make a norm object\n",
        "from scipy.stats import norm\n",
        "dist = norm(mean, std)"
      ],
      "metadata": {
        "colab": {
          "base_uri": "https://localhost:8080/"
        },
        "id": "ZEoVu5PP2P0z",
        "outputId": "adbb4600-8dff-4423-9149-0359b12a19ef"
      },
      "execution_count": 22,
      "outputs": [
        {
          "output_type": "stream",
          "name": "stdout",
          "text": [
            "4.371148677933652 0.4290043733010077\n"
          ]
        }
      ]
    },
    {
      "cell_type": "markdown",
      "source": [
        "- Veamos si los ingresos siguen una distribución logaritmica y que se ajuste a una normal. "
      ],
      "metadata": {
        "id": "u-CqT57V8G1h"
      }
    },
    {
      "cell_type": "code",
      "source": [
        "# Make a norm object\n",
        "from scipy.stats import norm\n",
        "dist = norm(mean, std)\n",
        "\n",
        "# Evaluate the model CDF\n",
        "xs = np.linspace(2, 5.5)\n",
        "ys = dist.cdf(xs)\n",
        "\n",
        "# Plot the model CDF\n",
        "plt.figure(figsize = (12,10))\n",
        "plt.clf()\n",
        "plt.plot(xs, ys, color='gray')\n",
        "\n",
        "# Create and plot the Cdf of log_income\n",
        "Cdf.from_seq(log_income).plot(label = 'log_income')\n",
        "    \n",
        "# Label the axes\n",
        "plt.xlabel('log10 of realinc')\n",
        "plt.ylabel('CDF')\n",
        "plt.legend()\n",
        "plt.show()"
      ],
      "metadata": {
        "colab": {
          "base_uri": "https://localhost:8080/",
          "height": 606
        },
        "id": "vxKikYYZ2P9l",
        "outputId": "47ef33b5-8dc9-4333-9d63-e7ff18cc44b3"
      },
      "execution_count": 29,
      "outputs": [
        {
          "output_type": "display_data",
          "data": {
            "text/plain": [
              "<Figure size 864x720 with 1 Axes>"
            ],
            "image/png": "[encoded data removed]"
          },
          "metadata": {
            "needs_background": "light"
          }
        }
      ]
    },
    {
      "cell_type": "markdown",
      "source": [
        "- La distribución de los ingresos, intuitivamente podemos ver que se ajusta a una logaritmica "
      ],
      "metadata": {
        "id": "sUKFJM_H8zWD"
      }
    },
    {
      "cell_type": "markdown",
      "source": [
        "## PDF VS KDE\n",
        "\n",
        "- KDE: la estimación de densidad de Kernel (KDE) es una forma no paramétrica para estimar la función de densidad de probabilidad de una variable aleatoria.\n",
        "\n",
        "   - Es una forma de pasar de una PMF a una PDF \n",
        "\n"
      ],
      "metadata": {
        "id": "WZ1YkCG89uWo"
      }
    },
    {
      "cell_type": "code",
      "source": [
        "import seaborn as sns \n",
        "# Evaluate the normal PDF\n",
        "xs = np.linspace(2, 5.5)\n",
        "ys = dist.pdf(xs)\n",
        "\n",
        "# Plot the model PDF\n",
        "plt.figure(figsize= (12,10))\n",
        "plt.clf()\n",
        "plt.plot(xs, ys, color='gray')\n",
        "\n",
        "# Plot the data KDE\n",
        "sns.kdeplot(log_income)\n",
        "\n",
        "# Label the axes\n",
        "plt.xlabel('log10 of realinc')\n",
        "plt.ylabel('PDF')\n",
        "plt.show()"
      ],
      "metadata": {
        "colab": {
          "base_uri": "https://localhost:8080/",
          "height": 606
        },
        "id": "kfbFWO5w2QBW",
        "outputId": "f0338ecc-ad99-4b6a-a26f-9a0832e10b07"
      },
      "execution_count": 30,
      "outputs": [
        {
          "output_type": "display_data",
          "data": {
            "text/plain": [
              "<Figure size 864x720 with 1 Axes>"
            ],
            "image/png": "[encoded data removed]"
          },
          "metadata": {
            "needs_background": "light"
          }
        }
      ]
    },
    {
      "cell_type": "markdown",
      "source": [
        "<b> Conclusión </b>"
      ],
      "metadata": {
        "id": "Cw5lx7Ut_GsV"
      }
    },
    {
      "cell_type": "code",
      "source": [
        ""
      ],
      "metadata": {
        "id": "t3i_jOE32QEa"
      },
      "execution_count": 21,
      "outputs": []
    },
    {
      "cell_type": "code",
      "source": [
        ""
      ],
      "metadata": {
        "id": "XODFbPet2RpL"
      },
      "execution_count": 21,
      "outputs": []
    },
    {
      "cell_type": "code",
      "source": [
        ""
      ],
      "metadata": {
        "id": "U3L33PgD2RsL"
      },
      "execution_count": 21,
      "outputs": []
    },
    {
      "cell_type": "code",
      "source": [
        ""
      ],
      "metadata": {
        "id": "6N0zJHzX2Rvm"
      },
      "execution_count": null,
      "outputs": []
    }
  ]
}