{
  "nbformat": 4,
  "nbformat_minor": 0,
  "metadata": {
    "colab": {
      "name": "como_hacer_un_EDA_p1ipynb",
      "provenance": [],
      "toc_visible": true,
      "authorship_tag": "ABX9TyOiRaB9c0uhHGB1mx7THq4/",
      "include_colab_link": true
    },
    "kernelspec": {
      "name": "python3",
      "display_name": "Python 3"
    },
    "language_info": {
      "name": "python"
    }
  },
  "cells": [
    {
      "cell_type": "markdown",
      "metadata": {
        "id": "view-in-github",
        "colab_type": "text"
      },
      "source": [
        "<a href=\"https://colab.research.google.com/github/ADRIANVM117/proyectos_propios/blob/main/Estadistica/analisis_exploratorio/como_hacer_un_EDA_p1ipynb.ipynb\" target=\"_parent\"><img src=\"https://colab.research.google.com/assets/colab-badge.svg\" alt=\"Open In Colab\"/></a>"
      ]
    },
    {
      "cell_type": "markdown",
      "source": [
        "## Bins \n",
        "- La regla de la raiz cuadrada. Es una tecnica general para obtener el numero de bins a usar dentro de un histograma. "
      ],
      "metadata": {
        "id": "bVw4YzGEEDDq"
      }
    },
    {
      "cell_type": "code",
      "source": [
        "try:\n",
        "    import empiricaldist\n",
        "except ImportError:\n",
        "    !pip install empiricaldist"
      ],
      "metadata": {
        "id": "wQ_823hMyiwR",
        "colab": {
          "base_uri": "https://localhost:8080/"
        },
        "outputId": "9bb892ff-cef9-443d-8cc6-5ec24e1b7cb3"
      },
      "execution_count": null,
      "outputs": [
        {
          "output_type": "stream",
          "name": "stdout",
          "text": [
            "Collecting empiricaldist\n",
            "  Downloading empiricaldist-0.6.3.tar.gz (9.3 kB)\n",
            "Building wheels for collected packages: empiricaldist\n",
            "  Building wheel for empiricaldist (setup.py) ... \u001b[?25l\u001b[?25hdone\n",
            "  Created wheel for empiricaldist: filename=empiricaldist-0.6.3-py3-none-any.whl size=10545 sha256=d07b4084ccc89a5cb813797e89a002103754422e9453ff35118594044395b932\n",
            "  Stored in directory: /root/.cache/pip/wheels/be/4d/30/c131cf1cbb0046f14436cdd7a29f4cc8553d34754e3685d071\n",
            "Successfully built empiricaldist\n",
            "Installing collected packages: empiricaldist\n",
            "Successfully installed empiricaldist-0.6.3\n"
          ]
        }
      ]
    },
    {
      "cell_type": "code",
      "source": [
        "import pandas as pd\n",
        "from sklearn import datasets\n",
        "import numpy as np\n",
        "iris = datasets.load_iris()\n",
        "\n",
        "iris.feature_names\n",
        "\n",
        "df = pd.DataFrame(data= np.c_[iris['data'], iris['target']],\n",
        "                  columns= iris['feature_names'] + ['Species'])\n",
        "\n",
        "df.columns"
      ],
      "metadata": {
        "colab": {
          "base_uri": "https://localhost:8080/"
        },
        "id": "8fqAgpYEFHYB",
        "outputId": "39ee59b3-267c-4a65-8c50-0325109513fd"
      },
      "execution_count": null,
      "outputs": [
        {
          "output_type": "execute_result",
          "data": {
            "text/plain": [
              "Index(['sepal length (cm)', 'sepal width (cm)', 'petal length (cm)',\n",
              "       'petal width (cm)', 'Species'],\n",
              "      dtype='object')"
            ]
          },
          "metadata": {},
          "execution_count": 2
        }
      ]
    },
    {
      "cell_type": "code",
      "source": [
        "df.Species.value_counts()"
      ],
      "metadata": {
        "colab": {
          "base_uri": "https://localhost:8080/"
        },
        "id": "a6BaaszZM6Ic",
        "outputId": "8109d02b-44fa-4813-c531-f5f04e2ac716"
      },
      "execution_count": null,
      "outputs": [
        {
          "output_type": "execute_result",
          "data": {
            "text/plain": [
              "0.0    50\n",
              "1.0    50\n",
              "2.0    50\n",
              "Name: Species, dtype: int64"
            ]
          },
          "metadata": {},
          "execution_count": 3
        }
      ]
    },
    {
      "cell_type": "code",
      "source": [
        "df['Species'].replace(to_replace=0.0, \n",
        "                  value='setosa', inplace=True)\n",
        "df['Species'].replace(to_replace=1.0, \n",
        "                  value='versicolor', inplace=True)\n",
        "df['Species'].replace(to_replace=2.0, \n",
        "                  value='virginica', inplace=True)\n",
        "df.head(3)"
      ],
      "metadata": {
        "colab": {
          "base_uri": "https://localhost:8080/",
          "height": 144
        },
        "id": "VmVLcq8uK_dE",
        "outputId": "85f1ed88-4316-4e6e-8121-9f8fcd25140c"
      },
      "execution_count": null,
      "outputs": [
        {
          "output_type": "execute_result",
          "data": {
            "text/plain": [
              "   sepal length (cm)  sepal width (cm)  petal length (cm)  petal width (cm)  \\\n",
              "0                5.1               3.5                1.4               0.2   \n",
              "1                4.9               3.0                1.4               0.2   \n",
              "2                4.7               3.2                1.3               0.2   \n",
              "\n",
              "  Species  \n",
              "0  setosa  \n",
              "1  setosa  \n",
              "2  setosa  "
            ],
            "text/html": [
              "\n",
              "  <div id=\"df-7a029e40-c5dd-441d-8305-af737c0d8a6e\">\n",
              "    <div class=\"colab-df-container\">\n",
              "      <div>\n",
              "<style scoped>\n",
              "    .dataframe tbody tr th:only-of-type {\n",
              "        vertical-align: middle;\n",
              "    }\n",
              "\n",
              "    .dataframe tbody tr th {\n",
              "        vertical-align: top;\n",
              "    }\n",
              "\n",
              "    .dataframe thead th {\n",
              "        text-align: right;\n",
              "    }\n",
              "</style>\n",
              "<table border=\"1\" class=\"dataframe\">\n",
              "  <thead>\n",
              "    <tr style=\"text-align: right;\">\n",
              "      <th></th>\n",
              "      <th>sepal length (cm)</th>\n",
              "      <th>sepal width (cm)</th>\n",
              "      <th>petal length (cm)</th>\n",
              "      <th>petal width (cm)</th>\n",
              "      <th>Species</th>\n",
              "    </tr>\n",
              "  </thead>\n",
              "  <tbody>\n",
              "    <tr>\n",
              "      <th>0</th>\n",
              "      <td>5.1</td>\n",
              "      <td>3.5</td>\n",
              "      <td>1.4</td>\n",
              "      <td>0.2</td>\n",
              "      <td>setosa</td>\n",
              "    </tr>\n",
              "    <tr>\n",
              "      <th>1</th>\n",
              "      <td>4.9</td>\n",
              "      <td>3.0</td>\n",
              "      <td>1.4</td>\n",
              "      <td>0.2</td>\n",
              "      <td>setosa</td>\n",
              "    </tr>\n",
              "    <tr>\n",
              "      <th>2</th>\n",
              "      <td>4.7</td>\n",
              "      <td>3.2</td>\n",
              "      <td>1.3</td>\n",
              "      <td>0.2</td>\n",
              "      <td>setosa</td>\n",
              "    </tr>\n",
              "  </tbody>\n",
              "</table>\n",
              "</div>\n",
              "      <button class=\"colab-df-convert\" onclick=\"convertToInteractive('df-7a029e40-c5dd-441d-8305-af737c0d8a6e')\"\n",
              "              title=\"Convert this dataframe to an interactive table.\"\n",
              "              style=\"display:none;\">\n",
              "        \n",
              "  <svg xmlns=\"http://www.w3.org/2000/svg\" height=\"24px\"viewBox=\"0 0 24 24\"\n",
              "       width=\"24px\">\n",
              "    <path d=\"M0 0h24v24H0V0z\" fill=\"none\"/>\n",
              "    <path d=\"M18.56 5.44l.94 2.06.94-2.06 2.06-.94-2.06-.94-.94-2.06-.94 2.06-2.06.94zm-11 1L8.5 8.5l.94-2.06 2.06-.94-2.06-.94L8.5 2.5l-.94 2.06-2.06.94zm10 10l.94 2.06.94-2.06 2.06-.94-2.06-.94-.94-2.06-.94 2.06-2.06.94z\"/><path d=\"M17.41 7.96l-1.37-1.37c-.4-.4-.92-.59-1.43-.59-.52 0-1.04.2-1.43.59L10.3 9.45l-7.72 7.72c-.78.78-.78 2.05 0 2.83L4 21.41c.39.39.9.59 1.41.59.51 0 1.02-.2 1.41-.59l7.78-7.78 2.81-2.81c.8-.78.8-2.07 0-2.86zM5.41 20L4 18.59l7.72-7.72 1.47 1.35L5.41 20z\"/>\n",
              "  </svg>\n",
              "      </button>\n",
              "      \n",
              "  <style>\n",
              "    .colab-df-container {\n",
              "      display:flex;\n",
              "      flex-wrap:wrap;\n",
              "      gap: 12px;\n",
              "    }\n",
              "\n",
              "    .colab-df-convert {\n",
              "      background-color: #E8F0FE;\n",
              "      border: none;\n",
              "      border-radius: 50%;\n",
              "      cursor: pointer;\n",
              "      display: none;\n",
              "      fill: #1967D2;\n",
              "      height: 32px;\n",
              "      padding: 0 0 0 0;\n",
              "      width: 32px;\n",
              "    }\n",
              "\n",
              "    .colab-df-convert:hover {\n",
              "      background-color: #E2EBFA;\n",
              "      box-shadow: 0px 1px 2px rgba(60, 64, 67, 0.3), 0px 1px 3px 1px rgba(60, 64, 67, 0.15);\n",
              "      fill: #174EA6;\n",
              "    }\n",
              "\n",
              "    [theme=dark] .colab-df-convert {\n",
              "      background-color: #3B4455;\n",
              "      fill: #D2E3FC;\n",
              "    }\n",
              "\n",
              "    [theme=dark] .colab-df-convert:hover {\n",
              "      background-color: #434B5C;\n",
              "      box-shadow: 0px 1px 3px 1px rgba(0, 0, 0, 0.15);\n",
              "      filter: drop-shadow(0px 1px 2px rgba(0, 0, 0, 0.3));\n",
              "      fill: #FFFFFF;\n",
              "    }\n",
              "  </style>\n",
              "\n",
              "      <script>\n",
              "        const buttonEl =\n",
              "          document.querySelector('#df-7a029e40-c5dd-441d-8305-af737c0d8a6e button.colab-df-convert');\n",
              "        buttonEl.style.display =\n",
              "          google.colab.kernel.accessAllowed ? 'block' : 'none';\n",
              "\n",
              "        async function convertToInteractive(key) {\n",
              "          const element = document.querySelector('#df-7a029e40-c5dd-441d-8305-af737c0d8a6e');\n",
              "          const dataTable =\n",
              "            await google.colab.kernel.invokeFunction('convertToInteractive',\n",
              "                                                     [key], {});\n",
              "          if (!dataTable) return;\n",
              "\n",
              "          const docLinkHtml = 'Like what you see? Visit the ' +\n",
              "            '<a target=\"_blank\" href=https://colab.research.google.com/notebooks/data_table.ipynb>data table notebook</a>'\n",
              "            + ' to learn more about interactive tables.';\n",
              "          element.innerHTML = '';\n",
              "          dataTable['output_type'] = 'display_data';\n",
              "          await google.colab.output.renderOutput(dataTable, element);\n",
              "          const docLink = document.createElement('div');\n",
              "          docLink.innerHTML = docLinkHtml;\n",
              "          element.appendChild(docLink);\n",
              "        }\n",
              "      </script>\n",
              "    </div>\n",
              "  </div>\n",
              "  "
            ]
          },
          "metadata": {},
          "execution_count": 4
        }
      ]
    },
    {
      "cell_type": "code",
      "source": [
        "versicolor_petal_length = df[df['Species'] == 'versicolor']['petal length (cm)']\n",
        "\n",
        "setosa_petal_length = df[df['Species'] == 'setosa']['petal length (cm)']\n",
        "\n",
        "virginica_petal_length = df[df['Species'] == 'virginica']['petal length (cm)']\n",
        "\n",
        "versicolor_petal_width = df[df['Species'] == 'versicolor']['petal width (cm)']"
      ],
      "metadata": {
        "id": "mFmZdvdgGU__"
      },
      "execution_count": null,
      "outputs": []
    },
    {
      "cell_type": "code",
      "source": [
        "virginica_petal_length"
      ],
      "metadata": {
        "colab": {
          "base_uri": "https://localhost:8080/"
        },
        "id": "U7_9yzxabXkV",
        "outputId": "7f287629-94ef-42e6-d125-339b7b394cda"
      },
      "execution_count": null,
      "outputs": [
        {
          "output_type": "execute_result",
          "data": {
            "text/plain": [
              "100    6.0\n",
              "101    5.1\n",
              "102    5.9\n",
              "103    5.6\n",
              "104    5.8\n",
              "105    6.6\n",
              "106    4.5\n",
              "107    6.3\n",
              "108    5.8\n",
              "109    6.1\n",
              "110    5.1\n",
              "111    5.3\n",
              "112    5.5\n",
              "113    5.0\n",
              "114    5.1\n",
              "115    5.3\n",
              "116    5.5\n",
              "117    6.7\n",
              "118    6.9\n",
              "119    5.0\n",
              "120    5.7\n",
              "121    4.9\n",
              "122    6.7\n",
              "123    4.9\n",
              "124    5.7\n",
              "125    6.0\n",
              "126    4.8\n",
              "127    4.9\n",
              "128    5.6\n",
              "129    5.8\n",
              "130    6.1\n",
              "131    6.4\n",
              "132    5.6\n",
              "133    5.1\n",
              "134    5.6\n",
              "135    6.1\n",
              "136    5.6\n",
              "137    5.5\n",
              "138    4.8\n",
              "139    5.4\n",
              "140    5.6\n",
              "141    5.1\n",
              "142    5.1\n",
              "143    5.9\n",
              "144    5.7\n",
              "145    5.2\n",
              "146    5.0\n",
              "147    5.2\n",
              "148    5.4\n",
              "149    5.1\n",
              "Name: petal length (cm), dtype: float64"
            ]
          },
          "metadata": {},
          "execution_count": 6
        }
      ]
    },
    {
      "cell_type": "code",
      "source": [
        "import matplotlib.pyplot as plt \n",
        "\n",
        "# Import numpy\n",
        "import numpy as np\n",
        "\n",
        "# Compute number of data points: n_data\n",
        "n_data = len(versicolor_petal_length)\n",
        "\n",
        "# Number of bins is the square root of number of data points: n_bins\n",
        "n_bins = np.sqrt(n_data)\n",
        "\n",
        "# Convert number of bins to integer: n_bins\n",
        "n_bins = int(n_bins)\n",
        "print('Numero de bins con la regla de la raiz cuadrada : ', n_bins)\n",
        "\n",
        "# Plot the histogram\n",
        "_ = plt.hist(versicolor_petal_length, n_bins)\n",
        "\n",
        "# Label axes\n",
        "_ = plt.xlabel('petal length (cm)')\n",
        "_ = plt.ylabel('count')\n",
        "\n",
        "# Show histogram\n",
        "plt.show()"
      ],
      "metadata": {
        "colab": {
          "base_uri": "https://localhost:8080/",
          "height": 297
        },
        "id": "Z6enfvLjEjyW",
        "outputId": "2b5721f6-9e85-4eb4-e1b8-83c93925bb80"
      },
      "execution_count": null,
      "outputs": [
        {
          "output_type": "stream",
          "name": "stdout",
          "text": [
            "Numero de bins con la regla de la raiz cuadrada :  7\n"
          ]
        },
        {
          "output_type": "display_data",
          "data": {
            "text/plain": [
              "<Figure size 432x288 with 1 Axes>"
            ],
            "image/png": "[encoded data removed]"
          },
          "metadata": {
            "needs_background": "light"
          }
        }
      ]
    },
    {
      "cell_type": "markdown",
      "source": [
        "## Bee Swam Plots \n",
        "- Informacion : https://seaborn.pydata.org/generated/seaborn.swarmplot.html\n",
        "\n",
        "\n",
        "- Grafica de una swamplot :  \n",
        "    - En el eje x: Las variables discretas(las especies de iris)\n",
        "    - En el eje y: el largo del petalo cm "
      ],
      "metadata": {
        "id": "1pu4YJqtG1Hz"
      }
    },
    {
      "cell_type": "code",
      "source": [
        "# Create bee swarm plot with Seaborn's default settings\n",
        "import seaborn as sns\n",
        "plt.figure(figsize = (10,8))\n",
        "sns.swarmplot(x = 'Species', y = 'petal length (cm)', data = df)\n",
        "\n",
        "# Label the axes\n",
        "plt.xlabel('species')\n",
        "plt.ylabel('petal lengths (cm)')\n",
        "\n",
        "# Show the plot\n",
        "plt.show()"
      ],
      "metadata": {
        "colab": {
          "base_uri": "https://localhost:8080/",
          "height": 497
        },
        "id": "baHtT_U2GyaT",
        "outputId": "33636c1d-703b-4f8e-a034-78b434b9c25e"
      },
      "execution_count": null,
      "outputs": [
        {
          "output_type": "display_data",
          "data": {
            "text/plain": [
              "<Figure size 720x576 with 1 Axes>"
            ],
            "image/png": "[encoded data removed]"
          },
          "metadata": {
            "needs_background": "light"
          }
        }
      ]
    },
    {
      "cell_type": "markdown",
      "source": [
        "- El genero virginica tiende a tener unos petalos mas largos de las tres especies, mientras setosa los mas chicos. "
      ],
      "metadata": {
        "id": "JfOfw1hNOlBE"
      }
    },
    {
      "cell_type": "markdown",
      "source": [
        "## ECDF (Empirical Cumulative Distribution Function)\n",
        "\n",
        "Funcion empirica \n",
        ". Informacion : https://hmn.wiki/es/Statistical_distribution#:~:text=En%20estad%C3%ADstica%20%2C%20una%20funci%C3%B3n%20de,medida%20emp%C3%ADrica%20de%20una%20muestra%20.\n"
      ],
      "metadata": {
        "id": "kMwKUNY3SUJU"
      }
    },
    {
      "cell_type": "code",
      "source": [
        "def ecdf(data):\n",
        "    \"\"\"Compute ECDF for a one-dimensional array of measurements.\"\"\"\n",
        "    # Number of data points: n\n",
        "    n = len(data)\n",
        "\n",
        "    # x-data for the ECDF: x\n",
        "    x = np.sort(data)\n",
        "\n",
        "    # y-data for the ECDF: y\n",
        "    y = np.arange(1, len(x) + 1) / n\n",
        "\n",
        "    return x, y"
      ],
      "metadata": {
        "id": "3bfB6P4JNIF8"
      },
      "execution_count": null,
      "outputs": []
    },
    {
      "cell_type": "code",
      "source": [
        "# Compute ECDF for versicolor data: x_vers, y_vers\n",
        "x_vers, y_vers = ecdf(versicolor_petal_length)\n",
        "\n",
        "# Generate plot\n",
        "plt.figure(figsize =(8,6))\n",
        "plt.plot(x_vers, y_vers, marker ='.', linestyle = 'none')\n",
        "\n",
        "# Label the axes\n",
        "_ = plt.ylabel('ECDF')\n",
        "_ = plt.xlabel('LENGTHS')\n",
        "\n",
        "\n",
        "# Display the plot\n",
        "\n",
        "plt.show()\n"
      ],
      "metadata": {
        "colab": {
          "base_uri": "https://localhost:8080/",
          "height": 388
        },
        "id": "axHunwHqNID1",
        "outputId": "86686970-b8f6-4a82-816d-c6dcd583513a"
      },
      "execution_count": null,
      "outputs": [
        {
          "output_type": "display_data",
          "data": {
            "text/plain": [
              "<Figure size 576x432 with 1 Axes>"
            ],
            "image/png": "[encoded data removed]"
          },
          "metadata": {
            "needs_background": "light"
          }
        }
      ]
    },
    {
      "cell_type": "markdown",
      "source": [
        "- Versicolor tiene una variabilidad bastante amplia en el largo de sus petalos "
      ],
      "metadata": {
        "id": "nndkb7NoXYPV"
      }
    },
    {
      "cell_type": "markdown",
      "source": [
        "- ECDF de las 3 especies"
      ],
      "metadata": {
        "id": "_MxCHQFPXlTw"
      }
    },
    {
      "cell_type": "code",
      "source": [
        "# Compute ECDFs\n",
        "\n",
        "x_set, y_set = ecdf(setosa_petal_length)\n",
        "\n",
        "x_vers, y_vers = ecdf(versicolor_petal_length)\n",
        "\n",
        "x_virg, y_virg =  ecdf(virginica_petal_length)\n",
        "\n",
        "\n",
        "\n",
        "# Plot all ECDFs on the same plot\n",
        "sns.set()\n",
        "plt.figure(figsize = (9,7))\n",
        "plt.plot(x_set, y_set, marker ='.', linestyle = 'none')\n",
        "plt.plot(x_vers, y_vers, marker ='.', linestyle = 'none')\n",
        "plt.plot(x_virg, y_virg, marker ='.', linestyle = 'none')\n",
        "\n",
        "# Annotate the plot\n",
        "plt.legend(('setosa', 'versicolor', 'virginica'), loc='lower right')\n",
        "_ = plt.xlabel('petal length (cm)')\n",
        "_ = plt.ylabel('ECDF')\n",
        "\n",
        "# Display the plot\n",
        "plt.show()"
      ],
      "metadata": {
        "colab": {
          "base_uri": "https://localhost:8080/",
          "height": 448
        },
        "id": "zVQh8xF7NIBs",
        "outputId": "414d0f01-80ee-420d-a116-93ba2c18004e"
      },
      "execution_count": null,
      "outputs": [
        {
          "output_type": "display_data",
          "data": {
            "text/plain": [
              "<Figure size 648x504 with 1 Axes>"
            ],
            "image/png": "[encoded data removed]"
          },
          "metadata": {}
        }
      ]
    },
    {
      "cell_type": "markdown",
      "source": [
        "## Media \n",
        "\n",
        "- Valor promedio de un conjunto de datos"
      ],
      "metadata": {
        "id": "lK89Uck8XNHn"
      }
    },
    {
      "cell_type": "code",
      "source": [
        "# Compute the mean: mean_length_vers\n",
        "mean_length_vers =  np.mean(versicolor_petal_length)\n",
        "\n",
        "# Print the result with some nice formatting\n",
        "print('I. versicolor:', mean_length_vers, 'cm')"
      ],
      "metadata": {
        "id": "qlX0GDq0NH_Y",
        "colab": {
          "base_uri": "https://localhost:8080/"
        },
        "outputId": "20bf1d13-1923-4334-9c3e-1ae7d35ec087"
      },
      "execution_count": null,
      "outputs": [
        {
          "output_type": "stream",
          "name": "stdout",
          "text": [
            "I. versicolor: 4.26 cm\n"
          ]
        }
      ]
    },
    {
      "cell_type": "markdown",
      "source": [
        "## Percentiles\n",
        "- Esta medida de posición no central aporta información sobre el porcentaje de observaciones de una variable, ordenados de menor a mayor, que se sitúan por debajo del valor de este."
      ],
      "metadata": {
        "id": "jhce_T9zZlUP"
      }
    },
    {
      "cell_type": "code",
      "source": [
        "# Specify array of percentiles: percentiles\n",
        "percentiles =np.array([2.5,25,50,75,97.5])\n",
        "\n",
        "# Compute percentiles: ptiles_vers\n",
        "ptiles_vers = np.percentile(versicolor_petal_length, percentiles)\n",
        "\n",
        "# Print the result\n",
        "print(ptiles_vers)"
      ],
      "metadata": {
        "id": "1ACrb1p7NH8y",
        "colab": {
          "base_uri": "https://localhost:8080/"
        },
        "outputId": "9cd5c72e-1a1b-437a-a35a-e6ff3d17b995"
      },
      "execution_count": null,
      "outputs": [
        {
          "output_type": "stream",
          "name": "stdout",
          "text": [
            "[3.3    4.     4.35   4.6    4.9775]\n"
          ]
        }
      ]
    },
    {
      "cell_type": "markdown",
      "source": [
        "## comparando ECDF VS Percentiles"
      ],
      "metadata": {
        "id": "6jYWDDc3aUJw"
      }
    },
    {
      "cell_type": "code",
      "source": [
        "# Plot the ECDF\n",
        "sns.set()\n",
        "_ = plt.plot(x_vers, y_vers, '.')\n",
        "_ = plt.xlabel('petal length (cm)')\n",
        "_ = plt.ylabel('ECDF')\n",
        "\n",
        "# Overlay percentiles as red diamonds.\n",
        "_ = plt.plot(ptiles_vers, percentiles/100, marker='D', color='red', linestyle='none')\n",
        "\n",
        "# Show the plot\n",
        "plt.show()"
      ],
      "metadata": {
        "id": "85DR_0VXGyXh",
        "colab": {
          "base_uri": "https://localhost:8080/",
          "height": 285
        },
        "outputId": "fcef5b2f-5541-4457-dc05-df986da3cf14"
      },
      "execution_count": null,
      "outputs": [
        {
          "output_type": "display_data",
          "data": {
            "text/plain": [
              "<Figure size 432x288 with 1 Axes>"
            ],
            "image/png": "[encoded data removed]"
          },
          "metadata": {}
        }
      ]
    },
    {
      "cell_type": "markdown",
      "source": [
        "## Box plot "
      ],
      "metadata": {
        "id": "IbAKh-fJa3bf"
      }
    },
    {
      "cell_type": "code",
      "source": [
        "# Create box plot with Seaborn's default settings\n",
        "plt.figure(figsize = (10,8))\n",
        "sns.set()\n",
        "sns.boxplot(x = 'Species', y = 'petal length (cm)', data = df )\n",
        "\n",
        "# Label the axes\n",
        "_ = plt.xlabel('species')\n",
        "_ = plt.ylabel('petal length (cm)')\n",
        "\n",
        "# Show the plot\n",
        "plt.show()"
      ],
      "metadata": {
        "colab": {
          "base_uri": "https://localhost:8080/",
          "height": 502
        },
        "id": "Ava7LchxaaIt",
        "outputId": "3bb57eee-3b2e-4949-bf9d-cd053a1eb01c"
      },
      "execution_count": null,
      "outputs": [
        {
          "output_type": "display_data",
          "data": {
            "text/plain": [
              "<Figure size 720x576 with 1 Axes>"
            ],
            "image/png": "[encoded data removed]"
          },
          "metadata": {}
        }
      ]
    },
    {
      "cell_type": "markdown",
      "source": [
        "## Varianza\n",
        "- La varianza es una medida de dispersión que representa la variabilidad de una serie de datos respecto a su media.\n",
        "\n",
        "## Desviacion estandar\n",
        "- La desviación estándar es la medida de dispersión más común, que indica qué tan dispersos están los datos con respecto a la media. "
      ],
      "metadata": {
        "id": "wT62C8TEbckk"
      }
    },
    {
      "cell_type": "code",
      "source": [
        "# Compute the variance using NumPy: variance_np\n",
        "variance_np = np.var(versicolor_petal_length)\n",
        "print('Varianza  : \\t{:.3f}'.format( variance_np))\n",
        "\n",
        "desv_np = np.std(versicolor_petal_length)\n",
        "print('Desviación est.  : \\t{:.3f}'.format( desv_np))"
      ],
      "metadata": {
        "colab": {
          "base_uri": "https://localhost:8080/"
        },
        "id": "_OIDb9pgaaL9",
        "outputId": "b2c60477-964d-4cbf-9240-f22ee68b1235"
      },
      "execution_count": null,
      "outputs": [
        {
          "output_type": "stream",
          "name": "stdout",
          "text": [
            "Varianza  : \t0.216\n",
            "Desviación est.  : \t0.465\n"
          ]
        }
      ]
    },
    {
      "cell_type": "markdown",
      "source": [
        "## Scatterplot \n",
        "- Comparar dos propiedades y su relación "
      ],
      "metadata": {
        "id": "HvTvIaINe1fg"
      }
    },
    {
      "cell_type": "code",
      "source": [
        "# Make a scatter plot\n",
        "sns.set()\n",
        "_ = plt.plot(versicolor_petal_length, versicolor_petal_width, marker = '.', linestyle = 'none')\n",
        "\n",
        "\n",
        "# Label the axes\n",
        "_ = plt.xlabel('versicolor petal length')\n",
        "_ = plt.ylabel(' versicolor petal width')\n",
        "\n",
        "\n",
        "# Show the result\n",
        "plt.show()"
      ],
      "metadata": {
        "colab": {
          "base_uri": "https://localhost:8080/",
          "height": 285
        },
        "id": "8eh7fMXte1Ow",
        "outputId": "b145ef3d-09aa-4245-bcd6-13630409b237"
      },
      "execution_count": null,
      "outputs": [
        {
          "output_type": "display_data",
          "data": {
            "text/plain": [
              "<Figure size 432x288 with 1 Axes>"
            ],
            "image/png": "[encoded data removed]"
          },
          "metadata": {}
        }
      ]
    },
    {
      "cell_type": "markdown",
      "source": [
        "- Podemos ver una correlació  mientras mas largo sea el petalo, mas ancho sera. "
      ],
      "metadata": {
        "id": "s37rJYVsgNC7"
      }
    },
    {
      "cell_type": "markdown",
      "source": [
        "## Covarianza \n",
        "- La covarianza es el valor que refleja en qué cuantía dos variables aleatorias varían de forma conjunta respecto a sus medias.\n",
        "- Nos permite saber cómo se comporta una variable en función de lo que hace otra variable. Es decir, cuando X sube ¿Cómo se comporta Y? \n",
        "\n",
        "### $Cov(X, Y)  = \\frac{\\sum_{i}(X_{i} - \\bar{x} )(Y_{i} - \\bar{y})}{n} $"
      ],
      "metadata": {
        "id": "DH8PBmrQdIz4"
      }
    },
    {
      "cell_type": "markdown",
      "source": [
        "<b> NOTA </b>\n",
        "np.cov siempre arroja una matriz 2x2  donde (0,1) y (1,0) esta la covarianza y en (0,0) la varianza de x y (1,1) la varianza de y "
      ],
      "metadata": {
        "id": "bSDwQzVAhUQU"
      }
    },
    {
      "cell_type": "code",
      "source": [
        "# calculando covarianza entre el largo y el ancho del petalo \n",
        "\n",
        "# Compute the covariance matrix: covariance_matrix\n",
        "\n",
        "covariance_matrix =  np.cov(versicolor_petal_length, versicolor_petal_width)\n",
        "# Print covariance matrix\n",
        "print(covariance_matrix)\n",
        "\n",
        "# Extract covariance of length and width of petals: petal_cov\n",
        "\n",
        "petal_cov = covariance_matrix[0,1]\n",
        "\n",
        "# Print the length/width covariance\n",
        "\n",
        "print(petal_cov)"
      ],
      "metadata": {
        "colab": {
          "base_uri": "https://localhost:8080/"
        },
        "id": "o0RvSvX8cst6",
        "outputId": "3a33ce5b-56bd-47fa-b909-19fb270a812c"
      },
      "execution_count": null,
      "outputs": [
        {
          "output_type": "stream",
          "name": "stdout",
          "text": [
            "[[0.22081633 0.07310204]\n",
            " [0.07310204 0.03910612]]\n",
            "0.07310204081632653\n"
          ]
        }
      ]
    },
    {
      "cell_type": "markdown",
      "source": [
        "# Probabilidad\n",
        "\n",
        "- Estadistica inferencial: \n",
        "sirve para crear conclusiones atraves de la probabilidad sobre que podemos llegar a esperar si recolectamos los mismos tamaños de datos n veces. "
      ],
      "metadata": {
        "id": "tUoTS1xLkBj7"
      }
    },
    {
      "cell_type": "markdown",
      "source": [
        "## Generando numeros aleatorios con np.random module \n",
        "\n",
        "- Ejercicio: generar numeros aleatorios entre 0 y 1 y graficarlo. si los  numeros son realmente aleatorios, todas las barras en el histograma deben ser similares\n",
        "\n",
        "- numpy.random.random():\n",
        "    - Genera un número aleatorio ya que no se especifica ningún tamaño para el conjunto de salida. El rango del número de salida generado se encuentra entre 0 y 1.Puedes obtener diferentes números aleatorios cuando ejecutas el mismo código varias veces. Para generar la salida constante, fijamos la seed de la función np.random().\n"
      ],
      "metadata": {
        "id": "hRCiEQ4Fi8Oo"
      }
    },
    {
      "cell_type": "code",
      "source": [
        "# Seed the random number generator\n",
        "np.random.seed(42)\n",
        "\n",
        "# Initialize random numbers: random_numbers\n",
        "random_numbers = np.empty(100000)\n",
        "# Generate random numbers by looping over range(100000)\n",
        "for i in range(100000):\n",
        "    random_numbers[i] = np.random.random()\n",
        "\n",
        "# Plot a histogram\n",
        "sns.set()\n",
        "plt.figure(figsize =(10,8))\n",
        "_ = plt.hist(random_numbers)\n",
        "\n",
        "# Show the plot\n",
        "plt.show()\n"
      ],
      "metadata": {
        "id": "zuAP6bfwcsw7",
        "colab": {
          "base_uri": "https://localhost:8080/",
          "height": 485
        },
        "outputId": "ae5dfd59-dd9f-4e44-dab1-094d963da858"
      },
      "execution_count": null,
      "outputs": [
        {
          "output_type": "display_data",
          "data": {
            "text/plain": [
              "<Figure size 720x576 with 1 Axes>"
            ],
            "image/png": "[encoded data removed]"
          },
          "metadata": {}
        }
      ]
    },
    {
      "cell_type": "markdown",
      "source": [
        ""
      ],
      "metadata": {
        "id": "dMu57VUBolQH"
      }
    },
    {
      "cell_type": "markdown",
      "source": [
        "### Experimento de bernoulli \n",
        "- Lanzamiento de moneda "
      ],
      "metadata": {
        "id": "M5RzTBDAof3u"
      }
    },
    {
      "cell_type": "code",
      "source": [
        "def perform_bernoulli_trials(n, p):\n",
        "    \"\"\"Perform n Bernoulli trials with success probability p\n",
        "    and return number of successes.\"\"\"\n",
        "    # Initialize number of successes: n_success\n",
        "    n_success = 0\n",
        "\n",
        "    # Perform trials\n",
        "    for i in range(n):\n",
        "        # Choose random number between zero and one: random_number\n",
        "        random_number = np.random.random()\n",
        "\n",
        "        # If less than p, it's a success  so add one to n_success\n",
        "        if random_number < p:\n",
        "            n_success += 1\n",
        "\n",
        "    return n_success"
      ],
      "metadata": {
        "id": "Pac_2m8loedb"
      },
      "execution_count": null,
      "outputs": []
    },
    {
      "cell_type": "markdown",
      "source": [
        "### Ejercicio. \n",
        "- Un banco concede 100 prestamos hipotecarios. Es posible que entre 0 y 100 de los prestamos sean impagados. Se sabe que la probabilidad de impago es de p = .05 \n",
        "\n",
        "-  Para investigar esto, harás una simulación. Realizarás 100 ensayos Bernoulli utilizando la función perform_bernoulli_trials() que escribiste en el ejercicio anterior y registrarás cuántos incumplimientos obtenemos. Aquí, un éxito es un defecto. (Recuerde que la palabra \"éxito\" sólo significa que el ensayo Bernoulli se evalúa como Verdadero, es decir, ¿el destinatario del préstamo incumplió?) Se hará esto para otros 100 ensayos de Bernoulli. Y una y otra vez hasta que lo hayamos probado 1000 veces. A continuación, trazarás un histograma que describa la probabilidad del número de impagos.\n"
      ],
      "metadata": {
        "id": "x1dAJSjTqtGn"
      }
    },
    {
      "cell_type": "code",
      "source": [
        "# Seed random number generator\n",
        "np.random.seed(42)\n",
        "\n",
        "# Initialize the number of defaults: n_defaults\n",
        "n_defaults = np.empty(1000)\n",
        "\n",
        "# Compute the number of defaults\n",
        "for i in  range(1000):\n",
        "    n_defaults[i] = perform_bernoulli_trials(100, .05)\n",
        "\n",
        "\n",
        "# Plot the histogram with default number of bins; label your axes\n",
        "sns.set()\n",
        "plt.figure(figsize = (10,8))\n",
        "_ = plt.hist(n_defaults, density = True)\n",
        "_ = plt.xlabel('number of defaults out of 100 loans')\n",
        "_ = plt.ylabel('probability')\n",
        "\n",
        "# Show the plot\n",
        "plt.show()\n"
      ],
      "metadata": {
        "id": "GrWEdOJ_cs0Q",
        "colab": {
          "base_uri": "https://localhost:8080/",
          "height": 502
        },
        "outputId": "e148b1cd-86c4-4912-865a-1e3d8846f901"
      },
      "execution_count": null,
      "outputs": [
        {
          "output_type": "display_data",
          "data": {
            "text/plain": [
              "<Figure size 720x576 with 1 Axes>"
            ],
            "image/png": "[encoded data removed]"
          },
          "metadata": {}
        }
      ]
    },
    {
      "cell_type": "markdown",
      "source": [
        "<b> ¿Fracasara el banco? </b>\n",
        "\n",
        "Un histograma como el usado anteriormente no nos dice mucho, para ello usaremos una ecdf\n",
        "\n",
        "Si los tipos de interés son tales que el banco perderá dinero si 10 o más de sus préstamos son impagados, ¿cuál es la probabilidad de que el banco pierda dinero?"
      ],
      "metadata": {
        "id": "-G3KQ92-u57h"
      }
    },
    {
      "cell_type": "code",
      "source": [
        "# Compute ECDF: x, y\n",
        "x_a, y = ecdf(n_defaults)\n",
        "\n",
        "# Plot the CDF with labeled axes\n",
        "_ = plt.plot(x_a, y, marker='.', linestyle='none')\n",
        "_ = plt.xlabel('number of defaults out of 100')\n",
        "_ = plt.ylabel('CDF')\n",
        "\n",
        "# Show the plot\n",
        "plt.show()\n",
        "\n",
        "# Compute the number of 100-loan simulations with 10 or more defaults: n_lose_money\n",
        "n_lose_money = np.sum(n_defaults >= 10)\n",
        "\n",
        "# Compute and print probability of losing money\n",
        "print('Probability of losing money =', n_lose_money / len(n_defaults))"
      ],
      "metadata": {
        "id": "cwxNSyUbcs5W",
        "colab": {
          "base_uri": "https://localhost:8080/",
          "height": 304
        },
        "outputId": "c3946016-0192-4ef5-fa7c-7cdf6052c396"
      },
      "execution_count": null,
      "outputs": [
        {
          "output_type": "display_data",
          "data": {
            "text/plain": [
              "<Figure size 432x288 with 1 Axes>"
            ],
            "image/png": "[encoded data removed]"
          },
          "metadata": {}
        },
        {
          "output_type": "stream",
          "name": "stdout",
          "text": [
            "Probability of losing money = 0.022\n"
          ]
        }
      ]
    },
    {
      "cell_type": "markdown",
      "source": [
        "Como es de esperar, lo más probable es que se produzcan 5/100 impagos. \n",
        "quiere decir que dentro de un grupo de 100 prestamos hay una probabilidad del 60% de que 5 sean impagados o menos. \n",
        "\n",
        "Tambien tenemos un 2% de posibilidades de obtener 10 o más impagos de cada 100 préstamos."
      ],
      "metadata": {
        "id": "bIhzwoqvwZuc"
      }
    },
    {
      "cell_type": "code",
      "source": [
        "from empiricaldist import Cdf\n",
        "age = x_a\n",
        "\n",
        "cdf_age = Cdf.from_seq(age)\n",
        "\n",
        "print(cdf_age[5])"
      ],
      "metadata": {
        "colab": {
          "base_uri": "https://localhost:8080/"
        },
        "id": "bIiDc_T6xsL9",
        "outputId": "1545748c-dfb4-4824-907f-3d0ef401e045"
      },
      "execution_count": null,
      "outputs": [
        {
          "output_type": "stream",
          "name": "stdout",
          "text": [
            "0.595\n"
          ]
        }
      ]
    },
    {
      "cell_type": "markdown",
      "source": [
        "### Hacemos lo mismo pero usando una distribución binomial y ahora con una muestra de 10000  y graficamos el cdf "
      ],
      "metadata": {
        "id": "ZbwWLixqqlS4"
      }
    },
    {
      "cell_type": "code",
      "source": [
        "# Take 10,000 samples out of the binomial distribution: n_defaults\n",
        "n_defaults_s = np.random.binomial(100, 0.05, size = 10000)\n",
        "\n",
        "# Compute CDF: x, y\n",
        "x, y = ecdf(n_defaults)\n",
        "\n",
        "# Plot the CDF with axis labels\n",
        "sns.set()\n",
        "plt.figure(figsize = (10,8))\n",
        "plt.plot(x, y, marker = '.', linestyle = 'none')\n",
        "_ = plt.xlabel('')\n",
        "_ = plt.ylabel('o')\n",
        "\n",
        "# Show the plot\n",
        "plt.show()\n"
      ],
      "metadata": {
        "id": "Eix6I11zGx9J",
        "colab": {
          "base_uri": "https://localhost:8080/",
          "height": 485
        },
        "outputId": "2a164b59-4437-49a0-ec29-7e5f666ff264"
      },
      "execution_count": null,
      "outputs": [
        {
          "output_type": "display_data",
          "data": {
            "text/plain": [
              "<Figure size 720x576 with 1 Axes>"
            ],
            "image/png": "[encoded data removed]"
          },
          "metadata": {}
        }
      ]
    },
    {
      "cell_type": "markdown",
      "source": [
        "### Graficando la PMF de la binomial \n",
        "\n",
        "- El truco consiste en configurar los bordes de los intervalos para pasarlos a plt.hist() mediante el argumento de la palabra clave bins. Queremos que los bins estén centrados en los enteros. Por lo tanto, los bordes de los intervalos deben ser -0,5, 0,5, 1,5, 2,5, ... hasta max(n_defaults) + 1,5 y luego restar .5 a la matriz"
      ],
      "metadata": {
        "id": "4FcKqRxesRjn"
      }
    },
    {
      "cell_type": "code",
      "source": [
        "# Compute bin edges: bins\n",
        "bins = np.arange(0, max(n_defaults_s) + 1.5) - 0.5\n",
        "\n",
        "# Generate histogram\n",
        "_ = plt.hist(n_defaults, density = True, bins = bins)\n",
        "\n",
        "# Label axes\n",
        "_ = plt.xlabel(' x')\n",
        "_ = plt.ylabel('y')\n",
        "\n",
        "# Show the plot\n",
        "plt.show()"
      ],
      "metadata": {
        "colab": {
          "base_uri": "https://localhost:8080/",
          "height": 285
        },
        "id": "0MBm07ztrW9h",
        "outputId": "fd3e9ef4-6b65-4dae-cb70-68c195e66f86"
      },
      "execution_count": null,
      "outputs": [
        {
          "output_type": "display_data",
          "data": {
            "text/plain": [
              "<Figure size 432x288 with 1 Axes>"
            ],
            "image/png": "[encoded data removed]"
          },
          "metadata": {}
        }
      ]
    },
    {
      "cell_type": "markdown",
      "source": [
        "## Poisson distribución \n",
        "- Una distribución de poisson es el limite de una distribución binomial para eventos atipicos \n",
        "\n",
        "\n",
        "- Ejercicio. \n",
        "\n",
        "en 1990 y en 2015 se produjeron la mayor cantidad de no-hitters de cualquier temporada de baseball (hubo 7). Dado que hay una media de 251/115 de no-hitters por temporada. \n",
        "¿Cual es la temporada de obtener 7 o mas en una temporada?\n"
      ],
      "metadata": {
        "id": "-9sFGk2oyDb1"
      }
    },
    {
      "cell_type": "code",
      "source": [
        "# Draw 10,000 samples out of Poisson distribution: n_nohitters\n",
        "n_nohitters = np.random.poisson(251/115, size = 10000)\n",
        "print(n_nohitters)\n",
        "# Compute number of samples that are seven or greater: n_large\n",
        "n_large = np.sum(n_nohitters >= 7)\n",
        "print(n_large)\n",
        "# Compute probability of getting seven or more: p_large\n",
        "\n",
        "p_large = n_large/10000\n",
        "\n",
        "# Print the result\n",
        "print('Probability of seven or more no-hitters: \\t{:.2f} % '.format((100 *p_large)))\n",
        "\n"
      ],
      "metadata": {
        "id": "ThcKVv4lrXAh",
        "colab": {
          "base_uri": "https://localhost:8080/"
        },
        "outputId": "eb251bc2-d237-48fc-8286-82883e6416c2"
      },
      "execution_count": null,
      "outputs": [
        {
          "output_type": "stream",
          "name": "stdout",
          "text": [
            "[0 0 2 ... 2 3 2]\n",
            "60\n",
            "Probability of seven or more no-hitters: \t0.60 % \n"
          ]
        }
      ]
    },
    {
      "cell_type": "markdown",
      "source": [
        "## Distribución normal.\n",
        "- https://www.matematicasonline.es/BachilleratoCCSS/segundo/archivos/distribucion_normal/DISTRIBUCION%20NORMAL.htm"
      ],
      "metadata": {
        "id": "wIAoe8G5he_1"
      }
    },
    {
      "cell_type": "markdown",
      "source": [
        "### PDF (Probability Density Function)\n",
        "\n",
        "<b> EJERCICIO </b>\n",
        "\n",
        "- Extraiga 100.000 muestras de una distribución normal con una media de 20 y una desviación estándar de 1. Haga lo mismo con distribuciones normales con desviaciones estándar de 3 y 10, cada una de ellas con una media de 20. Asigna los resultados a samples_std1, samples_std3 y samples_std10, respectivamente.\n",
        "\n",
        "- Trace un histograma de cada una de las muestras; para cada una, utilice 100 intervalos, utilizando también los argumentos de palabra clave normed=True e histtype='step'. El último argumento de palabra clave hace que el gráfico se parezca mucho a la PDF teórica suave. Necesitará hacer 3 llamadas a plt.hist().\n",
        "\n"
      ],
      "metadata": {
        "id": "yGdz1C72kTAk"
      }
    },
    {
      "cell_type": "code",
      "source": [
        "# Draw 100000 samples from Normal distribution with stds of interest: samples_std1, samples_std3, samples_std10\n",
        "samples_std1 = np.random.normal(20, 1, size = 100000)\n",
        "samples_std3 = np.random.normal(20, 3, size = 100000)\n",
        "samples_std10 = np.random.normal(20, 10, size = 100000)\n",
        "\n",
        "# Make histograms\n",
        "sns.set()\n",
        "plt.figure(figsize = (10,8))\n",
        "_ = plt.hist(samples_std1, bins = 100, density = True, histtype = 'step')\n",
        "_ = plt.hist(samples_std3, bins = 100, density = True, histtype = 'step') \n",
        "_ = plt.hist(samples_std10, bins = 100, density = True, histtype = 'step')\n",
        "\n",
        "\n",
        "# Make a legend, set limits and show plot\n",
        "_ = plt.legend(('std = 1', 'std = 3', 'std = 10'))\n",
        "plt.ylim(-0.01, 0.42)\n",
        "plt.show()\n"
      ],
      "metadata": {
        "id": "gRBX7AVDrXDZ",
        "colab": {
          "base_uri": "https://localhost:8080/",
          "height": 485
        },
        "outputId": "16b33915-34c9-4ac9-d942-e16604060b1e"
      },
      "execution_count": null,
      "outputs": [
        {
          "output_type": "display_data",
          "data": {
            "text/plain": [
              "<Figure size 720x576 with 1 Axes>"
            ],
            "image/png": "[encoded data removed]"
          },
          "metadata": {}
        }
      ]
    },
    {
      "cell_type": "markdown",
      "source": [
        "- La desviación es una medida de disperción de datos. \n",
        "- que tan lejos se encuentran de la media \n",
        "- mientras mas alta sea la desv. el pico se reduce"
      ],
      "metadata": {
        "id": "oOzddof9mfeo"
      }
    },
    {
      "cell_type": "markdown",
      "source": [
        "### CDF de una normal \n",
        "\n",
        "- Graficamos los CDFs de las anteriores distribuciónes "
      ],
      "metadata": {
        "id": "pGB6JAoWm45T"
      }
    },
    {
      "cell_type": "code",
      "source": [
        "# Generate CDFs\n",
        "\n",
        "x_std1, y_std1  = ecdf(samples_std1)\n",
        "x_std3, y_std3  = ecdf(samples_std3)\n",
        "x_std10, y_std10  = ecdf(samples_std10)\n",
        "\n",
        "# Plot CDFs\n",
        "sns.set()\n",
        "plt.figure(figsize = (10,8))\n",
        "_ = plt.plot(x_std1, y_std1, marker = '.', linestyle = 'none')\n",
        "_ = plt.plot(x_std3, y_std3, marker = '.', linestyle = 'none')\n",
        "_ = plt.plot(x_std10, y_std10, marker = '.', linestyle = 'none')\n",
        "\n",
        "\n",
        "# Make a legend and show the plot\n",
        "_ = plt.legend(('std = 1', 'std = 3', 'std = 10'), loc='lower right')\n",
        "plt.show()\n"
      ],
      "metadata": {
        "id": "N2e81DGErXF_",
        "colab": {
          "base_uri": "https://localhost:8080/",
          "height": 485
        },
        "outputId": "0044ac17-e3bb-43a3-b2c5-70f7a9667370"
      },
      "execution_count": null,
      "outputs": [
        {
          "output_type": "display_data",
          "data": {
            "text/plain": [
              "<Figure size 720x576 with 1 Axes>"
            ],
            "image/png": "[encoded data removed]"
          },
          "metadata": {}
        }
      ]
    },
    {
      "cell_type": "markdown",
      "source": [
        "<b> EJERCICIO </b>\n",
        "\n",
        "- ¿Se distribuyen normalmente los resultados de los Belmont Stakes?\n",
        "\n",
        "- Desde 1926, los Belmont Stakes son una carrera de 1,5 millas de caballos purasangre de 3 años. Secretariat corrió el Belmont Stakes más rápido de la historia en 1973. Mientras que ese fue el año más rápido, 1970 fue el más lento debido a unas condiciones inusualmente húmedas y descuidadas. \n",
        "- Una vez eliminados estos dos valores atípicos del conjunto de datos, calcula la media y la desviación estándar de los tiempos de los ganadores del Belmont. Tome una muestra de una distribución normal con esta media y desviación estándar utilizando la función np.random.normal() y trace una CDF. Superponga la ECDF de los tiempos de los ganadores del Belmont. ¿Están cerca de la distribución normal?"
      ],
      "metadata": {
        "id": "ddeaoXU6v9p7"
      }
    },
    {
      "cell_type": "code",
      "source": [
        "belmont_no_outliers = [148.51, 146.65, 148.52, 150.7 , 150.42, 150.88, 151.57, 147.54,\n",
        "       149.65, 148.74, 147.86, 148.75, 147.5 , 148.26, 149.71, 146.56,\n",
        "       151.19, 147.88, 149.16, 148.82, 148.96, 152.02, 146.82, 149.97,\n",
        "       146.13, 148.1 , 147.2 , 146.  , 146.4 , 148.2 , 149.8 , 147.  ,\n",
        "       147.2 , 147.8 , 148.2 , 149.  , 149.8 , 148.6 , 146.8 , 149.6 ,\n",
        "       149.  , 148.2 , 149.2 , 148.  , 150.4 , 148.8 , 147.2 , 148.8 ,\n",
        "       149.6 , 148.4 , 148.4 , 150.2 , 148.8 , 149.2 , 149.2 , 148.4 ,\n",
        "       150.2 , 146.6 , 149.8 , 149.  , 150.8 , 148.6 , 150.2 , 149.  ,\n",
        "       148.6 , 150.2 , 148.2 , 149.4 , 150.8 , 150.2 , 152.2 , 148.2 ,\n",
        "       149.2 , 151.  , 149.6 , 149.6 , 149.4 , 148.6 , 150.  , 150.6 ,\n",
        "       149.2 , 152.6 , 152.8 , 149.6 , 151.6 , 152.8 , 153.2 , 152.4 ,\n",
        "       152.2 ]\n",
        "\n",
        "np.array(belmont_no_outliers)       "
      ],
      "metadata": {
        "colab": {
          "base_uri": "https://localhost:8080/"
        },
        "id": "gZoYQkb12zKo",
        "outputId": "b635f934-37ec-4b44-c7ae-46b00d375e05"
      },
      "execution_count": 82,
      "outputs": [
        {
          "output_type": "execute_result",
          "data": {
            "text/plain": [
              "array([148.51, 146.65, 148.52, 150.7 , 150.42, 150.88, 151.57, 147.54,\n",
              "       149.65, 148.74, 147.86, 148.75, 147.5 , 148.26, 149.71, 146.56,\n",
              "       151.19, 147.88, 149.16, 148.82, 148.96, 152.02, 146.82, 149.97,\n",
              "       146.13, 148.1 , 147.2 , 146.  , 146.4 , 148.2 , 149.8 , 147.  ,\n",
              "       147.2 , 147.8 , 148.2 , 149.  , 149.8 , 148.6 , 146.8 , 149.6 ,\n",
              "       149.  , 148.2 , 149.2 , 148.  , 150.4 , 148.8 , 147.2 , 148.8 ,\n",
              "       149.6 , 148.4 , 148.4 , 150.2 , 148.8 , 149.2 , 149.2 , 148.4 ,\n",
              "       150.2 , 146.6 , 149.8 , 149.  , 150.8 , 148.6 , 150.2 , 149.  ,\n",
              "       148.6 , 150.2 , 148.2 , 149.4 , 150.8 , 150.2 , 152.2 , 148.2 ,\n",
              "       149.2 , 151.  , 149.6 , 149.6 , 149.4 , 148.6 , 150.  , 150.6 ,\n",
              "       149.2 , 152.6 , 152.8 , 149.6 , 151.6 , 152.8 , 153.2 , 152.4 ,\n",
              "       152.2 ])"
            ]
          },
          "metadata": {},
          "execution_count": 82
        }
      ]
    },
    {
      "cell_type": "code",
      "source": [
        "mu = np.mean(belmont_no_outliers)\n",
        "sigma = np.std(belmont_no_outliers)\n",
        "print(belmont_no_outliers)\n",
        "# Sample out of a normal distribution with this mu and sigma: samples\n",
        "samples = np.random.normal(mu, sigma, size = 10000)\n",
        "\n",
        "# Get the CDF of the samples and of the data\n",
        "x_theor, y_theor = ecdf(samples)\n",
        "x, y = ecdf(belmont_no_outliers)\n",
        "\n",
        "# Plot the CDFs and show the plot\n",
        "sns.set()\n",
        "plt.figure(figsize = (10,8))\n",
        "_ = plt.plot(x_theor, y_theor)\n",
        "_ = plt.plot(x, y, marker='.', linestyle='none')\n",
        "_ = plt.xlabel('Belmont winning time (sec.)')\n",
        "_ = plt.ylabel('CDF')\n",
        "plt.show()\n"
      ],
      "metadata": {
        "colab": {
          "base_uri": "https://localhost:8080/",
          "height": 540
        },
        "id": "bmMqHJ36nsRR",
        "outputId": "bbebcd92-28a8-481c-ad28-cd7e40ffa48d"
      },
      "execution_count": 85,
      "outputs": [
        {
          "output_type": "stream",
          "name": "stdout",
          "text": [
            "[148.51, 146.65, 148.52, 150.7, 150.42, 150.88, 151.57, 147.54, 149.65, 148.74, 147.86, 148.75, 147.5, 148.26, 149.71, 146.56, 151.19, 147.88, 149.16, 148.82, 148.96, 152.02, 146.82, 149.97, 146.13, 148.1, 147.2, 146.0, 146.4, 148.2, 149.8, 147.0, 147.2, 147.8, 148.2, 149.0, 149.8, 148.6, 146.8, 149.6, 149.0, 148.2, 149.2, 148.0, 150.4, 148.8, 147.2, 148.8, 149.6, 148.4, 148.4, 150.2, 148.8, 149.2, 149.2, 148.4, 150.2, 146.6, 149.8, 149.0, 150.8, 148.6, 150.2, 149.0, 148.6, 150.2, 148.2, 149.4, 150.8, 150.2, 152.2, 148.2, 149.2, 151.0, 149.6, 149.6, 149.4, 148.6, 150.0, 150.6, 149.2, 152.6, 152.8, 149.6, 151.6, 152.8, 153.2, 152.4, 152.2]\n"
          ]
        },
        {
          "output_type": "display_data",
          "data": {
            "text/plain": [
              "<Figure size 720x576 with 1 Axes>"
            ],
            "image/png": "[encoded data removed]"
          },
          "metadata": {}
        }
      ]
    },
    {
      "cell_type": "markdown",
      "source": [
        "La CDF teórica y la ECDF de los datos sugieren que los tiempos de los ganadores de Belmont están, efectivamente, distribuidos normalmente"
      ],
      "metadata": {
        "id": "TTGSnov335az"
      }
    },
    {
      "cell_type": "markdown",
      "source": [
        "### ¿Qué posibilidades hay de que un caballo iguale o supere el récord de Secretariat?"
      ],
      "metadata": {
        "id": "SHtqo0Ynvgyt"
      }
    },
    {
      "cell_type": "code",
      "source": [
        "# Take a million samples out of the Normal distribution: samples\n",
        "samples = np.random.normal(mu, sigma, size=1000000)\n",
        "\n",
        "# Compute the fraction that are faster than 144 seconds: prob\n",
        "prob = np.sum(samples <= 144) / len(samples)\n",
        "\n",
        "# Print the result\n",
        "print('Probability of besting Secretariat:', prob)"
      ],
      "metadata": {
        "id": "JJY_lDHDnsOs",
        "colab": {
          "base_uri": "https://localhost:8080/"
        },
        "outputId": "a309ca87-1b5d-4ea0-edb6-5ff233b09811"
      },
      "execution_count": 84,
      "outputs": [
        {
          "output_type": "stream",
          "name": "stdout",
          "text": [
            "Probability of besting Secretariat: 0.000634\n"
          ]
        }
      ]
    },
    {
      "cell_type": "markdown",
      "source": [
        "## Distribución exponencial \n",
        "\n",
        "- https://support.minitab.com/es-mx/minitab/18/help-and-how-to/probability-distributions-and-random-data/supporting-topics/distributions/exponential-distribution/\n",
        "\n",
        "- https://www.uv.es/ceaces/base/modelos%20de%20probabilidad/exponencial.htm"
      ],
      "metadata": {
        "id": "4I37nEaz5rUi"
      }
    },
    {
      "cell_type": "markdown",
      "source": [
        "<b> EJERCICIO <b/>\n",
        "\n",
        "- si tienes una historia, ¡puedes simularla!\n",
        "A veces, la historia que describe nuestra distribución de probabilidad no tiene una distribución con nombre que la acompañe. En estos casos, ¡no temas! Siempre puedes simularla. Lo haremos en este y en el siguiente ejercicio.\n",
        "\n",
        "- En los ejercicios anteriores, vimos el raro acontecimiento de los no-hitters en las Grandes Ligas de Béisbol. El bateo del ciclo, cuando un bateador consigue los cuatro tipos de hits en un solo juego, es otro evento raro del béisbol. Al igual que los no-hitters, esto puede modelarse como un proceso de Poisson, por lo que el tiempo entre los hits del ciclo también se distribuye exponencialmente.\n",
        "\n",
        "- ¿Cuánto tiempo hay que esperar para ver un no-hitter y luego que un bateador logre el ciclo? La idea es que tenemos que esperar algún tiempo para el no-hitter, y luego después del no-hitter, tenemos que esperar para golpear el ciclo. Dicho de otro modo, ¿cuál es el tiempo total de espera para la llegada de dos procesos de Poisson diferentes en sucesión? El tiempo total de espera es el tiempo que se espera para el no-hitter, más el tiempo que se espera para el hitting the cycle.\n",
        "\n",
        "- Ahora, escribirás una función para muestrear de la distribución descrita por esta historia.\n",
        "\n"
      ],
      "metadata": {
        "id": "tFLKUk1o8HPK"
      }
    },
    {
      "cell_type": "code",
      "source": [
        "def successive_poisson(tau1, tau2, size=1):\n",
        "    \"\"\"Compute time for arrival of 2 successive Poisson processes.\"\"\"\n",
        "    # Draw samples out of first exponential distribution: t1\n",
        "    t1 = np.random.exponential(tau1, size)\n",
        "\n",
        "    # Draw samples out of second exponential distribution: t2\n",
        "    t2 = np.random.exponential(tau2, size)\n",
        "\n",
        "    return t1 + t2"
      ],
      "metadata": {
        "id": "P8VIo-YZnsLl"
      },
      "execution_count": 86,
      "outputs": []
    },
    {
      "cell_type": "markdown",
      "source": [
        "Distribución de no-hitters y ciclos\n",
        "Ahora, utilizarás tu función de muestreo para calcular el tiempo de espera para observar un no-hitter y un bateo del ciclo. El tiempo medio de espera para un no-hitter es de 764 juegos, y el tiempo medio de espera para el bateo del ciclo es de 715 juegos."
      ],
      "metadata": {
        "id": "4UEwkrCr87il"
      }
    },
    {
      "cell_type": "code",
      "source": [
        "# Draw samples of waiting times: waiting_times\n",
        "waiting_times = successive_poisson(764, 715, 100000)\n",
        "\n",
        "# Make the histogram\n",
        "sns.set()\n",
        "plt.figure(figsize = (10,8))\n",
        "_ = plt.hist(waiting_times, bins = 100, density = True, histtype = 'step')\n",
        "\n",
        "\n",
        "# Label axes\n",
        "\n",
        "_ = plt.xlabel('x')\n",
        "_ = plt.ylabel('CDF')\n",
        "\n",
        "# Show the plot\n",
        "plt.show()\n"
      ],
      "metadata": {
        "id": "F6I0ArpfnsCf",
        "colab": {
          "base_uri": "https://localhost:8080/",
          "height": 502
        },
        "outputId": "cf59f8f4-c8ff-4d96-c91c-936fed38a6b1"
      },
      "execution_count": 89,
      "outputs": [
        {
          "output_type": "display_data",
          "data": {
            "text/plain": [
              "<Figure size 720x576 with 1 Axes>"
            ],
            "image/png": "[encoded data removed]"
          },
          "metadata": {}
        }
      ]
    },
    {
      "cell_type": "markdown",
      "source": [
        " Fíjate en que la PDF tiene un pico, a diferencia del tiempo de espera de un proceso de Poisson simple."
      ],
      "metadata": {
        "id": "aN9p0c-t9q9S"
      }
    },
    {
      "cell_type": "code",
      "source": [
        "x, y = ecdf(waiting_times)\n",
        "\n",
        "# Plot the CDFs and show the plot\n",
        "sns.set()\n",
        "plt.figure(figsize = (10,8))\n",
        "_ = plt.plot(x, y, marker='.', linestyle='none')\n",
        "_ = plt.xlabel('no -hitters % ciclye')\n",
        "_ = plt.ylabel('CDF')\n",
        "plt.show()\n"
      ],
      "metadata": {
        "colab": {
          "base_uri": "https://localhost:8080/",
          "height": 502
        },
        "id": "3lhvc3gM9Kvh",
        "outputId": "6dcc5caf-e8d5-4441-d0d2-702a5a4d29c9"
      },
      "execution_count": 91,
      "outputs": [
        {
          "output_type": "display_data",
          "data": {
            "text/plain": [
              "<Figure size 720x576 with 1 Axes>"
            ],
            "image/png": "[encoded data removed]"
          },
          "metadata": {}
        }
      ]
    }
  ]
}